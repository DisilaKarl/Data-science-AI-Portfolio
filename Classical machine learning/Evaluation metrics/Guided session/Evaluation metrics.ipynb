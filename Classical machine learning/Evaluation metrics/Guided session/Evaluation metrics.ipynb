{
 "cells": [
  {
   "cell_type": "markdown",
   "metadata": {
    "id": "I5iWT04uPXy6"
   },
   "source": [
    "# Evaluation Metrics"
   ]
  },
  {
   "cell_type": "markdown",
   "metadata": {
    "id": "YjF5Ur1lPyMM"
   },
   "source": [
    "\n",
    "\n",
    "## Introduction\n",
    "In machine learning, particularly in regression problems, evaluating a model's performance is crucial. It involves comparing different algorithms and understanding the impact of various parameters on the quality of the model's predictions. Regression problems aim to predict a continuous target variable based on different characteristics, such as predicting stock prices or the cost of items.\n",
    "\n",
    "The most commonly used metrics for evaluating regression models are:\n",
    "- Mean Absolute Error (MAE)\n",
    "- Mean Squared Error (MSE)\n",
    "- Root Mean Squared Error (RMSE)\n",
    "\n",
    "These metrics provide a comprehensive overview of model performance in regression scenarios.\n",
    "\n",
    "## Mean Absolute Error (MAE)\n",
    "\n",
    "MAE measures the average magnitude of errors in a model's predictions, indicating the average absolute error between actual and predicted values. It's calculated as:\n",
    "\n",
    "$ \\text{MAE} = \\frac{1}{n} \\sum_{i=1}^{n} | \\hat{y}_i - y_i | $\n",
    "\n",
    "MAE is robust against outliers and easy to interpret, as it returns values in the same units as the target variable.\n",
    "\n"
   ]
  },
  {
   "cell_type": "code",
   "execution_count": 1,
   "metadata": {
    "colab": {
     "base_uri": "https://localhost:8080/"
    },
    "id": "v96p95qcDwfU",
    "outputId": "a466e6e9-1a48-4fd7-9376-9e06b937b9a2"
   },
   "outputs": [
    {
     "name": "stdout",
     "output_type": "stream",
     "text": [
      "Mean Absolute Error: 0.18000000000000002\n"
     ]
    }
   ],
   "source": [
    "from sklearn.metrics import mean_absolute_error\n",
    "import numpy as np\n",
    "\n",
    "# actual and predicted values\n",
    "y_true = np.array([1, 2, 3, 4, 5])\n",
    "y_pred = np.array([0.7, 2.3, 2.9, 4, 5.2])\n",
    "\n",
    "# calculate MAE\n",
    "mae = mean_absolute_error(y_true, y_pred)\n",
    "print(\"Mean Absolute Error:\", mae)"
   ]
  },
  {
   "cell_type": "markdown",
   "metadata": {
    "id": "qJLACYIISaMg"
   },
   "source": [
    "### Practice"
   ]
  },
  {
   "cell_type": "code",
   "execution_count": 2,
   "metadata": {
    "id": "uYeGam9kSZN4"
   },
   "outputs": [],
   "source": [
    "import numpy as np  # import numpy as np\n",
    "import matplotlib.pyplot as plt  # import pyplot from matplotlib as plt\n",
    "from sklearn.metrics import mean_absolute_error  # import mean_absolute_error from the metrics subpackage\n",
    "from sklearn.linear_model import LinearRegression  # import LinearRegression\n",
    "from sklearn.model_selection import train_test_split  # import train_test_split\n",
    "\n",
    "# Generating synthetic data\n",
    "np.random.seed(0)\n",
    "X = 2 * np.random.rand(100, 1)\n",
    "y = 4 + 3 * X + np.random.randn(100, 1)"
   ]
  },
  {
   "cell_type": "code",
   "execution_count": 8,
   "metadata": {
    "id": "T-guySsjSsLW"
   },
   "outputs": [
    {
     "name": "stdout",
     "output_type": "stream",
     "text": [
      "Manually Calculated Mean Absolute Error: 0.7871952041936219\n",
      "Scikit-learn Calculated Mean Absolute Error: 0.7871952041936219\n"
     ]
    }
   ],
   "source": [
    "# Splitting data into training and testing sets\n",
    "X_train, X_test, y_train, y_test = train_test_split(X, y, test_size=0.2) # use the right function to split\n",
    "\n",
    "# Training a linear regression model\n",
    "model = model = LinearRegression()\n",
    "model.fit(X_train, y_train) #train the model\n",
    "\n",
    "# Making predictions\n",
    "y_pred = model.predict(X_test) #predict using the right test set\n",
    "\n",
    "# Manually calculating MAE\n",
    "mae_manual = np.mean(np.abs(y_pred - y_test))  # use the right formula\n",
    "\n",
    "# Using scikit-learn to calculate MAE\n",
    "mae_sklearn = mean_absolute_error(y_test, y_pred) # call the actual function to compare\n",
    "\n",
    "print(\"Manually Calculated Mean Absolute Error:\", mae_manual)\n",
    "print(\"Scikit-learn Calculated Mean Absolute Error:\", mae_sklearn) # those two values need to be the same"
   ]
  },
  {
   "cell_type": "markdown",
   "metadata": {
    "id": "_Xr0aSGWQJ7n"
   },
   "source": [
    "\n",
    "\n",
    "## Mean Squared Error (MSE)\n",
    "\n",
    "MSE measures the average squared difference between actual and predicted values. Unlike MAE, MSE is more sensitive to outliers as it squares the differences. It's expressed as:\n",
    "\n",
    "$ \\text{MSE} = \\frac{1}{n} \\sum_{i=1}^{n} ( \\hat{y}_i - y_i )^2 $\n",
    "\n"
   ]
  },
  {
   "cell_type": "code",
   "execution_count": 9,
   "metadata": {
    "id": "i9xU2DkLQP7e"
   },
   "outputs": [
    {
     "name": "stdout",
     "output_type": "stream",
     "text": [
      "Mean Squared Error: 0.8111606286982092\n"
     ]
    }
   ],
   "source": [
    "from sklearn.metrics import mean_squared_error\n",
    "\n",
    "# using the same y_true and y_pred from MAE example\n",
    "mse = mean_squared_error(y_test, y_pred)\n",
    "print(\"Mean Squared Error:\", mse)"
   ]
  },
  {
   "cell_type": "markdown",
   "metadata": {
    "id": "2NKWzXgvTQ7D"
   },
   "source": [
    "### Practice"
   ]
  },
  {
   "cell_type": "code",
   "execution_count": 10,
   "metadata": {
    "id": "Qo7nTxlvTQQD"
   },
   "outputs": [
    {
     "name": "stdout",
     "output_type": "stream",
     "text": [
      "Manually Calculated Mean Squared Error: 0.8111606286982092\n",
      "Scikit-learn Calculated Mean Squared Error: 0.8111606286982092\n"
     ]
    }
   ],
   "source": [
    "from sklearn.metrics import mean_squared_error  # Importing mean_squared_error from sklearn\n",
    "\n",
    "# Assuming the model and data are already defined and trained as per your previous code\n",
    "\n",
    "# Manually calculating MSE\n",
    "mse_manual = np.mean((y_pred - y_test) ** 2)  # Correct formula for MSE\n",
    "\n",
    "# Using scikit-learn to calculate MSE\n",
    "mse_sklearn = mean_squared_error(y_test, y_pred)  # Function to calculate MSE\n",
    "\n",
    "# Printing the results\n",
    "print(\"Manually Calculated Mean Squared Error:\", mse_manual)\n",
    "print(\"Scikit-learn Calculated Mean Squared Error:\", mse_sklearn)  # Both should match closely\n"
   ]
  },
  {
   "cell_type": "markdown",
   "metadata": {
    "id": "TobfEVj-QhQ9"
   },
   "source": [
    "## Root Mean Squared Error (RMSE)\n",
    "\n",
    "RMSE is the square root of MSE, providing a more interpretable metric as it's expressed in the same units as the target variable. It's calculated as:\n",
    "\n",
    "$ \\text{RMSE} = \\sqrt{\\text{MSE}} $\n",
    "\n"
   ]
  },
  {
   "cell_type": "code",
   "execution_count": 11,
   "metadata": {
    "id": "1NuiDqdKQdU2"
   },
   "outputs": [
    {
     "name": "stdout",
     "output_type": "stream",
     "text": [
      "Root Mean Squared Error: 0.9006445629093695\n"
     ]
    }
   ],
   "source": [
    "# using the mse calculated in the MSE example\n",
    "rmse = np.sqrt(mse_manual)\n",
    "print(\"Root Mean Squared Error:\", rmse)"
   ]
  },
  {
   "cell_type": "markdown",
   "metadata": {
    "id": "M225daOITsxB"
   },
   "source": [
    "### Practice"
   ]
  },
  {
   "cell_type": "code",
   "execution_count": 17,
   "metadata": {
    "id": "bOZ0jmO_TsHB"
   },
   "outputs": [
    {
     "name": "stdout",
     "output_type": "stream",
     "text": [
      "Manually Calculated Root Mean Squared Error: 0.9006445629093695\n",
      "Scikit-learn Calculated Root Mean Squared Error: 0.9006445629093695\n"
     ]
    }
   ],
   "source": [
    "# It's the same here, use the previous model you have trained !\n",
    "# Manually calculating RMSE\n",
    "# Manually calculating RMSE\n",
    "rmse_manual = np.sqrt(np.mean((y_pred - y_test) ** 2))  # sqrt of mean squared errors\n",
    "\n",
    "# Using scikit-learn to calculate RMSE\n",
    "rmse_sklearn = np.sqrt(mean_squared_error(y_test, y_pred))  # sqrt of MSE\n",
    "\n",
    "print(\"Manually Calculated Root Mean Squared Error:\", rmse_manual)\n",
    "print(\"Scikit-learn Calculated Root Mean Squared Error:\", rmse_sklearn)\n"
   ]
  },
  {
   "cell_type": "markdown",
   "metadata": {
    "id": "_csodQndVn8S"
   },
   "source": [
    "## Evaluation Metrics for Classification Problems\n"
   ]
  },
  {
   "cell_type": "markdown",
   "metadata": {
    "id": "qqRj2sOYVxUk"
   },
   "source": [
    "### Confusion Matrix\n",
    "\n",
    "\n",
    "#### Confusion Matrix\n",
    "\n",
    "The confusion matrix is a vital tool in evaluating classification models. It shows the number of correct and incorrect predictions, categorized into four types: True Positive (TP), True Negative (TN), False Positive (FP), and False Negative (FN)."
   ]
  },
  {
   "cell_type": "code",
   "execution_count": null,
   "metadata": {
    "id": "Gw6NPNLtV_8D"
   },
   "outputs": [
    {
     "name": "stdout",
     "output_type": "stream",
     "text": [
      "Confusion Matrix:\n",
      "[[10  0  0]\n",
      " [ 0  9  0]\n",
      " [ 0  0 11]]\n"
     ]
    }
   ],
   "source": [
    "from sklearn.metrics import confusion_matrix\n",
    "from sklearn.linear_model import LogisticRegression\n",
    "from sklearn.model_selection import train_test_split\n",
    "from sklearn.datasets import load_iris\n",
    "\n",
    "# Splitting the data into training and testing sets\n",
    "X_train, X_test, y_train, y_test = train_test_split(X, y, test_size=0.2, random_state=42)\n",
    "\n",
    "# Train your model\n",
    "clf = LogisticRegression(max_iter=200)  # max_iter may be needed if convergence warning appears\n",
    "\n",
    "# Fit the model (train it)\n",
    "clf.fit(X_train, y_train)\n",
    "\n",
    "# Predict the test set\n",
    "y_pred = clf.predict(X_test)\n",
    "\n",
    "# Calculate confusion matrix\n",
    "conf_mat = confusion_matrix(y_test, y_pred)\n",
    "\n",
    "# Print the confusion matrix\n",
    "print(\"Confusion Matrix:\")\n",
    "print(conf_mat)"
   ]
  },
  {
   "cell_type": "markdown",
   "metadata": {
    "id": "OKjYXICGWLgI"
   },
   "source": [
    "####Accuracy Score\n",
    "\n",
    "Accuracy measures the proportion of total correct predictions (both TP and TN) out of all predictions."
   ]
  },
  {
   "cell_type": "code",
   "execution_count": 31,
   "metadata": {
    "id": "pR8RTARRWNMx"
   },
   "outputs": [
    {
     "name": "stdout",
     "output_type": "stream",
     "text": [
      "Accuracy: 1.00\n"
     ]
    }
   ],
   "source": [
    "from sklearn.metrics import accuracy_score\n",
    "\n",
    "# Calculate the accuracy score\n",
    "accuracy = accuracy_score(y_test, y_pred)\n",
    "print(\"Accuracy: {:.2f}\".format(accuracy))\n"
   ]
  },
  {
   "cell_type": "markdown",
   "metadata": {
    "id": "KyxbNCanWRmT"
   },
   "source": [
    "####Specificity\n",
    "Specificity measures the model's ability to correctly identify negative instances."
   ]
  },
  {
   "cell_type": "code",
   "execution_count": 41,
   "metadata": {
    "id": "pX0i8yfuWVgh"
   },
   "outputs": [
    {
     "name": "stdout",
     "output_type": "stream",
     "text": [
      "[[10  0  0]\n",
      " [ 0  9  0]\n",
      " [ 0  0 11]]\n"
     ]
    },
    {
     "ename": "ValueError",
     "evalue": "too many values to unpack (expected 4)",
     "output_type": "error",
     "traceback": [
      "\u001b[1;31m---------------------------------------------------------------------------\u001b[0m",
      "\u001b[1;31mValueError\u001b[0m                                Traceback (most recent call last)",
      "Cell \u001b[1;32mIn[41], line 11\u001b[0m\n\u001b[0;32m      8\u001b[0m \u001b[38;5;28mprint\u001b[39m(conf_mat)\n\u001b[0;32m     10\u001b[0m \u001b[38;5;66;03m# Extraire les valeurs TN, FP, FN, TP de la matrice de confusion\u001b[39;00m\n\u001b[1;32m---> 11\u001b[0m tn, fp, fn, tp \u001b[38;5;241m=\u001b[39m conf_mat\u001b[38;5;241m.\u001b[39mravel()\n\u001b[0;32m     13\u001b[0m \u001b[38;5;66;03m# Calcul de la spécificité (TN / (TN + FP))\u001b[39;00m\n\u001b[0;32m     14\u001b[0m specificity \u001b[38;5;241m=\u001b[39m tn \u001b[38;5;241m/\u001b[39m (tn \u001b[38;5;241m+\u001b[39m fp)\n",
      "\u001b[1;31mValueError\u001b[0m: too many values to unpack (expected 4)"
     ]
    }
   ],
   "source": [
    "from sklearn.metrics import confusion_matrix\n",
    "\n",
    "# Supposons que vous avez déjà y_test et y_pred\n",
    "# Calcul de la matrice de confusion\n",
    "conf_mat = confusion_matrix(y_test, y_pred)\n",
    "\n",
    "# Vérifiez la taille de la matrice de confusion (elle doit être 2x2)\n",
    "print(conf_mat)\n",
    "\n",
    "# Extraire les valeurs TN, FP, FN, TP de la matrice de confusion\n",
    "tn, fp, fn, tp = conf_mat.ravel()\n",
    "\n",
    "# Calcul de la spécificité (TN / (TN + FP))\n",
    "specificity = tn / (tn + fp)\n",
    "\n",
    "# Affichage du résultat\n",
    "print(\"Specificité: {:.2f}\".format(specificity))\n"
   ]
  },
  {
   "cell_type": "markdown",
   "metadata": {
    "id": "LeqolCqLWaJi"
   },
   "source": [
    "####Precision and Recall\n",
    "Precision measures the proportion of positive identifications that were actually correct, while Recall measures the proportion of actual positives that were identified correctly."
   ]
  },
  {
   "cell_type": "markdown",
   "metadata": {
    "id": "7Zvrk2jDWitD"
   },
   "source": [
    "####F1-Score\n",
    "\n",
    "F1 Score is the harmonic mean of Precision and Recall, providing a balance between the two."
   ]
  },
  {
   "cell_type": "code",
   "execution_count": 50,
   "metadata": {
    "id": "JsTY4wtQWl0Q"
   },
   "outputs": [
    {
     "name": "stdout",
     "output_type": "stream",
     "text": [
      "F1 score: 1.00\n"
     ]
    }
   ],
   "source": [
    "from sklearn.metrics import f1_score\n",
    "\n",
    "# Calculer le score F1 pour une classification multiclasses\n",
    "f1 = f1_score(y_test, y_pred, average='macro')  # Vous pouvez aussi essayer 'micro' ou 'weighted'\n",
    "\n",
    "# Afficher le score F1\n",
    "print(\"F1 score: {:.2f}\".format(f1))\n",
    "\n",
    "\n"
   ]
  },
  {
   "cell_type": "markdown",
   "metadata": {
    "id": "SxJ9AWUKWtpJ"
   },
   "source": [
    "####ROC Curve and AUC\n",
    "The ROC Curve is a graphical representation of a classifier's performance, while AUC (Area Under the Curve) quantifies the overall ability of the model to discriminate between classes."
   ]
  },
  {
   "cell_type": "code",
   "execution_count": 57,
   "metadata": {
    "id": "6m4rxLlYWzoq"
   },
   "outputs": [
    {
     "data": {
      "image/png": "[encoded data removed]",
      "text/plain": [
       "<Figure size 640x480 with 1 Axes>"
      ]
     },
     "metadata": {},
     "output_type": "display_data"
    }
   ],
   "source": [
    "from sklearn.metrics import roc_curve, auc\n",
    "import matplotlib.pyplot as plt\n",
    "from sklearn.preprocessing import label_binarize  # Importation de label_binarize\n",
    "\n",
    "# TODO: Binarize the labels\n",
    "y_test_bin = label_binarize(y_test, classes=[0, 1, 2])  # Adaptez les classes selon votre problème\n",
    "\n",
    "# TODO: Compute the probabilities of the positive class\n",
    "y_probs = clf.predict_proba(X_test)\n",
    "\n",
    "# TODO: Calculate the ROC curve and AUC\n",
    "fpr, tpr, _ = roc_curve(y_test_bin[:, 0], y_probs[:, 0])  # Utiliser la classe 0 comme exemple\n",
    "roc_auc = auc(fpr, tpr)\n",
    "\n",
    "# Plotting\n",
    "plt.plot(fpr, tpr, color='darkorange', lw=2, label='ROC curve (area = %0.2f)' % roc_auc)\n",
    "plt.plot([0, 1], [0, 1], color='navy', lw=2, linestyle='--')  # Ligne de chance (diagonale)\n",
    "plt.xlabel('False Positive Rate')\n",
    "plt.ylabel('True Positive Rate')\n",
    "plt.title('Receiver Operating Characteristic')\n",
    "plt.legend(loc=\"lower right\")\n",
    "plt.show()\n",
    "\n"
   ]
  }
 ],
 "metadata": {
  "colab": {
   "provenance": []
  },
  "kernelspec": {
   "display_name": "Python 3",
   "name": "python3"
  },
  "language_info": {
   "codemirror_mode": {
    "name": "ipython",
    "version": 3
   },
   "file_extension": ".py",
   "mimetype": "text/x-python",
   "name": "python",
   "nbconvert_exporter": "python",
   "pygments_lexer": "ipython3",
   "version": "3.13.0"
  }
 },
 "nbformat": 4,
 "nbformat_minor": 0
}
