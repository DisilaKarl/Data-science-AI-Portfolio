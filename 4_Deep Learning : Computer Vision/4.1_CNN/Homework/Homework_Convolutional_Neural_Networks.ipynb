{
  "nbformat": 4,
  "nbformat_minor": 0,
  "metadata": {
    "colab": {
      "provenance": []
    },
    "kernelspec": {
      "name": "python3",
      "display_name": "Python 3"
    },
    "language_info": {
      "name": "python"
    }
  },
  "cells": [
    {
      "cell_type": "markdown",
      "source": [
        "You have been given a dataset comprising of 27305 facial images that are labeled based on age, gender, and ethnicity. Your task is to build three distinct Convolutional Neural Network (CNN) models to predict the gender, ethnicity, and age of individuals in the images.\n",
        "\n",
        "To start, you will need to preprocess the data by casting the pixel values to a NumPy array and then reshaping it to the original size of the images, which is 48x48x1. It is also advisable to explore the dataset before building any models. You can do this by visualizing feature distributions and examining examples of the dataset. This exploration process can help you identify any anomalies in the dataset, understand its characteristics, and guide your choice of CNN architecture.\n",
        "\n",
        "Once you have preprocessed the data and explored the dataset, you can start building the CNN models. For each task, you will need to select the appropriate loss function and metrics. For instance, binary cross-entropy can be used for gender classification, categorical cross-entropy can be used for ethnicity classification, and mean absolute error or mean squared error can be used for age regression.\n",
        "\n",
        "In addition to the techniques you learned in previous units, it is crucial to tune your model's hyperparameters, such as the learning rate, number of filters, and kernel size. It is also advisable to use a validation set in addition to the train and test sets to monitor your model's performance and prevent overfitting.\n",
        "\n",
        "Finally, after training and testing your models on the dataset, it is a good practice to test the models on some images of your choice. This step can help you gain insights into the model's strengths and weaknesses, and identify areas for improvement.\n",
        "\n",
        "Dataset\n",
        "\n",
        "Link to the dataset : https://drive.google.com/file/d/1Q0gh-UF-BQFfLdQ3VjwU5pSWVu0nWCmj/view?usp=sharing"
      ],
      "metadata": {
        "id": "3SyKNeZdx9H1"
      }
    },
    {
      "cell_type": "markdown",
      "source": [
        "1. Import and process data"
      ],
      "metadata": {
        "id": "Tz5-crykrXMH"
      }
    },
    {
      "cell_type": "code",
      "source": [
        "from sklearn.model_selection import train_test_split\n",
        "import numpy as np\n",
        "\n",
        "# Assuming 'images' is your preprocessed dataset and 'data' contains the labels\n",
        "\n",
        "# Convert target variables to appropriate types\n",
        "y_gender = data['gender'].values  # Gender labels\n",
        "y_ethnicity = data['ethnicity'].values  # Ethnicity labels (make sure these are categorical)\n",
        "y_age = data['age'].values  # Age labels (regression)\n",
        "\n",
        "# Split the dataset for each target (gender, ethnicity, and age)\n",
        "X_train, X_test, y_train_gender, y_test_gender = train_test_split(images, y_gender, test_size=0.2, random_state=42)\n",
        "_, _, y_train_ethnicity, y_test_ethnicity = train_test_split(images, y_ethnicity, test_size=0.2, random_state=42)\n",
        "_, _, y_train_age, y_test_age = train_test_split(images, y_age, test_size=0.2, random_state=42)\n",
        "\n",
        "# Encode ethnicity labels for multi-class classification (if not already encoded)\n",
        "from tensorflow.keras.utils import to_categorical\n",
        "y_train_ethnicity = to_categorical(y_train_ethnicity, num_classes=len(np.unique(y_ethnicity)))\n",
        "y_test_ethnicity = to_categorical(y_test_ethnicity, num_classes=len(np.unique(y_ethnicity)))\n",
        "\n",
        "# Normalize the image data (0-255 -> 0.0 - 1.0)\n",
        "X_train = X_train / 255.0\n",
        "X_test = X_test / 255.0\n"
      ],
      "metadata": {
        "id": "pVqWg-lOuUvB"
      },
      "execution_count": 22,
      "outputs": []
    },
    {
      "cell_type": "markdown",
      "source": [
        "2. Data exploration"
      ],
      "metadata": {
        "id": "NG-LxNdvraWT"
      }
    },
    {
      "cell_type": "code",
      "source": [
        "import matplotlib.pyplot as plt\n",
        "\n",
        "# Visualize an image from the dataset\n",
        "plt.imshow(X_train[0].reshape(48, 48), cmap='gray')\n",
        "plt.show()\n"
      ],
      "metadata": {
        "colab": {
          "base_uri": "https://localhost:8080/",
          "height": 431
        },
        "id": "CF-_U6NYrixS",
        "outputId": "f7a3ab31-39bb-4e6a-9827-58da769972e1"
      },
      "execution_count": 23,
      "outputs": [
        {
          "output_type": "display_data",
          "data": {
            "text/plain": [
              "<Figure size 640x480 with 1 Axes>"
            ],
            "image/png": "[encoded data removed]"
          },
          "metadata": {}
        }
      ]
    },
    {
      "cell_type": "markdown",
      "source": [
        "3. Building CNN"
      ],
      "metadata": {
        "id": "Mk7115hfrqUK"
      }
    },
    {
      "cell_type": "code",
      "source": [
        "# Model 1: Gender Classification\n",
        "from tensorflow.keras.models import Sequential\n",
        "from tensorflow.keras.layers import Conv2D, MaxPooling2D, Flatten, Dense, Dropout\n",
        "from tensorflow.keras.optimizers import Adam\n",
        "\n",
        "# Build the CNN model for Gender Prediction\n",
        "def build_gender_model():\n",
        "    model = Sequential()\n",
        "\n",
        "    # First convolutional layer\n",
        "    model.add(Conv2D(32, (3, 3), activation='relu', input_shape=(48, 48, 1)))\n",
        "    model.add(MaxPooling2D(pool_size=(2, 2)))\n",
        "\n",
        "    # Second convolutional layer\n",
        "    model.add(Conv2D(64, (3, 3), activation='relu'))\n",
        "    model.add(MaxPooling2D(pool_size=(2, 2)))\n",
        "\n",
        "    # Flatten the output for the fully connected layers\n",
        "    model.add(Flatten())\n",
        "\n",
        "    # Fully connected layers\n",
        "    model.add(Dense(128, activation='relu'))\n",
        "    model.add(Dropout(0.5))\n",
        "    model.add(Dense(1, activation='sigmoid'))  # Sigmoid for binary classification\n",
        "\n",
        "    # Compile the model\n",
        "    model.compile(optimizer=Adam(), loss='binary_crossentropy', metrics=['accuracy'])\n",
        "    return model\n"
      ],
      "metadata": {
        "id": "f3khpaMkrriW"
      },
      "execution_count": 24,
      "outputs": []
    },
    {
      "cell_type": "code",
      "source": [
        "#Model 2: Ethnicity Classification\n",
        "\n",
        "def build_ethnicity_model():\n",
        "    model = Sequential()\n",
        "\n",
        "    # First convolutional layer\n",
        "    model.add(Conv2D(32, (3, 3), activation='relu', input_shape=(48, 48, 1)))\n",
        "    model.add(MaxPooling2D(pool_size=(2, 2)))\n",
        "\n",
        "    # Second convolutional layer\n",
        "    model.add(Conv2D(64, (3, 3), activation='relu'))\n",
        "    model.add(MaxPooling2D(pool_size=(2, 2)))\n",
        "\n",
        "    # Flatten the output for the fully connected layers\n",
        "    model.add(Flatten())\n",
        "\n",
        "    # Fully connected layers\n",
        "    model.add(Dense(128, activation='relu'))\n",
        "    model.add(Dropout(0.5))\n",
        "    model.add(Dense(len(data['ethnicity'].unique()), activation='softmax'))  # Softmax for multi-class classification\n",
        "\n",
        "    # Compile the model\n",
        "    model.compile(optimizer=Adam(), loss='categorical_crossentropy', metrics=['accuracy'])\n",
        "    return model\n",
        "\n"
      ],
      "metadata": {
        "id": "2XVfZR5Srvul"
      },
      "execution_count": 25,
      "outputs": []
    },
    {
      "cell_type": "code",
      "source": [
        "# Model 3: Age Regression\n",
        "\n",
        "def build_age_model():\n",
        "    model = Sequential()\n",
        "\n",
        "    # First convolutional layer\n",
        "    model.add(Conv2D(32, (3, 3), activation='relu', input_shape=(48, 48, 1)))\n",
        "    model.add(MaxPooling2D(pool_size=(2, 2)))\n",
        "\n",
        "    # Second convolutional layer\n",
        "    model.add(Conv2D(64, (3, 3), activation='relu'))\n",
        "    model.add(MaxPooling2D(pool_size=(2, 2)))\n",
        "\n",
        "    # Flatten the output for the fully connected layers\n",
        "    model.add(Flatten())\n",
        "\n",
        "    # Fully connected layers\n",
        "    model.add(Dense(128, activation='relu'))\n",
        "    model.add(Dropout(0.5))\n",
        "    model.add(Dense(1))  # Linear output for regression\n",
        "\n",
        "    # Compile the model\n",
        "    model.compile(optimizer=Adam(), loss='mean_absolute_error', metrics=['mae'])\n",
        "    return model\n"
      ],
      "metadata": {
        "id": "lnS5CeP8r4pY"
      },
      "execution_count": 26,
      "outputs": []
    },
    {
      "cell_type": "markdown",
      "source": [
        "4. Hyperparameter Tuning and Model Training"
      ],
      "metadata": {
        "id": "7Cm3FrPor_Pc"
      }
    },
    {
      "cell_type": "code",
      "source": [
        "import keras_tuner as kt\n",
        "\n",
        "# Hyperparameter tuning function\n",
        "def model_builder(hp):\n",
        "    model = Sequential()\n",
        "\n",
        "    # First convolutional layer with tunable number of filters\n",
        "    model.add(Conv2D(\n",
        "        hp.Int('filters_1', min_value=32, max_value=128, step=32),\n",
        "        (3, 3),\n",
        "        activation='relu',\n",
        "        input_shape=(48, 48, 1)\n",
        "    ))\n",
        "    model.add(MaxPooling2D(pool_size=(2, 2)))\n",
        "\n",
        "    # Second convolutional layer\n",
        "    model.add(Conv2D(\n",
        "        hp.Int('filters_2', min_value=64, max_value=256, step=64),\n",
        "        (3, 3),\n",
        "        activation='relu'\n",
        "    ))\n",
        "    model.add(MaxPooling2D(pool_size=(2, 2)))\n",
        "\n",
        "    # Flatten the output for the fully connected layers\n",
        "    model.add(Flatten())\n",
        "\n",
        "    # Fully connected layers\n",
        "    model.add(Dense(128, activation='relu'))\n",
        "    model.add(Dropout(0.5))\n",
        "    model.add(Dense(1, activation='sigmoid'))  # Change for different tasks (e.g., softmax for ethnicity)\n",
        "\n",
        "    # Compile the model with tunable learning rate\n",
        "    model.compile(\n",
        "        optimizer=Adam(learning_rate=hp.Float('learning_rate', min_value=1e-5, max_value=1e-2, sampling='LOG')),\n",
        "        loss='binary_crossentropy',\n",
        "        metrics=['accuracy']\n",
        "    )\n",
        "    return model\n",
        "\n",
        "# Create a tuner to search the best hyperparameters\n",
        "tuner = kt.RandomSearch(\n",
        "    model_builder,\n",
        "    objective='val_accuracy',\n",
        "    max_trials=10,\n",
        "    executions_per_trial=3,\n",
        "    directory='project_dir',\n",
        "    project_name='gender_model_tuning'\n",
        ")\n",
        "\n",
        "# Search for the best hyperparameters\n",
        "tuner.search(X_train, y_train_gender, epochs=10, validation_data=(X_test, y_test_gender))\n"
      ],
      "metadata": {
        "colab": {
          "base_uri": "https://localhost:8080/"
        },
        "id": "Oi-51fzPt95m",
        "outputId": "18a87216-f07a-48b5-9afb-4d3af3b60268"
      },
      "execution_count": null,
      "outputs": [
        {
          "metadata": {
            "tags": null
          },
          "name": "stderr",
          "output_type": "stream",
          "text": [
            "/usr/local/lib/python3.11/dist-packages/keras/src/layers/convolutional/base_conv.py:107: UserWarning: Do not pass an `input_shape`/`input_dim` argument to a layer. When using Sequential models, prefer using an `Input(shape)` object as the first layer in the model instead.\n",
            "  super().__init__(activity_regularizer=activity_regularizer, **kwargs)\n"
          ]
        },
        {
          "output_type": "stream",
          "name": "stdout",
          "text": [
            "\n",
            "Search: Running Trial #1\n",
            "\n",
            "Value             |Best Value So Far |Hyperparameter\n",
            "128               |128               |filters_1\n",
            "128               |128               |filters_2\n",
            "0.0010407         |0.0010407         |learning_rate\n",
            "\n",
            "Epoch 1/10\n",
            "\u001b[1m593/593\u001b[0m \u001b[32m━━━━━━━━━━━━━━━━━━━━\u001b[0m\u001b[37m\u001b[0m \u001b[1m264s\u001b[0m 441ms/step - accuracy: 0.5196 - loss: 0.6925 - val_accuracy: 0.5206 - val_loss: 0.6924\n",
            "Epoch 2/10\n",
            "\u001b[1m593/593\u001b[0m \u001b[32m━━━━━━━━━━━━━━━━━━━━\u001b[0m\u001b[37m\u001b[0m \u001b[1m262s\u001b[0m 441ms/step - accuracy: 0.5235 - loss: 0.6921 - val_accuracy: 0.5206 - val_loss: 0.6923\n",
            "Epoch 3/10\n",
            "\u001b[1m593/593\u001b[0m \u001b[32m━━━━━━━━━━━━━━━━━━━━\u001b[0m\u001b[37m\u001b[0m \u001b[1m260s\u001b[0m 437ms/step - accuracy: 0.5211 - loss: 0.6924 - val_accuracy: 0.5206 - val_loss: 0.6923\n",
            "Epoch 4/10\n",
            "\u001b[1m593/593\u001b[0m \u001b[32m━━━━━━━━━━━━━━━━━━━━\u001b[0m\u001b[37m\u001b[0m \u001b[1m265s\u001b[0m 442ms/step - accuracy: 0.5237 - loss: 0.6922 - val_accuracy: 0.5206 - val_loss: 0.6923\n",
            "Epoch 5/10\n",
            "\u001b[1m593/593\u001b[0m \u001b[32m━━━━━━━━━━━━━━━━━━━━\u001b[0m\u001b[37m\u001b[0m \u001b[1m313s\u001b[0m 427ms/step - accuracy: 0.5189 - loss: 0.6925 - val_accuracy: 0.5206 - val_loss: 0.6924\n",
            "Epoch 6/10\n",
            "\u001b[1m593/593\u001b[0m \u001b[32m━━━━━━━━━━━━━━━━━━━━\u001b[0m\u001b[37m\u001b[0m \u001b[1m269s\u001b[0m 439ms/step - accuracy: 0.5245 - loss: 0.6920 - val_accuracy: 0.5206 - val_loss: 0.6923\n",
            "Epoch 7/10\n",
            "\u001b[1m593/593\u001b[0m \u001b[32m━━━━━━━━━━━━━━━━━━━━\u001b[0m\u001b[37m\u001b[0m \u001b[1m260s\u001b[0m 436ms/step - accuracy: 0.5252 - loss: 0.6920 - val_accuracy: 0.5206 - val_loss: 0.6923\n",
            "Epoch 8/10\n",
            "\u001b[1m593/593\u001b[0m \u001b[32m━━━━━━━━━━━━━━━━━━━━\u001b[0m\u001b[37m\u001b[0m \u001b[1m265s\u001b[0m 440ms/step - accuracy: 0.5262 - loss: 0.6919 - val_accuracy: 0.5206 - val_loss: 0.6923\n",
            "Epoch 9/10\n",
            "\u001b[1m593/593\u001b[0m \u001b[32m━━━━━━━━━━━━━━━━━━━━\u001b[0m\u001b[37m\u001b[0m \u001b[1m266s\u001b[0m 448ms/step - accuracy: 0.5215 - loss: 0.6923 - val_accuracy: 0.5206 - val_loss: 0.6923\n",
            "Epoch 10/10\n",
            "\u001b[1m593/593\u001b[0m \u001b[32m━━━━━━━━━━━━━━━━━━━━\u001b[0m\u001b[37m\u001b[0m \u001b[1m321s\u001b[0m 446ms/step - accuracy: 0.5235 - loss: 0.6921 - val_accuracy: 0.5206 - val_loss: 0.6923\n",
            "Epoch 1/10\n",
            "\u001b[1m593/593\u001b[0m \u001b[32m━━━━━━━━━━━━━━━━━━━━\u001b[0m\u001b[37m\u001b[0m \u001b[1m261s\u001b[0m 437ms/step - accuracy: 0.5229 - loss: 0.6929 - val_accuracy: 0.5206 - val_loss: 0.6923\n",
            "Epoch 2/10\n",
            "\u001b[1m593/593\u001b[0m \u001b[32m━━━━━━━━━━━━━━━━━━━━\u001b[0m\u001b[37m\u001b[0m \u001b[1m260s\u001b[0m 433ms/step - accuracy: 0.5255 - loss: 0.6922 - val_accuracy: 0.5206 - val_loss: 0.6923\n",
            "Epoch 3/10\n",
            "\u001b[1m593/593\u001b[0m \u001b[32m━━━━━━━━━━━━━━━━━━━━\u001b[0m\u001b[37m\u001b[0m \u001b[1m260s\u001b[0m 430ms/step - accuracy: 0.5261 - loss: 0.6921 - val_accuracy: 0.5206 - val_loss: 0.6923\n",
            "Epoch 4/10\n",
            "\u001b[1m593/593\u001b[0m \u001b[32m━━━━━━━━━━━━━━━━━━━━\u001b[0m\u001b[37m\u001b[0m \u001b[1m259s\u001b[0m 426ms/step - accuracy: 0.5196 - loss: 0.6925 - val_accuracy: 0.5206 - val_loss: 0.6923\n",
            "Epoch 5/10\n",
            "\u001b[1m593/593\u001b[0m \u001b[32m━━━━━━━━━━━━━━━━━━━━\u001b[0m\u001b[37m\u001b[0m \u001b[1m269s\u001b[0m 437ms/step - accuracy: 0.5198 - loss: 0.6926 - val_accuracy: 0.5206 - val_loss: 0.6923\n",
            "Epoch 6/10\n",
            "\u001b[1m593/593\u001b[0m \u001b[32m━━━━━━━━━━━━━━━━━━━━\u001b[0m\u001b[37m\u001b[0m \u001b[1m260s\u001b[0m 434ms/step - accuracy: 0.5255 - loss: 0.6920 - val_accuracy: 0.5206 - val_loss: 0.6923\n",
            "Epoch 7/10\n",
            "\u001b[1m593/593\u001b[0m \u001b[32m━━━━━━━━━━━━━━━━━━━━\u001b[0m\u001b[37m\u001b[0m \u001b[1m265s\u001b[0m 439ms/step - accuracy: 0.5274 - loss: 0.6917 - val_accuracy: 0.5206 - val_loss: 0.6923\n",
            "Epoch 8/10\n",
            "\u001b[1m593/593\u001b[0m \u001b[32m━━━━━━━━━━━━━━━━━━━━\u001b[0m\u001b[37m\u001b[0m \u001b[1m263s\u001b[0m 440ms/step - accuracy: 0.5230 - loss: 0.6921 - val_accuracy: 0.5206 - val_loss: 0.6923\n",
            "Epoch 9/10\n",
            "\u001b[1m593/593\u001b[0m \u001b[32m━━━━━━━━━━━━━━━━━━━━\u001b[0m\u001b[37m\u001b[0m \u001b[1m257s\u001b[0m 433ms/step - accuracy: 0.5261 - loss: 0.6918 - val_accuracy: 0.5206 - val_loss: 0.6923\n",
            "Epoch 10/10\n",
            "\u001b[1m593/593\u001b[0m \u001b[32m━━━━━━━━━━━━━━━━━━━━\u001b[0m\u001b[37m\u001b[0m \u001b[1m264s\u001b[0m 437ms/step - accuracy: 0.5191 - loss: 0.6924 - val_accuracy: 0.5206 - val_loss: 0.6923\n",
            "Epoch 1/10\n",
            "\u001b[1m564/593\u001b[0m \u001b[32m━━━━━━━━━━━━━━━━━━━\u001b[0m\u001b[37m━\u001b[0m \u001b[1m11s\u001b[0m 401ms/step - accuracy: 0.5138 - loss: 0.6923"
          ]
        }
      ]
    },
    {
      "cell_type": "markdown",
      "source": [
        "5. Training the Model (After Hyperparameter Tuning)"
      ],
      "metadata": {
        "id": "uvoobBtNueN8"
      }
    },
    {
      "cell_type": "code",
      "source": [
        "# Get the best model from the tuner\n",
        "best_model = tuner.get_best_models(num_models=1)[0]\n",
        "\n",
        "# Train the best model on the data\n",
        "best_model.fit(X_train, y_train_gender, epochs=10, batch_size=32, validation_data=(X_test, y_test_gender))"
      ],
      "metadata": {
        "id": "5-uzaoZl_9lI"
      },
      "execution_count": null,
      "outputs": []
    }
  ]
}