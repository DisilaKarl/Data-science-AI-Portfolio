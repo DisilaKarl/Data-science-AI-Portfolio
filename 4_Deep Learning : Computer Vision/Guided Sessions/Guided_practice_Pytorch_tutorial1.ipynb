{
  "cells": [
    {
      "cell_type": "code",
      "execution_count": null,
      "metadata": {
        "id": "Ct9_wY7sVsCf"
      },
      "outputs": [],
      "source": [
        "import torch\n",
        "import torch.nn as nn\n",
        "import torch.optim as optim\n",
        "from sklearn.datasets import make_regression\n",
        "from sklearn.model_selection import train_test_split\n",
        "from sklearn.preprocessing import StandardScaler\n"
      ]
    },
    {
      "cell_type": "code",
      "execution_count": null,
      "metadata": {
        "id": "gr44a5MvVsCi"
      },
      "outputs": [],
      "source": [
        "# Step 1: Generate and preprocess the dataset\n",
        "X, y = make_regression(n_samples=500, n_features=1, noise=10.0, random_state=42)\n",
        "y = y.reshape(-1, 1)\n",
        "\n",
        "scaler_X = StandardScaler()\n",
        "scaler_y = StandardScaler()\n",
        "X = scaler_X.fit_transform(X)\n",
        "y = scaler_y.fit_transform(y)"
      ]
    },
    {
      "cell_type": "code",
      "execution_count": null,
      "metadata": {
        "id": "qgbODZYhVsCk"
      },
      "outputs": [],
      "source": [
        "X_train, X_val, y_train, y_val = train_test_split(X, y, test_size=0.2, random_state=42)\n",
        "\n",
        "X_train_tensor = torch.tensor(X_train, dtype=torch.float32)\n",
        "y_train_tensor = torch.tensor(y_train, dtype=torch.float32)\n",
        "X_val_tensor = torch.tensor(X_val, dtype=torch.float32)\n",
        "y_val_tensor = torch.tensor(y_val, dtype=torch.float32)"
      ]
    },
    {
      "cell_type": "code",
      "execution_count": null,
      "metadata": {
        "id": "edAzMGZaVsCl"
      },
      "outputs": [],
      "source": [
        "# Step 2: Define the MLP model\n",
        "class MLP(nn.Module):\n",
        "    def __init__(self):\n",
        "        super(MLP, self).__init__()\n",
        "        self.fc1 = nn.Linear(1, 4)  # Changed input size to 1 to match data\n",
        "        self.fc2 = nn.Linear(4, 1)  # Hidden and output layer sizes\n",
        "\n",
        "    def forward(self, x):\n",
        "        x = torch.relu(self.fc1(x))\n",
        "        x = self.fc2(x)\n",
        "        return x"
      ]
    },
    {
      "cell_type": "code",
      "execution_count": null,
      "metadata": {
        "id": "rbwXQKpTVsCm"
      },
      "outputs": [],
      "source": [
        "model = MLP()\n",
        "\n",
        "# Step 3: Set up the loss function and optimizer\n",
        "criterion = nn.MSELoss()  # Choose a loss function (e.g., MSELoss)\n",
        "optimizer = optim.SGD(model.parameters(), lr=0.01)  # Choose an optimizer and learning rate"
      ]
    },
    {
      "cell_type": "code",
      "execution_count": null,
      "metadata": {
        "id": "i9raR87sVsCn",
        "outputId": "3734ed36-bf48-48c9-e040-cb2a8027c155",
        "colab": {
          "base_uri": "https://localhost:8080/"
        }
      },
      "outputs": [
        {
          "output_type": "stream",
          "name": "stdout",
          "text": [
            "Epoch [1/100], Loss: 0.7463, Val Loss: 0.6483\n",
            "Epoch [2/100], Loss: 0.7318, Val Loss: 0.6353\n",
            "Epoch [3/100], Loss: 0.7177, Val Loss: 0.6227\n",
            "Epoch [4/100], Loss: 0.7040, Val Loss: 0.6104\n",
            "Epoch [5/100], Loss: 0.6906, Val Loss: 0.5985\n",
            "Epoch [6/100], Loss: 0.6775, Val Loss: 0.5869\n",
            "Epoch [7/100], Loss: 0.6647, Val Loss: 0.5755\n",
            "Epoch [8/100], Loss: 0.6522, Val Loss: 0.5644\n",
            "Epoch [9/100], Loss: 0.6400, Val Loss: 0.5536\n",
            "Epoch [10/100], Loss: 0.6280, Val Loss: 0.5431\n",
            "Epoch [11/100], Loss: 0.6163, Val Loss: 0.5328\n",
            "Epoch [12/100], Loss: 0.6048, Val Loss: 0.5226\n",
            "Epoch [13/100], Loss: 0.5935, Val Loss: 0.5127\n",
            "Epoch [14/100], Loss: 0.5824, Val Loss: 0.5030\n",
            "Epoch [15/100], Loss: 0.5715, Val Loss: 0.4934\n",
            "Epoch [16/100], Loss: 0.5608, Val Loss: 0.4841\n",
            "Epoch [17/100], Loss: 0.5503, Val Loss: 0.4749\n",
            "Epoch [18/100], Loss: 0.5400, Val Loss: 0.4658\n",
            "Epoch [19/100], Loss: 0.5299, Val Loss: 0.4570\n",
            "Epoch [20/100], Loss: 0.5199, Val Loss: 0.4482\n",
            "Epoch [21/100], Loss: 0.5101, Val Loss: 0.4396\n",
            "Epoch [22/100], Loss: 0.5004, Val Loss: 0.4312\n",
            "Epoch [23/100], Loss: 0.4908, Val Loss: 0.4229\n",
            "Epoch [24/100], Loss: 0.4814, Val Loss: 0.4148\n",
            "Epoch [25/100], Loss: 0.4722, Val Loss: 0.4068\n",
            "Epoch [26/100], Loss: 0.4631, Val Loss: 0.3988\n",
            "Epoch [27/100], Loss: 0.4541, Val Loss: 0.3911\n",
            "Epoch [28/100], Loss: 0.4453, Val Loss: 0.3834\n",
            "Epoch [29/100], Loss: 0.4366, Val Loss: 0.3759\n",
            "Epoch [30/100], Loss: 0.4280, Val Loss: 0.3685\n",
            "Epoch [31/100], Loss: 0.4195, Val Loss: 0.3612\n",
            "Epoch [32/100], Loss: 0.4112, Val Loss: 0.3540\n",
            "Epoch [33/100], Loss: 0.4030, Val Loss: 0.3470\n",
            "Epoch [34/100], Loss: 0.3949, Val Loss: 0.3400\n",
            "Epoch [35/100], Loss: 0.3869, Val Loss: 0.3332\n",
            "Epoch [36/100], Loss: 0.3791, Val Loss: 0.3265\n",
            "Epoch [37/100], Loss: 0.3714, Val Loss: 0.3199\n",
            "Epoch [38/100], Loss: 0.3638, Val Loss: 0.3134\n",
            "Epoch [39/100], Loss: 0.3563, Val Loss: 0.3070\n",
            "Epoch [40/100], Loss: 0.3489, Val Loss: 0.3007\n",
            "Epoch [41/100], Loss: 0.3417, Val Loss: 0.2945\n",
            "Epoch [42/100], Loss: 0.3345, Val Loss: 0.2884\n",
            "Epoch [43/100], Loss: 0.3275, Val Loss: 0.2824\n",
            "Epoch [44/100], Loss: 0.3205, Val Loss: 0.2765\n",
            "Epoch [45/100], Loss: 0.3137, Val Loss: 0.2707\n",
            "Epoch [46/100], Loss: 0.3069, Val Loss: 0.2649\n",
            "Epoch [47/100], Loss: 0.3003, Val Loss: 0.2593\n",
            "Epoch [48/100], Loss: 0.2938, Val Loss: 0.2537\n",
            "Epoch [49/100], Loss: 0.2874, Val Loss: 0.2483\n",
            "Epoch [50/100], Loss: 0.2810, Val Loss: 0.2429\n",
            "Epoch [51/100], Loss: 0.2748, Val Loss: 0.2377\n",
            "Epoch [52/100], Loss: 0.2687, Val Loss: 0.2325\n",
            "Epoch [53/100], Loss: 0.2627, Val Loss: 0.2274\n",
            "Epoch [54/100], Loss: 0.2567, Val Loss: 0.2224\n",
            "Epoch [55/100], Loss: 0.2509, Val Loss: 0.2175\n",
            "Epoch [56/100], Loss: 0.2452, Val Loss: 0.2127\n",
            "Epoch [57/100], Loss: 0.2396, Val Loss: 0.2080\n",
            "Epoch [58/100], Loss: 0.2342, Val Loss: 0.2034\n",
            "Epoch [59/100], Loss: 0.2288, Val Loss: 0.1988\n",
            "Epoch [60/100], Loss: 0.2235, Val Loss: 0.1944\n",
            "Epoch [61/100], Loss: 0.2183, Val Loss: 0.1900\n",
            "Epoch [62/100], Loss: 0.2132, Val Loss: 0.1857\n",
            "Epoch [63/100], Loss: 0.2082, Val Loss: 0.1815\n",
            "Epoch [64/100], Loss: 0.2033, Val Loss: 0.1774\n",
            "Epoch [65/100], Loss: 0.1985, Val Loss: 0.1733\n",
            "Epoch [66/100], Loss: 0.1938, Val Loss: 0.1694\n",
            "Epoch [67/100], Loss: 0.1892, Val Loss: 0.1655\n",
            "Epoch [68/100], Loss: 0.1847, Val Loss: 0.1617\n",
            "Epoch [69/100], Loss: 0.1803, Val Loss: 0.1580\n",
            "Epoch [70/100], Loss: 0.1760, Val Loss: 0.1544\n",
            "Epoch [71/100], Loss: 0.1718, Val Loss: 0.1509\n",
            "Epoch [72/100], Loss: 0.1677, Val Loss: 0.1474\n",
            "Epoch [73/100], Loss: 0.1637, Val Loss: 0.1440\n",
            "Epoch [74/100], Loss: 0.1597, Val Loss: 0.1407\n",
            "Epoch [75/100], Loss: 0.1559, Val Loss: 0.1374\n",
            "Epoch [76/100], Loss: 0.1521, Val Loss: 0.1342\n",
            "Epoch [77/100], Loss: 0.1484, Val Loss: 0.1311\n",
            "Epoch [78/100], Loss: 0.1448, Val Loss: 0.1280\n",
            "Epoch [79/100], Loss: 0.1413, Val Loss: 0.1251\n",
            "Epoch [80/100], Loss: 0.1378, Val Loss: 0.1221\n",
            "Epoch [81/100], Loss: 0.1345, Val Loss: 0.1193\n",
            "Epoch [82/100], Loss: 0.1312, Val Loss: 0.1165\n",
            "Epoch [83/100], Loss: 0.1280, Val Loss: 0.1138\n",
            "Epoch [84/100], Loss: 0.1249, Val Loss: 0.1112\n",
            "Epoch [85/100], Loss: 0.1218, Val Loss: 0.1086\n",
            "Epoch [86/100], Loss: 0.1189, Val Loss: 0.1061\n",
            "Epoch [87/100], Loss: 0.1160, Val Loss: 0.1037\n",
            "Epoch [88/100], Loss: 0.1132, Val Loss: 0.1013\n",
            "Epoch [89/100], Loss: 0.1105, Val Loss: 0.0990\n",
            "Epoch [90/100], Loss: 0.1078, Val Loss: 0.0967\n",
            "Epoch [91/100], Loss: 0.1053, Val Loss: 0.0946\n",
            "Epoch [92/100], Loss: 0.1028, Val Loss: 0.0924\n",
            "Epoch [93/100], Loss: 0.1003, Val Loss: 0.0904\n",
            "Epoch [94/100], Loss: 0.0980, Val Loss: 0.0884\n",
            "Epoch [95/100], Loss: 0.0957, Val Loss: 0.0864\n",
            "Epoch [96/100], Loss: 0.0935, Val Loss: 0.0845\n",
            "Epoch [97/100], Loss: 0.0913, Val Loss: 0.0827\n",
            "Epoch [98/100], Loss: 0.0892, Val Loss: 0.0809\n",
            "Epoch [99/100], Loss: 0.0872, Val Loss: 0.0791\n",
            "Epoch [100/100], Loss: 0.0852, Val Loss: 0.0774\n"
          ]
        }
      ],
      "source": [
        "# Step 4: Training loop\n",
        "num_epochs = 100\n",
        "for epoch in range(num_epochs):\n",
        "    model.train()\n",
        "    optimizer.zero_grad()\n",
        "    # Pass the tensor versions of your training data to the model\n",
        "    outputs = model(X_train_tensor)  # Forward pass, use X_train_tensor instead of X_train\n",
        "    loss = criterion(outputs, y_train_tensor) # use y_train_tensor instead of Y_train\n",
        "    loss.backward()  # Backward pass\n",
        "    optimizer.step()\n",
        "\n",
        "    # Validation step\n",
        "    model.eval()\n",
        "    with torch.no_grad():\n",
        "        # Use X_val_tensor and y_val_tensor for validation as well\n",
        "        val_outputs = model(X_val_tensor)\n",
        "        val_loss = criterion(val_outputs, y_val_tensor)\n",
        "\n",
        "    print(f\"Epoch [{epoch+1}/{num_epochs}], Loss: {loss.item():.4f}, Val Loss: {val_loss.item():.4f}\")\n"
      ]
    }
  ],
  "metadata": {
    "language_info": {
      "name": "python"
    },
    "colab": {
      "provenance": []
    },
    "kernelspec": {
      "name": "python3",
      "display_name": "Python 3"
    }
  },
  "nbformat": 4,
  "nbformat_minor": 0
}