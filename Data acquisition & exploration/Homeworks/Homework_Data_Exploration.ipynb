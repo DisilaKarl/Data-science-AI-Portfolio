{
  "nbformat": 4,
  "nbformat_minor": 0,
  "metadata": {
    "colab": {
      "provenance": []
    },
    "kernelspec": {
      "name": "python3",
      "display_name": "Python 3"
    },
    "language_info": {
      "name": "python"
    }
  },
  "cells": [
    {
      "cell_type": "markdown",
      "source": [
        "Homework: Data Exploration\n",
        "\n",
        "The objective of this exercise is to perform data exploration using Pandas and to calculate various statistical measures for a real dataset. By the end of the exercise, you should be able to:\n",
        "Load a dataset into a Pandas DataFrame\n",
        "Explore the structure and format of the data\n",
        "Calculate measures of central tendency, variability, and shape\n",
        "Perform basic data cleaning and preprocessing\n",
        "Dataset\n",
        "\n",
        "For this exercise, we will be using the \"Iris\" dataset, which contains information about three species of iris flowers. The dataset is available in the \"sklearn\" library in Python.\n",
        "To load the dataset, you will need to install the \"sklearn\" library and import the dataset using the following code:\n",
        "------------------------------------------------------------------------------------------------\n",
        "from sklearn.datasets import load_iris\n",
        "data = load_iris()\n",
        "df = pd.DataFrame(data[\"data\"], columns=data[\"feature_names\"])\n",
        "df[\"target\"] = data[\"target\"]\n",
        "df[\"target\"] = df[\"target\"].map({0: \"setosa\", 1: \"versicolor\", 2: \"virginica\"})\n",
        "------------------------\n",
        "\n",
        "\n",
        "Instructions\n",
        "Load the \"Iris\" dataset into a Pandas DataFrame using the code provided above.\n",
        "\n",
        "Display the first 5 rows of the DataFrame using the \"head()\" method.\n",
        "\n",
        "Check the shape of the DataFrame using the \"shape\" attribute.\n",
        "\n",
        "Check the data types of each column using the \"dtypes\" attribute.\n",
        "\n",
        "Check for missing values in the DataFrame using the \"isnull()\" method and the \"sum()\" method.\n",
        "\n",
        "Calculate the mean, median, and mode for the \"sepal length (cm)\" column.\n",
        "\n",
        "Calculate the range, variance, and standard deviation for the \"petal width (cm)\" column.\n",
        "\n",
        "Calculate the skewness and kurtosis for the \"sepal width (cm)\" column.\n",
        "\n",
        "Count the number of unique values in the \"target\" column using the \"nunique()\" method.\n",
        "\n",
        "Group the data by the \"target\" column and calculate the mean for each group using the \"groupby()\" method and the \"mean()\" method."
      ],
      "metadata": {
        "id": "T0KSR3NX7Wy9"
      }
    },
    {
      "cell_type": "code",
      "source": [
        "pip install scikit-learn\n"
      ],
      "metadata": {
        "colab": {
          "base_uri": "https://localhost:8080/"
        },
        "id": "SJ2E_9Oq9wET",
        "outputId": "dd73f0b1-46cc-4a20-994b-5fa55cb01589"
      },
      "execution_count": null,
      "outputs": [
        {
          "output_type": "stream",
          "name": "stdout",
          "text": [
            "Requirement already satisfied: scikit-learn in /usr/local/lib/python3.10/dist-packages (1.5.2)\n",
            "Requirement already satisfied: numpy>=1.19.5 in /usr/local/lib/python3.10/dist-packages (from scikit-learn) (1.26.4)\n",
            "Requirement already satisfied: scipy>=1.6.0 in /usr/local/lib/python3.10/dist-packages (from scikit-learn) (1.13.1)\n",
            "Requirement already satisfied: joblib>=1.2.0 in /usr/local/lib/python3.10/dist-packages (from scikit-learn) (1.4.2)\n",
            "Requirement already satisfied: threadpoolctl>=3.1.0 in /usr/local/lib/python3.10/dist-packages (from scikit-learn) (3.5.0)\n"
          ]
        }
      ]
    },
    {
      "cell_type": "code",
      "execution_count": null,
      "metadata": {
        "id": "8RRZrGJU62qO"
      },
      "outputs": [],
      "source": [
        "from sklearn.datasets import load_iris\n",
        "import pandas as pd\n",
        "\n",
        "# Load the Iris dataset\n",
        "data = load_iris()\n",
        "\n",
        "# Create a DataFrame\n",
        "df = pd.DataFrame(data[\"data\"], columns=data[\"feature_names\"])\n",
        "\n",
        "# Add the target column\n",
        "df[\"target\"] = data[\"target\"]\n",
        "\n",
        "# Map numerical target values to their respective species names\n",
        "df[\"target\"] = df[\"target\"].map({0: \"setosa\", 1: \"versicolor\", 2: \"virginica\"})\n",
        "\n",
        "\n"
      ]
    },
    {
      "cell_type": "code",
      "source": [
        "# Display the first few rows of the DataFrame\n",
        "print(df.head())"
      ],
      "metadata": {
        "colab": {
          "base_uri": "https://localhost:8080/"
        },
        "id": "rO_-iDVb-zXb",
        "outputId": "79eedcea-738d-4a9a-a994-01957c05d00c"
      },
      "execution_count": null,
      "outputs": [
        {
          "output_type": "stream",
          "name": "stdout",
          "text": [
            "   sepal length (cm)  sepal width (cm)  petal length (cm)  petal width (cm)  \\\n",
            "0                5.1               3.5                1.4               0.2   \n",
            "1                4.9               3.0                1.4               0.2   \n",
            "2                4.7               3.2                1.3               0.2   \n",
            "3                4.6               3.1                1.5               0.2   \n",
            "4                5.0               3.6                1.4               0.2   \n",
            "\n",
            "   target  \n",
            "0  setosa  \n",
            "1  setosa  \n",
            "2  setosa  \n",
            "3  setosa  \n",
            "4  setosa  \n"
          ]
        }
      ]
    },
    {
      "cell_type": "code",
      "source": [
        "print(\"\\nShape of DataFrame :\")\n",
        "print(df.shape)"
      ],
      "metadata": {
        "colab": {
          "base_uri": "https://localhost:8080/"
        },
        "id": "3cCUPvl5-11G",
        "outputId": "244268f9-8e51-4e92-a70e-0b155644e9f6"
      },
      "execution_count": null,
      "outputs": [
        {
          "output_type": "stream",
          "name": "stdout",
          "text": [
            "\n",
            "Shape of DataFrame :\n",
            "(150, 5)\n"
          ]
        }
      ]
    },
    {
      "cell_type": "code",
      "source": [
        "print(\"\\nTypes each column :\")\n",
        "print(df.dtypes)"
      ],
      "metadata": {
        "colab": {
          "base_uri": "https://localhost:8080/"
        },
        "id": "1_ldLlIZ-7Fi",
        "outputId": "df3d0792-3ce5-4043-dd6a-5ba251c5eb2c"
      },
      "execution_count": null,
      "outputs": [
        {
          "output_type": "stream",
          "name": "stdout",
          "text": [
            "\n",
            "Types each column :\n",
            "sepal length (cm)    float64\n",
            "sepal width (cm)     float64\n",
            "petal length (cm)    float64\n",
            "petal width (cm)     float64\n",
            "target                object\n",
            "dtype: object\n"
          ]
        }
      ]
    },
    {
      "cell_type": "code",
      "source": [
        "print(\"\\nMissing values DataFrame :\")\n",
        "print(df.isnull().sum())"
      ],
      "metadata": {
        "colab": {
          "base_uri": "https://localhost:8080/"
        },
        "id": "Z6muAyhv_Hz2",
        "outputId": "bff04c3d-2e92-4ab6-8f29-eb25695c60fb"
      },
      "execution_count": null,
      "outputs": [
        {
          "output_type": "stream",
          "name": "stdout",
          "text": [
            "\n",
            "Valeurs manquantes dans le DataFrame :\n",
            "sepal length (cm)    0\n",
            "sepal width (cm)     0\n",
            "petal length (cm)    0\n",
            "petal width (cm)     0\n",
            "target               0\n",
            "dtype: int64\n"
          ]
        }
      ]
    },
    {
      "cell_type": "code",
      "source": [
        "print(\"\\nStatistiques pour 'sepal length (cm)' :\")\n",
        "mean_sepal_length = df[\"sepal length (cm)\"].mean()\n",
        "median_sepal_length = df[\"sepal length (cm)\"].median()\n",
        "mode_sepal_length = df[\"sepal length (cm)\"].mode()[0]\n",
        "\n",
        "print(f\"Moyenne : {mean_sepal_length}\")\n",
        "print(f\"Médiane : {median_sepal_length}\")\n",
        "print(f\"Mode : {mode_sepal_length}\")"
      ],
      "metadata": {
        "colab": {
          "base_uri": "https://localhost:8080/"
        },
        "id": "_6638BQI_N5i",
        "outputId": "7e50500c-790f-497b-dba0-922b6c795703"
      },
      "execution_count": null,
      "outputs": [
        {
          "output_type": "stream",
          "name": "stdout",
          "text": [
            "\n",
            "Statistiques pour 'sepal length (cm)' :\n",
            "Moyenne : 5.843333333333334\n",
            "Médiane : 5.8\n",
            "Mode : 5.0\n"
          ]
        }
      ]
    },
    {
      "cell_type": "code",
      "source": [
        "print(\"\\nStatistiques pour 'petal width (cm)' :\")\n",
        "range_petal_width = df[\"petal width (cm)\"].max() - df[\"petal width (cm)\"].min()\n",
        "variance_petal_width = df[\"petal width (cm)\"].var()\n",
        "std_dev_petal_width = df[\"petal width (cm)\"].std()\n",
        "\n",
        "print(f\"Étendue : {range_petal_width}\")\n",
        "print(f\"Variance : {variance_petal_width}\")\n",
        "print(f\"Écart type : {std_dev_petal_width}\")"
      ],
      "metadata": {
        "colab": {
          "base_uri": "https://localhost:8080/"
        },
        "id": "vN-NwRZ0_gY0",
        "outputId": "af390663-e8fc-41ed-a3ed-58bfeea46f0f"
      },
      "execution_count": null,
      "outputs": [
        {
          "output_type": "stream",
          "name": "stdout",
          "text": [
            "\n",
            "Statistiques pour 'petal width (cm)' :\n",
            "Étendue : 2.4\n",
            "Variance : 0.5810062639821029\n",
            "Écart type : 0.7622376689603465\n"
          ]
        }
      ]
    },
    {
      "cell_type": "code",
      "source": [
        "print(\"\\nAsymétrie et kurtosis pour 'sepal width (cm)' :\")\n",
        "skewness_sepal_width = df[\"sepal width (cm)\"].skew()\n",
        "kurtosis_sepal_width = df[\"sepal width (cm)\"].kurt()\n",
        "\n",
        "print(f\"Asymétrie : {skewness_sepal_width}\")\n",
        "print(f\"Kurtosis : {kurtosis_sepal_width}\")"
      ],
      "metadata": {
        "colab": {
          "base_uri": "https://localhost:8080/"
        },
        "id": "Lh6Y234C_iUr",
        "outputId": "72a698ad-06f4-4ced-e178-66036473b346"
      },
      "execution_count": null,
      "outputs": [
        {
          "output_type": "stream",
          "name": "stdout",
          "text": [
            "\n",
            "Asymétrie et kurtosis pour 'sepal width (cm)' :\n",
            "Asymétrie : 0.31896566471359966\n",
            "Kurtosis : 0.2282490424681929\n"
          ]
        }
      ]
    },
    {
      "cell_type": "code",
      "source": [
        "print(\"\\nNombre de valeurs uniques dans la colonne 'target' :\")\n",
        "unique_target_count = df[\"target\"].nunique()\n",
        "print(unique_target_count)"
      ],
      "metadata": {
        "colab": {
          "base_uri": "https://localhost:8080/"
        },
        "id": "K8sQey6Q_jNT",
        "outputId": "0d65a8e8-7a5a-4508-8f3d-b52e4131ec29"
      },
      "execution_count": null,
      "outputs": [
        {
          "output_type": "stream",
          "name": "stdout",
          "text": [
            "\n",
            "Nombre de valeurs uniques dans la colonne 'target' :\n",
            "3\n"
          ]
        }
      ]
    },
    {
      "cell_type": "code",
      "source": [
        "print(\"\\nMoyenne des groupes par 'target' :\")\n",
        "grouped_means = df.groupby(\"target\").mean()\n",
        "print(grouped_means)"
      ],
      "metadata": {
        "colab": {
          "base_uri": "https://localhost:8080/"
        },
        "id": "944eBoVB_mpm",
        "outputId": "607ddc93-a041-4cf3-ac6c-6456bb3f55cb"
      },
      "execution_count": null,
      "outputs": [
        {
          "output_type": "stream",
          "name": "stdout",
          "text": [
            "\n",
            "Moyenne des groupes par 'target' :\n",
            "            sepal length (cm)  sepal width (cm)  petal length (cm)  \\\n",
            "target                                                               \n",
            "setosa                  5.006             3.428              1.462   \n",
            "versicolor              5.936             2.770              4.260   \n",
            "virginica               6.588             2.974              5.552   \n",
            "\n",
            "            petal width (cm)  \n",
            "target                        \n",
            "setosa                 0.246  \n",
            "versicolor             1.326  \n",
            "virginica              2.026  \n"
          ]
        }
      ]
    }
  ]
}