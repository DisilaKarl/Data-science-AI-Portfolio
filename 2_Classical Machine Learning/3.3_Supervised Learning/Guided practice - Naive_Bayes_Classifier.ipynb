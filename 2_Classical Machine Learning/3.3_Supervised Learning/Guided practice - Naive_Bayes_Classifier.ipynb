{
  "cells": [
    {
      "cell_type": "markdown",
      "metadata": {
        "id": "5Lu_OG9U33Ae"
      },
      "source": [
        "# Naive Bayes practice:\n",
        "\n",
        "- In today's practice we will use dinner.csv dataset to predict whether a person will \"Cook\" or \"Order\" dinner based on the other features provided in the dataset.\n",
        "\n",
        "## Features (Predictors):\n",
        "- Weather: Describes the weather conditions (Clear, Cloudy, Rainy, Snowy).\n",
        "- Time: Describes the time of day (Evening, Night, Midday, Midnight).\n",
        "- Day of the week: Indicates whether it's a Weekend or Weekday.\n",
        "## Target (Response Variable):\n",
        "- Dinner: The action taken regarding dinner, either \"Cooks\" or \"Orders\".\n",
        "\n",
        "\n",
        "The task is a classification problem where we use the weather, time, and day of the week to predict the target variable, \"Dinner\", which has two classes: \"Cooks\" or \"Orders\". The Naive Bayes classifier is used to model the relationship between these features and the target, allowing it to make predictions on new, unseen data."
      ]
    },
    {
      "cell_type": "code",
      "execution_count": null,
      "metadata": {
        "id": "BGSnrkF91kfh"
      },
      "outputs": [],
      "source": [
        "import pandas as pd\n",
        "from sklearn.model_selection import train_test_split\n",
        "from sklearn.naive_bayes import CategoricalNB\n",
        "from sklearn.preprocessing import LabelEncoder\n",
        "from sklearn.metrics import accuracy_score, classification_report\n",
        "\n",
        "\n"
      ]
    },
    {
      "cell_type": "code",
      "execution_count": null,
      "metadata": {
        "colab": {
          "base_uri": "https://localhost:8080/"
        },
        "id": "MN5g04Mvv6dA",
        "outputId": "e65c6073-236e-4936-f9ea-add25af20a95"
      },
      "outputs": [
        {
          "name": "stdout",
          "output_type": "stream",
          "text": [
            "0.5029469548133595\n"
          ]
        }
      ],
      "source": [
        "df=pd.read_csv(\"dinner_data.csv\")\n",
        "p_orders = len(df[df['Dinner'] == 'Orders']) / len(df)\n",
        "print(p_orders)\n"
      ]
    },
    {
      "cell_type": "markdown",
      "metadata": {
        "id": "qRP3UEWc4kmx"
      },
      "source": [
        "To do:\n",
        "-  We will compute the prior probabilities of the target classes \"Orders\" and \"Cooks\" in the dataset.\n",
        "\n",
        "Note:\n",
        "- Prior probabilities are the probabilities of each class occurring in the dataset without considering any other features. They represent the overall distribution of the target classes in the data."
      ]
    },
    {
      "cell_type": "code",
      "execution_count": 12,
      "metadata": {
        "id": "jbF3H-Y4455h",
        "outputId": "fb097729-faf7-4d43-eda8-31cf92638952",
        "colab": {
          "base_uri": "https://localhost:8080/"
        }
      },
      "outputs": [
        {
          "output_type": "stream",
          "name": "stdout",
          "text": [
            "Prior probability of orders is:  0.5029469548133595\n",
            "Prior probability of cooks is:  0.49705304518664045\n"
          ]
        }
      ],
      "source": [
        "# Calculate the prior probabilities P(Orders) and P(Cooks)\n",
        "p_orders = len(df[df['Dinner'] == 'Orders']) / len(df)\n",
        "p_cooks = len(df[df['Dinner'] == 'Cooks']) / len(df)\n",
        "\n",
        "print(\"Prior probability of orders is: \", p_orders)\n",
        "print(\"Prior probability of cooks is: \", p_cooks)"
      ]
    },
    {
      "cell_type": "markdown",
      "metadata": {
        "id": "OonGu2wV5_Zo"
      },
      "source": [
        "- To do :\n",
        "- Compute the likelihood of observing \"Snowy\" weather given that the \"Dinner\" is \"Orders\" :\n",
        "\n",
        "P(Snowy∣Orders)= (Number of instances where Dinner is Orders) / (Number of instances where Weather is Snowy and Dinner is Orders)\n",
        "​\n",
        "- Compute the likelihood of the time being \"Midnight\" given that the \"Dinner\" is \"Orders\" :\n",
        "\n",
        "P(Midnight∣Orders)=  (Number of instances where Dinner is Orders) /(Number of instances where Time is Midnight and Dinner is Orders)\n",
        "​\n",
        "\n",
        "\n",
        "- Compute the likelihood of it being a \"Weekday\" given that the \"Dinner\" is \"Orders\":\n",
        "\n",
        "P(Weekday∣Orders)= (Number of instances where Dinner is Orders)/\n",
        "(Number of instances where Day is Weekday and Dinner is Orders)\n",
        "​\n",
        "\n",
        "\n",
        "\n",
        "\n",
        "\n"
      ]
    },
    {
      "cell_type": "code",
      "execution_count": 13,
      "metadata": {
        "id": "s_7CWyiF7GpK"
      },
      "outputs": [],
      "source": [
        "# Calculate the likelihoods P(Snowy|Orders), P(Midnight|Orders), P(Weekday|Orders)\n",
        "p_snowy_given_orders = len(df[(df['Weather'] == 'Snowy') & (df['Dinner'] == 'Orders')]) / len(df[df['Dinner'] == 'Orders'])\n",
        "p_midnight_given_orders = len(df[(df['Time'] == 'Midnight') & (df['Dinner'] == 'Orders')]) / len(df[df['Dinner'] == 'Orders'])\n",
        "p_weekday_given_orders = len(df[(df['Day of the week'] == 'Weekday') & (df['Dinner'] == 'Orders')]) / len(df[df['Dinner'] == 'Orders'])\n"
      ]
    },
    {
      "cell_type": "markdown",
      "metadata": {
        "id": "cBveYegE7pN-"
      },
      "source": [
        "To Do:\n",
        "- Compute the  likelihood of \"Snowy\" weather given \"Cooks\".\n",
        "- Compute the likelihood of \"Midnight\" given \"Cooks\".\n",
        "- Compute the likelihood of \"Weekday\" given \"Cooks\"."
      ]
    },
    {
      "cell_type": "code",
      "execution_count": 14,
      "metadata": {
        "id": "VC1jT90d7h9F"
      },
      "outputs": [],
      "source": [
        "# Calculate the likelihoods P(Snowy|Cooks), P(Midnight|Cooks), P(Weekday|Cooks)\n",
        "p_snowy_given_cooks = len(df[(df['Weather'] == 'Snowy') & (df['Dinner'] == 'Cooks')]) / len(df[df['Dinner'] == 'Cooks'])\n",
        "p_midnight_given_cooks = len(df[(df['Time'] == 'Midnight') & (df['Dinner'] == 'Cooks')]) / len(df[df['Dinner'] == 'Cooks'])\n",
        "p_weekday_given_cooks = len(df[(df['Day of the week'] == 'Weekday') & (df['Dinner'] == 'Cooks')]) / len(df[df['Dinner'] == 'Cooks'])\n",
        "\n",
        "\n"
      ]
    },
    {
      "cell_type": "markdown",
      "metadata": {
        "id": "Ar3T3lIC78g8"
      },
      "source": [
        "To do :\n",
        "- Compute the posterior probabilitiesfor both \"Orders\" and \"Cooks\" using Bayes' Theorem, excluding the denominator (the evidence) since it's constant for comparison purposes.\n",
        "\n",
        "- Compute the posterior probability of \"Orders\" given \"Snowy\", \"Midnight\", and \"Weekday\" :\n",
        "\n",
        "𝑃(Orders∣Snowy, Midnight, Weekday) ∝ P(Orders) x P(Snowy∣Orders) x P(Midnight∣Orders) x P(Weekday∣Orders)\n",
        "\n",
        "- Compute the posterior probability of \"Cooks\" given \"Snowy\", \"Midnight\", and \"Weekday\" :\n",
        "\n",
        "P(Cooks∣Snowy, Midnight, Weekday) ∝ P(Cooks) x P(Snowy∣Cooks) x P(Midnight∣Cooks) x P(Weekday∣Cooks).\n",
        "\n",
        "- Predict the decision based on the higher posterior probability. So the decision will be either orders or cooks."
      ]
    },
    {
      "cell_type": "code",
      "execution_count": 16,
      "metadata": {
        "id": "mYhps8N48Fpr"
      },
      "outputs": [],
      "source": [
        "# Calculate the posterior probability of Ordering and Cooking given the features Snowy, Midnight, Weekday\n",
        "# Since P(Snowy, Midnight, Weekday) is constant for both, we can ignore it for comparing the relative probabilities\n",
        "posterior_orders = p_orders * p_snowy_given_orders * p_midnight_given_orders * p_weekday_given_orders\n",
        "posterior_cooks = p_cooks * p_snowy_given_cooks * p_midnight_given_cooks * p_weekday_given_cooks\n",
        "\n",
        "# Decision based on the highest posterior probability\n",
        "decision = 'Orders' if posterior_orders > posterior_cooks else 'Cooks'\n",
        "\n"
      ]
    },
    {
      "cell_type": "markdown",
      "metadata": {
        "id": "T1YtvSbN9ojq"
      },
      "source": [
        "- Encode the categorical variables from the dataset into numerical values"
      ]
    },
    {
      "cell_type": "code",
      "execution_count": 17,
      "metadata": {
        "id": "akRwpzx81u6T"
      },
      "outputs": [],
      "source": [
        "# Encode categorical variables into numerical values\n",
        "label_encoders = {}\n",
        "\n",
        "for column in df.columns:\n",
        "    label_encoders[column] = LabelEncoder()\n",
        "    df[column] = label_encoders[column].fit_transform(df[column])\n"
      ]
    }
  ],
  "metadata": {
    "colab": {
      "provenance": []
    },
    "kernelspec": {
      "display_name": "Python 3",
      "name": "python3"
    },
    "language_info": {
      "codemirror_mode": {
        "name": "ipython",
        "version": 3
      },
      "file_extension": ".py",
      "mimetype": "text/x-python",
      "name": "python",
      "nbconvert_exporter": "python",
      "pygments_lexer": "ipython3",
      "version": "3.10.12"
    }
  },
  "nbformat": 4,
  "nbformat_minor": 0
}