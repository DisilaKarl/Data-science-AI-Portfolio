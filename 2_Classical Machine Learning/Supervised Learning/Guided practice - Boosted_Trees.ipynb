{
  "nbformat": 4,
  "nbformat_minor": 0,
  "metadata": {
    "colab": {
      "provenance": []
    },
    "kernelspec": {
      "name": "python3",
      "display_name": "Python 3"
    },
    "language_info": {
      "name": "python"
    }
  },
  "cells": [
    {
      "cell_type": "markdown",
      "source": [
        "# 🚀 Welcome to the Boosting and Stacking Practice Session!  📊✨\n",
        "\n",
        "\n",
        "\n",
        "In this practice, we’ll dive into XGBoost, AdaBoost, and Stacking — three powerful techniques in ensemble learning used to boost model performance and robustness. You'll gain hands-on experience with each method by applying them to a real-world dataset and analyzing their impact on classification accuracy.\n",
        "\n",
        "\n",
        "\n",
        "\n",
        "## **Introduction:**\n",
        "- **Time Limit:** You have 60 minutes to complete the practice.\n",
        "- **Objective:** Implement XGBoost, AdaBoost, and a simple stacking ensemble to classify data. You’ll preprocess the dataset, train each model, fine-tune hyperparameters, and evaluate their performances. Document your approach, hyperparameters, and any insights you gather along the way.\n",
        "- **Presentation:** After completing the exercise, present your findings. Discuss each model’s accuracy, any differences in performance, and the benefits and challenges of each approach.\n",
        "- **Ask for Help:** If you need assistance at any point, feel free to ask the instructor for guidance or clarification.\n",
        "\n",
        "## **Why This Matters:**\n",
        "\n",
        "Boosting algorithms like XGBoost and AdaBoost are widely used in machine learning due to their ability to create strong models from weak learners. Stacking adds another layer of prediction by combining multiple models, helping to leverage the strengths of each. Mastering these techniques will equip you with essential tools for improving accuracy in complex tasks and enhance your understanding of ensemble methods.\n",
        "\n",
        "\n",
        "\n",
        "## **Recap** 📑\n",
        "\n",
        "### XGBoost:\n",
        "XGBoost, short for eXtreme Gradient Boosting, is a powerful implementation of gradient boosting machines. It's known for its speed, performance, and versatility. Key features of XGBoost include:\n",
        "\n",
        "- **Optimized Performance**: XGBoost is optimized for both speed and performance, making it one of the most efficient implementations of gradient boosting.\n",
        "  \n",
        "- **Regularization**: It incorporates regularization techniques to prevent overfitting and improve generalization.\n",
        "  \n",
        "- **Flexibility**: XGBoost supports various objective functions and evaluation metrics, making it suitable for a wide range of tasks.\n",
        "\n",
        "### AdaBoost:\n",
        "\n",
        "AdaBoost, or Adaptive Boosting, combines multiple weak learners to create a strong overall model. It’s called \"adaptive\" because it adjusts the weights of each instance, assigning higher weights to those that were misclassified in previous rounds. While sensitive to noise, AdaBoost is effective for binary classification and can handle some multiclass problems, especially when the data is fairly clean.\n",
        "\n",
        "More details about the implementation check the following link:\n",
        "\n",
        " https://scikit-learn.org/dev/modules/generated/sklearn.ensemble.AdaBoostClassifier.html\n",
        "\n",
        "### Stacking:\n",
        "Stacking, also known as stacked generalization, is an ensemble learning technique that combines the predictions of multiple base models to improve overall performance. Key aspects of stacking include:\n",
        "\n",
        "- **Model Combination**: Stacking combines predictions from diverse base models using a meta-learner to generate a final prediction.\n",
        "  \n",
        "- **Diversity**: Stacking leverages the diversity of base models to capture different aspects of the data and improve overall robustness.\n",
        "  \n",
        "- **Performance Boost**: By leveraging the strengths of multiple models, stacking often leads to performance improvements over individual models.\n",
        "\n",
        "In this notebook, we'll delve deeper into these concepts, exploring advanced techniques and practical implementations of XGBoost and stacking. Let's dive in and uncover the potential of these powerful ensemble learning methods!\n",
        "\n",
        "\n",
        "\n",
        "\n",
        "\n",
        "Get ready to boost your model’s power and dive into the world of ensemble learning!\n",
        "\n",
        "Happy coding! 💻🚀\n"
      ],
      "metadata": {
        "id": "K8dtQI2jXkAm"
      }
    },
    {
      "cell_type": "markdown",
      "source": [
        "### Dataset Overview\n",
        "\n",
        "The dataset we'll be working with contains information about customers of a telecommunications company and whether they churned or not. Here's a brief overview of the dataset:\n",
        "\n",
        "- **CustomerID**: Unique identifier for each customer.\n",
        "- **Gender**: Gender of the customer (e.g., Male, Female).\n",
        "- **SeniorCitizen**: Indicates if the customer is a senior citizen (1) or not (0).\n",
        "- **Partner**: Whether the customer has a partner or not (Yes, No).\n",
        "- **Dependents**: Whether the customer has dependents or not (Yes, No).\n",
        "- **Tenure**: Number of months the customer has been with the company.\n",
        "- **PhoneService**: Whether the customer has a phone service or not (Yes, No).\n",
        "- **MultipleLines**: Whether the customer has multiple lines or not (Yes, No, No phone service).\n",
        "- **InternetService**: Type of internet service subscribed by the customer (DSL, Fiber optic, No).\n",
        "- **OnlineSecurity**: Whether the customer has online security or not (Yes, No, No internet service).\n",
        "- **OnlineBackup**: Whether the customer has online backup or not (Yes, No, No internet service).\n",
        "- **DeviceProtection**: Whether the customer has device protection or not (Yes, No, No internet service).\n",
        "- **TechSupport**: Whether the customer has tech support or not (Yes, No, No internet service).\n",
        "- **StreamingTV**: Whether the customer has streaming TV or not (Yes, No, No internet service).\n",
        "- **StreamingMovies**: Whether the customer has streaming movies or not (Yes, No, No internet service).\n",
        "- **Contract**: Type of contract the customer has (Month-to-month, One year, Two year).\n",
        "- **PaperlessBilling**: Whether the customer has paperless billing or not (Yes, No).\n",
        "- **PaymentMethod**: Payment method used by the customer (Electronic check, Mailed check, Bank transfer (automatic), Credit card (automatic)).\n",
        "- **MonthlyCharges**: Monthly charges incurred by the customer.\n",
        "- **TotalCharges**: Total charges incurred by the customer.\n",
        "- **Churn**: Whether the customer churned or not (Yes, No).\n",
        "\n",
        "### Data Exploration\n",
        "\n",
        "Before we proceed with modeling, let's explore the dataset to understand its structure and gain insights into the distribution of key variables. We'll check for any missing values and visualize the distribution of the target variable (Churn) to understand the imbalance in the dataset.\n"
      ],
      "metadata": {
        "id": "LHAJsayQzvVy"
      }
    },
    {
      "cell_type": "markdown",
      "source": [
        "1. First step we will load the necessairy libraries to use for this practice :\n",
        "\n"
      ],
      "metadata": {
        "id": "xhDqjaAE3PwV"
      }
    },
    {
      "cell_type": "code",
      "execution_count": 106,
      "metadata": {
        "id": "Z2mXzdPcXTpB"
      },
      "outputs": [],
      "source": [
        "# Cell 1: Import necessary libraries\n",
        "# Import pandas for data manipulation\n",
        "# Import train_test_split from sklearn.model_selection for splitting the dataset\n",
        "# Import xgboost and other necessary modules for modeling\n",
        "\n",
        "# Import pandas for data manipulation\n",
        "import pandas as pd\n",
        "\n",
        "# Import train_test_split from sklearn.model_selection for splitting the dataset\n",
        "from sklearn.model_selection import train_test_split\n",
        "\n",
        "# Import XGBoost classifier and other necessary modules for modeling\n",
        "import xgboost as xgb\n",
        "from sklearn.ensemble import AdaBoostClassifier\n",
        "from sklearn.tree import DecisionTreeClassifier\n",
        "from sklearn.metrics import accuracy_score\n",
        "\n",
        "# Import other necessary modules for evaluation and preprocessing\n",
        "from sklearn.preprocessing import LabelEncoder\n",
        "from sklearn.datasets import load_iris\n"
      ]
    },
    {
      "cell_type": "markdown",
      "source": [
        "2. Load the dataset\n",
        "\n"
      ],
      "metadata": {
        "id": "hKW0Jies3vxi"
      }
    },
    {
      "cell_type": "code",
      "source": [
        "# use pandas to load the dataset\n",
        "df = pd.read_csv('/content/WA_Fn-UseC_-Telco-Customer-Churn.csv')\n"
      ],
      "metadata": {
        "id": "szGTwwt_36vF"
      },
      "execution_count": 107,
      "outputs": []
    },
    {
      "cell_type": "markdown",
      "source": [
        "3. Display some rows of your dataset"
      ],
      "metadata": {
        "id": "b5Jhfg_a3-IC"
      }
    },
    {
      "cell_type": "code",
      "source": [
        "#display some rows to see the name of each column of your dataset\n",
        "\n",
        "print(df.head())"
      ],
      "metadata": {
        "id": "xo5MkD1W4GLl",
        "outputId": "7db7274e-ebf1-406b-d869-33e135215f4f",
        "colab": {
          "base_uri": "https://localhost:8080/"
        }
      },
      "execution_count": 108,
      "outputs": [
        {
          "output_type": "stream",
          "name": "stdout",
          "text": [
            "   customerID  gender  SeniorCitizen Partner Dependents  tenure PhoneService  \\\n",
            "0  7590-VHVEG  Female              0     Yes         No       1           No   \n",
            "1  5575-GNVDE    Male              0      No         No      34          Yes   \n",
            "2  3668-QPYBK    Male              0      No         No       2          Yes   \n",
            "3  7795-CFOCW    Male              0      No         No      45           No   \n",
            "4  9237-HQITU  Female              0      No         No       2          Yes   \n",
            "\n",
            "      MultipleLines InternetService OnlineSecurity  ... DeviceProtection  \\\n",
            "0  No phone service             DSL             No  ...               No   \n",
            "1                No             DSL            Yes  ...              Yes   \n",
            "2                No             DSL            Yes  ...               No   \n",
            "3  No phone service             DSL            Yes  ...              Yes   \n",
            "4                No     Fiber optic             No  ...               No   \n",
            "\n",
            "  TechSupport StreamingTV StreamingMovies        Contract PaperlessBilling  \\\n",
            "0          No          No              No  Month-to-month              Yes   \n",
            "1          No          No              No        One year               No   \n",
            "2          No          No              No  Month-to-month              Yes   \n",
            "3         Yes          No              No        One year               No   \n",
            "4          No          No              No  Month-to-month              Yes   \n",
            "\n",
            "               PaymentMethod MonthlyCharges  TotalCharges Churn  \n",
            "0           Electronic check          29.85         29.85    No  \n",
            "1               Mailed check          56.95        1889.5    No  \n",
            "2               Mailed check          53.85        108.15   Yes  \n",
            "3  Bank transfer (automatic)          42.30       1840.75    No  \n",
            "4           Electronic check          70.70        151.65   Yes  \n",
            "\n",
            "[5 rows x 21 columns]\n"
          ]
        }
      ]
    },
    {
      "cell_type": "markdown",
      "source": [
        "4. Data exploration"
      ],
      "metadata": {
        "id": "Nuwoi10ed6Zu"
      }
    },
    {
      "cell_type": "code",
      "source": [
        "# Use pandas functions to explore the dataset (e.g., df.info(), df.describe())\n",
        "print(df.info())"
      ],
      "metadata": {
        "id": "diziqRd0d59-",
        "outputId": "9cd04a5f-88c6-4517-97ec-a2ce2946adf5",
        "colab": {
          "base_uri": "https://localhost:8080/"
        }
      },
      "execution_count": 109,
      "outputs": [
        {
          "output_type": "stream",
          "name": "stdout",
          "text": [
            "<class 'pandas.core.frame.DataFrame'>\n",
            "RangeIndex: 7043 entries, 0 to 7042\n",
            "Data columns (total 21 columns):\n",
            " #   Column            Non-Null Count  Dtype  \n",
            "---  ------            --------------  -----  \n",
            " 0   customerID        7043 non-null   object \n",
            " 1   gender            7043 non-null   object \n",
            " 2   SeniorCitizen     7043 non-null   int64  \n",
            " 3   Partner           7043 non-null   object \n",
            " 4   Dependents        7043 non-null   object \n",
            " 5   tenure            7043 non-null   int64  \n",
            " 6   PhoneService      7043 non-null   object \n",
            " 7   MultipleLines     7043 non-null   object \n",
            " 8   InternetService   7043 non-null   object \n",
            " 9   OnlineSecurity    7043 non-null   object \n",
            " 10  OnlineBackup      7043 non-null   object \n",
            " 11  DeviceProtection  7043 non-null   object \n",
            " 12  TechSupport       7043 non-null   object \n",
            " 13  StreamingTV       7043 non-null   object \n",
            " 14  StreamingMovies   7043 non-null   object \n",
            " 15  Contract          7043 non-null   object \n",
            " 16  PaperlessBilling  7043 non-null   object \n",
            " 17  PaymentMethod     7043 non-null   object \n",
            " 18  MonthlyCharges    7043 non-null   float64\n",
            " 19  TotalCharges      7043 non-null   object \n",
            " 20  Churn             7043 non-null   object \n",
            "dtypes: float64(1), int64(2), object(18)\n",
            "memory usage: 1.1+ MB\n",
            "None\n"
          ]
        }
      ]
    },
    {
      "cell_type": "code",
      "source": [
        "print(df.describe())"
      ],
      "metadata": {
        "id": "B3BCJYY4Nv1p",
        "outputId": "97079fd7-53c6-448e-bb85-7c9646113a9f",
        "colab": {
          "base_uri": "https://localhost:8080/"
        }
      },
      "execution_count": 112,
      "outputs": [
        {
          "output_type": "stream",
          "name": "stdout",
          "text": [
            "       SeniorCitizen       tenure  MonthlyCharges\n",
            "count    7043.000000  7043.000000     7043.000000\n",
            "mean        0.162147    32.371149       64.761692\n",
            "std         0.368612    24.559481       30.090047\n",
            "min         0.000000     0.000000       18.250000\n",
            "25%         0.000000     9.000000       35.500000\n",
            "50%         0.000000    29.000000       70.350000\n",
            "75%         0.000000    55.000000       89.850000\n",
            "max         1.000000    72.000000      118.750000\n"
          ]
        }
      ]
    },
    {
      "cell_type": "code",
      "source": [
        "# Check for missing values and handle them if necessary\n",
        "print(df.isnull().sum())"
      ],
      "metadata": {
        "id": "jv2CEz4fd4fr",
        "outputId": "4abee198-208a-4663-ab58-8c91b0867776",
        "colab": {
          "base_uri": "https://localhost:8080/"
        }
      },
      "execution_count": 113,
      "outputs": [
        {
          "output_type": "stream",
          "name": "stdout",
          "text": [
            "customerID          0\n",
            "gender              0\n",
            "SeniorCitizen       0\n",
            "Partner             0\n",
            "Dependents          0\n",
            "tenure              0\n",
            "PhoneService        0\n",
            "MultipleLines       0\n",
            "InternetService     0\n",
            "OnlineSecurity      0\n",
            "OnlineBackup        0\n",
            "DeviceProtection    0\n",
            "TechSupport         0\n",
            "StreamingTV         0\n",
            "StreamingMovies     0\n",
            "Contract            0\n",
            "PaperlessBilling    0\n",
            "PaymentMethod       0\n",
            "MonthlyCharges      0\n",
            "TotalCharges        0\n",
            "Churn               0\n",
            "dtype: int64\n"
          ]
        }
      ]
    },
    {
      "cell_type": "code",
      "source": [
        "# Visualize the distribution of target variable 'Churn' (e.g., using seaborn's countplot)\n",
        "plt.figure(figsize=(6,4))  # Taille de la figure\n",
        "sns.countplot(x='Churn', data=df, palette='Set2')\n",
        "\n",
        "#Label\n",
        "plt.title('Distribution of variable Churn', fontsize=16)\n",
        "plt.xlabel('Churn (Yes/No)', fontsize=12)\n",
        "plt.ylabel('Nombre de clients', fontsize=12)\n",
        "\n",
        "plt.show()"
      ],
      "metadata": {
        "id": "f0ncPp4heEF4",
        "outputId": "e81588b6-0dfd-4159-b952-f858cff6b79d",
        "colab": {
          "base_uri": "https://localhost:8080/",
          "height": 503
        }
      },
      "execution_count": 119,
      "outputs": [
        {
          "output_type": "stream",
          "name": "stderr",
          "text": [
            "<ipython-input-119-542f6320f8e1>:3: FutureWarning: \n",
            "\n",
            "Passing `palette` without assigning `hue` is deprecated and will be removed in v0.14.0. Assign the `x` variable to `hue` and set `legend=False` for the same effect.\n",
            "\n",
            "  sns.countplot(x='Churn', data=df, palette='Set2')\n"
          ]
        },
        {
          "output_type": "display_data",
          "data": {
            "text/plain": [
              "<Figure size 600x400 with 1 Axes>"
            ],
            "image/png": "[encoded data removed]"
          },
          "metadata": {}
        }
      ]
    },
    {
      "cell_type": "markdown",
      "source": [
        "5. Data preprocessing"
      ],
      "metadata": {
        "id": "l5mD71DneOTK"
      }
    },
    {
      "cell_type": "code",
      "source": [
        "# Perform necessary data preprocessing steps such as encoding categorical variables and scaling numerical features Hint: the previous practice (Decision Trees)\n",
        "# Loop through each column in the dataframe\n",
        "# Initialize the label encoder\n",
        "\n",
        "# Perform necessary data preprocessing steps such as encoding categorical variables and scaling numerical features\n",
        "# Loop through each column in the dataframe\n",
        "# Initialize the label encoder\n",
        "\n",
        "# Initialiser le LabelEncoder\n",
        "label_encoder = LabelEncoder()\n",
        "\n",
        "# Boucle pour encoder toutes les colonnes catégorielles\n",
        "categorical_columns = ['gender', 'Partner', 'Dependents', 'PhoneService', 'MultipleLines', 'InternetService',\n",
        "                       'OnlineSecurity', 'OnlineBackup', 'DeviceProtection', 'TechSupport', 'StreamingTV',\n",
        "                       'StreamingMovies', 'Contract', 'PaperlessBilling', 'PaymentMethod', 'Churn']\n",
        "\n",
        "for column in categorical_columns:\n",
        "    df[column] = label_encoder.fit_transform(df[column])\n",
        "\n",
        "# Afficher les premières lignes du dataset après encodage\n",
        "print(\"\\nAperçu du dataset après encodage des variables catégorielles :\")\n",
        "print(df.head())\n",
        "\n",
        "# Mise à l'échelle des caractéristiques numériques\n",
        "numerical_columns = ['tenure', 'MonthlyCharges', 'TotalCharges']\n",
        "\n",
        "# Replace spaces with NaN in numerical columns\n",
        "for col in numerical_columns:\n",
        "    df[col] = pd.to_numeric(df[col], errors='coerce')  # Convert to numeric, invalid parsing will be set as NaN\n",
        "\n",
        "# Impute NaN values (e.g., with the mean)\n",
        "# !pip install sklearn.impute\n",
        "from sklearn.impute import SimpleImputer\n",
        "imputer = SimpleImputer(strategy='mean')\n",
        "df[numerical_columns] = imputer.fit_transform(df[numerical_columns])\n",
        "\n",
        "\n",
        "# Initialiser le StandardScaler\n",
        "from sklearn.preprocessing import StandardScaler # Make sure StandardScaler is imported\n",
        "scaler = StandardScaler()\n",
        "\n",
        "# Appliquer la mise à l'échelle des variables numériques\n",
        "df[numerical_columns] = scaler.fit_transform(df[numerical_columns])\n",
        "\n",
        "# Afficher les premières lignes du dataset après mise à l'échelle\n",
        "print(\"\\nAperçu du dataset après mise à l'échelle des caractéristiques numériques :\")\n",
        "print(df.head())\n"
      ],
      "metadata": {
        "id": "y_nrR6ZreNgd",
        "colab": {
          "base_uri": "https://localhost:8080/"
        },
        "outputId": "37262905-c9c6-48c0-8545-f241e9f4c527"
      },
      "execution_count": 122,
      "outputs": [
        {
          "output_type": "stream",
          "name": "stdout",
          "text": [
            "\n",
            "Aperçu du dataset après encodage des variables catégorielles :\n",
            "   customerID  gender  SeniorCitizen  Partner  Dependents  tenure  \\\n",
            "0  7590-VHVEG       0              0        1           0       1   \n",
            "1  5575-GNVDE       1              0        0           0      34   \n",
            "2  3668-QPYBK       1              0        0           0       2   \n",
            "3  7795-CFOCW       1              0        0           0      45   \n",
            "4  9237-HQITU       0              0        0           0       2   \n",
            "\n",
            "   PhoneService  MultipleLines  InternetService  OnlineSecurity  ...  \\\n",
            "0             0              1                0               0  ...   \n",
            "1             1              0                0               2  ...   \n",
            "2             1              0                0               2  ...   \n",
            "3             0              1                0               2  ...   \n",
            "4             1              0                1               0  ...   \n",
            "\n",
            "   DeviceProtection  TechSupport  StreamingTV  StreamingMovies  Contract  \\\n",
            "0                 0            0            0                0         0   \n",
            "1                 2            0            0                0         1   \n",
            "2                 0            0            0                0         0   \n",
            "3                 2            2            0                0         1   \n",
            "4                 0            0            0                0         0   \n",
            "\n",
            "   PaperlessBilling  PaymentMethod  MonthlyCharges  TotalCharges Churn  \n",
            "0                 1              2           29.85         29.85     0  \n",
            "1                 0              3           56.95        1889.5     0  \n",
            "2                 1              3           53.85        108.15     1  \n",
            "3                 0              0           42.30       1840.75     0  \n",
            "4                 1              2           70.70        151.65     1  \n",
            "\n",
            "[5 rows x 21 columns]\n",
            "\n",
            "Aperçu du dataset après mise à l'échelle des caractéristiques numériques :\n",
            "   customerID  gender  SeniorCitizen  Partner  Dependents    tenure  \\\n",
            "0  7590-VHVEG       0              0        1           0 -1.277445   \n",
            "1  5575-GNVDE       1              0        0           0  0.066327   \n",
            "2  3668-QPYBK       1              0        0           0 -1.236724   \n",
            "3  7795-CFOCW       1              0        0           0  0.514251   \n",
            "4  9237-HQITU       0              0        0           0 -1.236724   \n",
            "\n",
            "   PhoneService  MultipleLines  InternetService  OnlineSecurity  ...  \\\n",
            "0             0              1                0               0  ...   \n",
            "1             1              0                0               2  ...   \n",
            "2             1              0                0               2  ...   \n",
            "3             0              1                0               2  ...   \n",
            "4             1              0                1               0  ...   \n",
            "\n",
            "   DeviceProtection  TechSupport  StreamingTV  StreamingMovies  Contract  \\\n",
            "0                 0            0            0                0         0   \n",
            "1                 2            0            0                0         1   \n",
            "2                 0            0            0                0         0   \n",
            "3                 2            2            0                0         1   \n",
            "4                 0            0            0                0         0   \n",
            "\n",
            "   PaperlessBilling  PaymentMethod  MonthlyCharges  TotalCharges  Churn  \n",
            "0                 1              2       -1.160323     -0.994971      0  \n",
            "1                 0              3       -0.259629     -0.173876      0  \n",
            "2                 1              3       -0.362660     -0.960399      1  \n",
            "3                 0              0       -0.746535     -0.195400      0  \n",
            "4                 1              2        0.197365     -0.941193      1  \n",
            "\n",
            "[5 rows x 21 columns]\n"
          ]
        }
      ]
    },
    {
      "cell_type": "code",
      "source": [
        "# Split the dataset into features (X) and target variable (y)\n",
        "X = df.drop('Churn', axis=1)  # Toutes les colonnes sauf 'Churn'\n",
        "y = df['Churn']  # La colonne cible (Churn)"
      ],
      "metadata": {
        "id": "2uuKGrozeVet"
      },
      "execution_count": 136,
      "outputs": []
    },
    {
      "cell_type": "code",
      "source": [
        "# Split the data into training and testing sets using train_test_split\n",
        "\n",
        "X_train, X_test, y_train, y_test = train_test_split(X, y, test_size=0.2, random_state=42)\n"
      ],
      "metadata": {
        "id": "jGjblqgFeXb-"
      },
      "execution_count": 124,
      "outputs": []
    },
    {
      "cell_type": "markdown",
      "source": [
        "### 6. **AdaBoost**\n",
        "\n",
        "- Create AdaBoost classifier with the following parameters : max_depth = 3, learning_rate = 0.1, n_estimators = 100"
      ],
      "metadata": {
        "id": "Sq0qFLn2ez5g"
      }
    },
    {
      "cell_type": "code",
      "source": [
        "# Initialize an AdaBoost classifier (e.g., xgb.XGBClassifier)\n",
        "\n",
        "\n",
        "from sklearn.ensemble import AdaBoostClassifier\n",
        "from sklearn.tree import DecisionTreeClassifier\n",
        "\n",
        "# --- Créer un arbre de décision de base ---\n",
        "# base_model = DecisionTreeClassifier(max_depth=3, random_state=42) #This is not needed anymore\n",
        "\n",
        "# Créer un modèle AdaBoost avec un arbre de décision comme base\n",
        "ada_model = AdaBoostClassifier(\n",
        "    #base_estimator=DecisionTreeClassifier(max_depth=3),  # Arbre de décision avec profondeur 3, removed\n",
        "    estimator=DecisionTreeClassifier(max_depth=3), #updated to estimator, to provide base model\n",
        "    learning_rate=0.1,  # Taux d'apprentissage\n",
        "    n_estimators=100  # Nombre d'arbres\n",
        ")\n"
      ],
      "metadata": {
        "id": "vThtvgCZe6qR"
      },
      "execution_count": 134,
      "outputs": []
    },
    {
      "cell_type": "code",
      "source": [
        "# Train the XGBoost model on the training data (e.g., using .fit() method)\n",
        "\n",
        "from xgboost import XGBClassifier\n",
        "# Diviser les données en un jeu d'entraînement et un jeu de test\n",
        "#X_train, X_test, y_train, y_test = train_test_split(X, y, test_size=0.2, random_state=42) #This is not needed anymore, already done in previous cells\n",
        "\n",
        "# Initialiser le classifieur XGBoost\n",
        "xgb_model = XGBClassifier(use_label_encoder=False, eval_metric='logloss')\n",
        "\n",
        "# Remove the 'customerID' column from the training and testing data\n",
        "X_train = X_train.drop(columns=['customerID'])\n",
        "X_test = X_test.drop(columns=['customerID'])\n",
        "\n",
        "# Entraîner le modèle XGBoost sur les données d'entraînement\n",
        "xgb_model.fit(X_train, y_train)\n",
        "\n",
        "# Effectuer des prédictions sur les données de test\n",
        "y_pred = xgb_model.predict(X_test)\n",
        "\n",
        "# Évaluer la précision du modèle XGBoost\n",
        "accuracy = accuracy_score(y_test, y_pred)\n",
        "\n",
        "# Afficher la précision\n",
        "print(f\"XGBoost Model Accuracy: {accuracy * 100:.2f}%\")"
      ],
      "metadata": {
        "id": "62CW_VxYe-lm",
        "outputId": "e6122725-6f7e-489d-c670-d06b5a552d80",
        "colab": {
          "base_uri": "https://localhost:8080/"
        }
      },
      "execution_count": 140,
      "outputs": [
        {
          "output_type": "stream",
          "name": "stderr",
          "text": [
            "/usr/local/lib/python3.11/dist-packages/xgboost/core.py:158: UserWarning: [19:10:19] WARNING: /workspace/src/learner.cc:740: \n",
            "Parameters: { \"use_label_encoder\" } are not used.\n",
            "\n",
            "  warnings.warn(smsg, UserWarning)\n"
          ]
        },
        {
          "output_type": "stream",
          "name": "stdout",
          "text": [
            "XGBoost Model Accuracy: 78.21%\n"
          ]
        }
      ]
    },
    {
      "cell_type": "code",
      "source": [
        "# Evaluate the model's performance on the testing data using appropriate metrics (e.g., accuracy_score, classification_report)\n",
        "# Import necessary modules\n",
        "from sklearn.metrics import accuracy_score, classification_report, confusion_matrix # Import confusion_matrix\n",
        "\n",
        "# Calculer la précision du modèle\n",
        "accuracy = accuracy_score(y_test, y_pred)\n",
        "\n",
        "# Afficher la précision\n",
        "print(f\"XGBoost Model Accuracy: {accuracy * 100:.2f}%\")\n",
        "\n",
        "# Afficher le rapport de classification (precision, recall, f1-score)\n",
        "print(\"\\nClassification Report:\")\n",
        "print(classification_report(y_test, y_pred))\n",
        "\n",
        "# Afficher la matrice de confusion\n",
        "print(\"\\nConfusion Matrix:\")\n",
        "print(confusion_matrix(y_test, y_pred)) # Now confusion_matrix is defined and can be used\n"
      ],
      "metadata": {
        "id": "lyFYdfxIfAbT",
        "outputId": "027d87fe-092d-43d1-b142-fb74088f5b7e",
        "colab": {
          "base_uri": "https://localhost:8080/"
        }
      },
      "execution_count": 142,
      "outputs": [
        {
          "output_type": "stream",
          "name": "stdout",
          "text": [
            "XGBoost Model Accuracy: 78.21%\n",
            "\n",
            "Classification Report:\n",
            "              precision    recall  f1-score   support\n",
            "\n",
            "           0       0.83      0.88      0.86      1036\n",
            "           1       0.61      0.50      0.55       373\n",
            "\n",
            "    accuracy                           0.78      1409\n",
            "   macro avg       0.72      0.69      0.70      1409\n",
            "weighted avg       0.77      0.78      0.77      1409\n",
            "\n",
            "\n",
            "Confusion Matrix:\n",
            "[[916 120]\n",
            " [187 186]]\n"
          ]
        }
      ]
    },
    {
      "cell_type": "markdown",
      "source": [
        "## Understanding Hyperparameter Tuning\n",
        "\n",
        "The code below may look complex at first glance, but it's aimed at helping us find the best combination of hyperparameters for our AdaBoost model.\n",
        "\n",
        "### What are Hyperparameters?\n",
        "\n",
        "Hyperparameters are settings that control the learning process of our machine learning model. They are not learned from the data, unlike model parameters, but rather set before the learning process begins.\n",
        "\n",
        "### Why Tuning Hyperparameters?\n",
        "\n",
        "Tuning hyperparameters is crucial for achieving optimal performance and preventing overfitting or underfitting of our model. By testing different combinations of hyperparameters, we can find the settings that result in the best performance on our dataset.\n",
        "\n",
        "### The Code Breakdown:\n",
        "\n",
        "- **max_depth, learning_rate, n_estimators:** These are all different hyperparameters that we're going to test. Each parameter controls a different aspect of the AdaBoost model's behavior.\n",
        "  \n",
        "- **Nested Loops:** The nested loops iterate through each combination of hyperparameter values. For example, the outer loop may iterate over max_depth values, while the inner loop may iterate over learning_rate values.\n",
        "\n",
        "- **Model Training and Evaluation:** Inside the loops, we initialize an AdaBoost model with the current hyperparameter values, train it on the training data, and evaluate its performance on the testing data using an accuracy score.\n",
        "\n",
        "- **Recording Results:** We keep track of the accuracy scores for each combination of hyperparameters. This allows us to compare the performance of different settings and identify the combination that yields the best results.\n",
        "\n",
        "By understanding and running this code, we can identify the hyperparameter settings that optimize our model's performance and achieve better predictive accuracy.\n"
      ],
      "metadata": {
        "id": "iljdtZDg8hfw"
      }
    },
    {
      "cell_type": "markdown",
      "source": [
        "To Do:\n",
        "\n",
        "- Test the following values for max_depth : 3/5/7\n",
        "- Test the following values for learning rate : 0.1/0.01/0.001\n",
        "- Test the following values for number of estimators: 100/200/300\n",
        "- Make nested loop to test all combinations of these values."
      ],
      "metadata": {
        "id": "SlcopdMCinG_"
      }
    },
    {
      "cell_type": "code",
      "source": [
        "from sklearn.ensemble import AdaBoostClassifier\n",
        "from sklearn.tree import DecisionTreeClassifier\n",
        "from sklearn.metrics import accuracy_score\n",
        "\n",
        "# Définir les valeurs possibles pour chaque hyperparamètre\n",
        "max_depth_best = best_hyperparameters[0]  # Exemple : 3\n",
        "learning_rate_best = best_hyperparameters[1]  # Exemple : 0.1\n",
        "n_estimators_best = best_hyperparameters[2]  # Exemple : 100\n",
        "\n",
        "# Initialiser un arbre de décision comme classifieur de base\n",
        "base_estimator = DecisionTreeClassifier(max_depth=max_depth_best)\n",
        "\n",
        "# Initialiser le classifieur AdaBoost avec les meilleurs paramètres\n",
        "# Changed 'base_estimator' to 'estimator'\n",
        "ada_best = AdaBoostClassifier(\n",
        "    estimator=base_estimator,  # Utilisation de l'arbre de décision comme estimateur de base\n",
        "    learning_rate=learning_rate_best,  # Taux d'apprentissage\n",
        "    n_estimators=n_estimators_best     # Nombre d'arbres\n",
        ")\n",
        "\n",
        "# Entraîner le modèle sur les données d'entraînement\n",
        "ada_best.fit(X_train, y_train)\n",
        "\n",
        "# Effectuer des prédictions sur les données de test\n",
        "y_pred = ada_best.predict(X_test)\n",
        "\n",
        "# Évaluer la performance du modèle AdaBoost sur les données de test avec le score de précision\n",
        "accuracy_ada_best = accuracy_score(y_test, y_pred)\n",
        "\n",
        "# Afficher la précision du modèle AdaBoost avec les meilleurs hyperparamètres\n",
        "print(f\"AdaBoost Model Accuracy with Best Hyperparameters: {accuracy_ada_best * 100:.2f}%\")\n"
      ],
      "metadata": {
        "id": "UOzEsr__h_lW",
        "outputId": "84b56c36-7065-43ae-942c-595fe8a8e97b",
        "colab": {
          "base_uri": "https://localhost:8080/"
        }
      },
      "execution_count": 145,
      "outputs": [
        {
          "output_type": "stream",
          "name": "stdout",
          "text": [
            "AdaBoost Model Accuracy with Best Hyperparameters: 80.98%\n"
          ]
        }
      ]
    },
    {
      "cell_type": "code",
      "source": [
        "# Cell 7: Model training with best hyperparameters - AdaBoost\n",
        "# Train the AdaBoost model on the training data using the best hyperparameters\n",
        "ada_best = AdaBoostClassifier(\n",
        "    learning_rate=learning_rate_best,  # Learning rate for the AdaBoost algorithm\n",
        "    n_estimators=n_estimators_best     # Number of trees (estimators)\n",
        ")\n",
        "\n",
        "\n",
        "# Train the AdaBoost model on the training data\n",
        "ada_best.fit(X_train, y_train)\n",
        "\n",
        "# Make predictions on the test data\n",
        "y_pred = ada_best.predict(X_test)\n",
        "\n",
        "# Evaluate the performance of the AdaBoost model on the test data using accuracy score\n",
        "accuracy_ada_best = accuracy_score(y_test, y_pred)\n",
        "\n",
        "# Print the accuracy of the AdaBoost model with the best hyperparameters\n",
        "print(f\"AdaBoost Model Accuracy with Best Hyperparameters: {accuracy_ada_best * 100:.2f}%\")\n"
      ],
      "metadata": {
        "id": "mvo9qgytiDON",
        "outputId": "cbd6eae9-0420-4d00-8e2a-dcd7b824ee60",
        "colab": {
          "base_uri": "https://localhost:8080/"
        }
      },
      "execution_count": 146,
      "outputs": [
        {
          "output_type": "stream",
          "name": "stdout",
          "text": [
            "AdaBoost Model Accuracy with Best Hyperparameters: 78.92%\n"
          ]
        }
      ]
    },
    {
      "cell_type": "markdown",
      "source": [
        "7. XGBoost\n",
        "\n",
        "Implement XGBoost classifier with the best hyperparameters values of AdaBoost and make a comparaison between them.\n"
      ],
      "metadata": {
        "id": "7fJRUXzjhhbb"
      }
    },
    {
      "cell_type": "code",
      "source": [
        "import xgboost as xgb\n",
        "from sklearn.metrics import accuracy_score\n",
        "\n",
        "# Initialiser un modèle XGBoost avec les meilleurs hyperparamètres\n",
        "xgb_model = xgb.XGBClassifier(\n",
        "    max_depth=3,                 # Profondeur maximale des arbres\n",
        "    learning_rate=0.1,           # Taux d'apprentissage\n",
        "    n_estimators=100,            # Nombre d'arbres\n",
        "    objective='binary:logistic', # Problème de classification binaire\n",
        "    eval_metric='logloss'        # Fonction d'évaluation\n",
        ")\n",
        "\n",
        "# Entraîner le modèle XGBoost sur les données d'entraînement\n",
        "xgb_model.fit(X_train, y_train)\n",
        "\n",
        "# Faire des prédictions sur les données de test\n",
        "y_pred_xgb = xgb_model.predict(X_test)\n",
        "\n",
        "# Évaluer la performance du modèle XGBoost\n",
        "accuracy_xgb = accuracy_score(y_test, y_pred_xgb)\n",
        "\n",
        "# Afficher la précision du modèle XGBoost\n",
        "print(f\"XGBoost Model Accuracy: {accuracy_xgb * 100:.2f}%\")\n"
      ],
      "metadata": {
        "id": "JPmLerUjhwm_",
        "outputId": "8bbb84e5-a869-42f3-96f3-b3e0b132172e",
        "colab": {
          "base_uri": "https://localhost:8080/"
        }
      },
      "execution_count": 147,
      "outputs": [
        {
          "output_type": "stream",
          "name": "stdout",
          "text": [
            "XGBoost Model Accuracy: 81.19%\n"
          ]
        }
      ]
    },
    {
      "cell_type": "markdown",
      "source": [
        "### 8. Stacking"
      ],
      "metadata": {
        "id": "RCz-lnLsCRXe"
      }
    },
    {
      "cell_type": "code",
      "source": [
        "# Model training - Stacking\n",
        "# Create a set of diverse base models (e.g., logistic regression, random forest, SVM)\n",
        "# Import necessary libraries\n",
        "from sklearn.ensemble import StackingClassifier, RandomForestClassifier\n",
        "from sklearn.linear_model import LogisticRegression\n",
        "from sklearn.svm import SVC\n",
        "import numpy as np\n",
        "import xgboost as xgb\n",
        "from sklearn.model_selection import train_test_split\n",
        "\n",
        "base_models = [\n",
        " ('logistic_regression', LogisticRegression(max_iter=1000)),  # Logistic Regression\n",
        "    ('random_forest', RandomForestClassifier(n_estimators=100)),  # Random Forest\n",
        "    ('svm', SVC(kernel='linear'))  # Support Vector Machine\n",
        "]\n",
        "\n",
        "# Define the meta-model (XGBoost)\n",
        "meta_model = xgb.XGBClassifier(use_label_encoder=False, eval_metric='logloss') # Add use_label_encoder=False\n",
        "\n",
        "\n"
      ],
      "metadata": {
        "id": "XGprd7Y6iVN-"
      },
      "execution_count": 163,
      "outputs": []
    },
    {
      "cell_type": "code",
      "source": [
        "# Initialize a stacking classifier with the base models and a meta-learner (e.g., another XGBoost model)\n",
        "stacking_model = StackingClassifier(estimators=base_models, final_estimator=meta_model)\n",
        "\n",
        "\n",
        "# Split data\n",
        "X_train, X_test, y_train, y_test = train_test_split(X, y, test_size=0.3, random_state=42)\n"
      ],
      "metadata": {
        "id": "hh39-5sfjIMT"
      },
      "execution_count": 164,
      "outputs": []
    }
  ]
}