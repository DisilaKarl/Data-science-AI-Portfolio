{
  "cells": [
    {
      "cell_type": "code",
      "execution_count": null,
      "metadata": {
        "id": "OiqrhTo7gwQg"
      },
      "outputs": [],
      "source": [
        "import numpy as np\n",
        "import pandas as pd\n",
        "\n",
        "import torch\n",
        "import torch.nn as nn\n",
        "import torch.optim as optim\n",
        "from sklearn.model_selection import train_test_split\n",
        "from sklearn.preprocessing import StandardScaler\n",
        "from sklearn.metrics import accuracy_score\n",
        "from sklearn.utils import shuffle\n",
        "from torch.utils.data import TensorDataset, DataLoader # Import TensorDataset and DataLoader"
      ]
    },
    {
      "cell_type": "code",
      "execution_count": null,
      "metadata": {
        "id": "TaE0k6yTgwQq"
      },
      "outputs": [],
      "source": [
        "# Load the dataset\n",
        "file_url = \"http://storage.googleapis.com/download.tensorflow.org/data/heart.csv\"\n",
        "df = pd.read_csv(file_url)\n",
        "\n",
        "# Make target variable\n",
        "y = df.pop('target')\n",
        "\n",
        "# Prepare features\n",
        "list_numerical = ['age', 'thalach', 'trestbps', 'chol', 'oldpeak']\n",
        "X = df[list_numerical]\n",
        "\n",
        "# Split the dataset\n",
        "X_train, X_test, y_train, y_test = train_test_split(X, y, test_size=0.2, random_state=42)\n",
        "\n",
        "# Scale the features\n",
        "scaler = StandardScaler().fit(X_train[list_numerical])\n",
        "X_train[list_numerical] = scaler.transform(X_train[list_numerical])\n",
        "X_test[list_numerical] = scaler.transform(X_test[list_numerical])"
      ]
    },
    {
      "cell_type": "code",
      "execution_count": null,
      "metadata": {
        "id": "UByDGiWrgwQs"
      },
      "outputs": [],
      "source": [
        "# Convert data to PyTorch tensors\n",
        "X_train_tensor = torch.tensor(X_train.values, dtype=torch.float32)\n",
        "y_train_tensor = torch.tensor(y_train.values, dtype=torch.long)  # Using long for classification targets\n",
        "\n",
        "X_test_tensor = torch.tensor(X_test.values, dtype=torch.float32)\n",
        "y_test_tensor = torch.tensor(y_test.values, dtype=torch.long)\n",
        "\n",
        "# Create a DataLoader for the training set\n",
        "train_dataset = TensorDataset(X_train_tensor, y_train_tensor)\n",
        "train_loader = DataLoader(train_dataset, batch_size=32, shuffle=True)"
      ]
    },
    {
      "cell_type": "code",
      "execution_count": null,
      "metadata": {
        "id": "RjmukssegwQt"
      },
      "outputs": [],
      "source": [
        "# Define the model\n",
        "class HeartModel(nn.Module):\n",
        "    def __init__(self):\n",
        "        super(HeartModel, self).__init__()\n",
        "        # Define the layers\n",
        "        self.fc1 = nn.Linear(in_features=5, out_features=64)  # 5 features as input, 64 units in hidden layer\n",
        "        self.fc2 = nn.Linear(in_features=64, out_features=32)  # 64 units in hidden layer, 32 units in second hidden layer\n",
        "        self.fc3 = nn.Linear(in_features=32, out_features=1)   # 32 units to 1 output (binary classification)\n",
        "        self.relu = nn.ReLU()  # ReLU activation function\n",
        "        self.sigmoid = nn.Sigmoid()  # Sigmoid activation function for binary output\n",
        "\n",
        "\n",
        "    def forward(self, x):\n",
        "        x = self.relu(self.fc1(x))  # Apply first linear layer + ReLU\n",
        "        x = self.relu(self.fc2(x))  # Apply second linear layer + ReLU\n",
        "        x = self.sigmoid(self.fc3(x))  # Apply final linear layer + Sigmoid for binary output\n",
        "\n",
        "        return x"
      ]
    },
    {
      "cell_type": "code",
      "execution_count": null,
      "metadata": {
        "id": "KRKza0FZgwQv"
      },
      "outputs": [],
      "source": [
        "model = HeartModel()\n",
        "\n",
        "# Define the loss function and optimizer\n",
        "criterion = nn.BCELoss()  # Binary Cross-Entropy Loss for binary classification\n",
        "optimizer = optim.Adam(model.parameters(), lr=0.001)  # Adam optimizer with learning rate 0.001"
      ]
    },
    {
      "cell_type": "code",
      "execution_count": null,
      "metadata": {
        "id": "XWJhRhFBgwQx",
        "outputId": "72257bdb-54e7-4200-a3f1-acedd6736e5c",
        "colab": {
          "base_uri": "https://localhost:8080/"
        }
      },
      "outputs": [
        {
          "output_type": "stream",
          "name": "stdout",
          "text": [
            "Epoch 1/15, Loss: 0.7071\n",
            "Epoch 2/15, Loss: 0.6521\n",
            "Epoch 3/15, Loss: 0.6114\n",
            "Epoch 4/15, Loss: 0.5639\n",
            "Epoch 5/15, Loss: 0.5300\n",
            "Epoch 6/15, Loss: 0.4890\n",
            "Epoch 7/15, Loss: 0.4643\n",
            "Epoch 8/15, Loss: 0.4601\n",
            "Epoch 9/15, Loss: 0.4358\n",
            "Epoch 10/15, Loss: 0.4253\n",
            "Epoch 11/15, Loss: 0.4082\n",
            "Epoch 12/15, Loss: 0.4161\n",
            "Epoch 13/15, Loss: 0.4229\n",
            "Epoch 14/15, Loss: 0.4020\n",
            "Epoch 15/15, Loss: 0.3991\n"
          ]
        }
      ],
      "source": [
        "# Train the model\n",
        "num_epochs = 15\n",
        "\n",
        "for epoch in range(num_epochs):\n",
        "    model.train()\n",
        "    epoch_loss = 0  # Track epoch loss for reporting\n",
        "    for X_batch, y_batch in train_loader:\n",
        "        # Forward pass\n",
        "        outputs = model(X_batch)\n",
        "        # Squeeze the output to match the target shape\n",
        "        outputs = outputs.squeeze(1)  # Remove the extra dimension\n",
        "\n",
        "        # Convert y_batch to float\n",
        "        y_batch = y_batch.type(torch.float32)\n",
        "\n",
        "        loss = criterion(outputs, y_batch)\n",
        "\n",
        "        # Backward pass\n",
        "        optimizer.zero_grad()\n",
        "        loss.backward()\n",
        "        optimizer.step()\n",
        "\n",
        "        # Accumulate batch loss\n",
        "        epoch_loss += loss.item()\n",
        "\n",
        "    # Print epoch loss\n",
        "    print(f\"Epoch {epoch+1}/{num_epochs}, Loss: {epoch_loss / len(train_loader):.4f}\")"
      ]
    },
    {
      "cell_type": "code",
      "execution_count": null,
      "metadata": {
        "id": "C2aBssLQgwQ5"
      },
      "outputs": [],
      "source": [
        "# Evaluate the model\n",
        "def evaluate_model(model, X, y):\n",
        "    model.eval()\n",
        "    with torch.no_grad():\n",
        "        y_pred = model(X)\n",
        "        # Get predicted class based on `y_pred` (`y_pred` are probablities)\n",
        "        y_pred_classes = (y_pred >= 0.5).int() # Convert probabilities to class labels (0 or 1)\n",
        "    return accuracy_score(y.numpy(), y_pred_classes.numpy())"
      ]
    },
    {
      "cell_type": "code",
      "execution_count": null,
      "metadata": {
        "id": "P3B3HMiHgwQ8"
      },
      "outputs": [],
      "source": [
        "# Compute permutation importance\n",
        "def permutation_importance(model, X, y):\n",
        "    baseline_score = evaluate_model(model, X, y)\n",
        "    importances = []\n",
        "\n",
        "    for i in range(X.shape[1]):\n",
        "        X_permuted = X.clone()\n",
        "        # Replacethe i column of the data with shuffled data\n",
        "        X_permuted[:, i] = ...\n",
        "        # Evaluate the model on the shuffled data\n",
        "        score = ...\n",
        "        importances.append(baseline_score - score)\n",
        "\n",
        "    return np.array(importances)"
      ]
    },
    {
      "cell_type": "code",
      "execution_count": null,
      "metadata": {
        "id": "iGXyxvKOgwQ-",
        "outputId": "72dc7026-3010-47cb-9c70-b9aa8a99dcc3",
        "colab": {
          "base_uri": "https://localhost:8080/"
        }
      },
      "outputs": [
        {
          "output_type": "stream",
          "name": "stderr",
          "text": [
            "\n",
            "  0%|          | 0/100 [00:00<?, ?it/s]\u001b[A\n",
            " 21%|██        | 21/100 [00:00<00:00, 203.97it/s]\u001b[A\n",
            " 42%|████▏     | 42/100 [00:00<00:00, 205.39it/s]\u001b[A\n",
            " 63%|██████▎   | 63/100 [00:00<00:00, 206.47it/s]\u001b[A\n",
            "100%|██████████| 100/100 [00:00<00:00, 199.08it/s]\n"
          ]
        },
        {
          "output_type": "stream",
          "name": "stdout",
          "text": [
            "Feature age: -0.0093\n",
            "Feature thalach: 0.0482\n",
            "Feature trestbps: 0.0087\n",
            "Feature chol: -0.0007\n",
            "Feature oldpeak: 0.1049\n"
          ]
        }
      ],
      "source": [
        "from tqdm import tqdm\n",
        "\n",
        "# Fonction pour calculer l'importance des caractéristiques via la permutation\n",
        "def permutation_importance(model, X_test, y_test, metric=accuracy_score):\n",
        "    baseline_preds = model(X_test).squeeze().detach().numpy()  # Obtenez les prédictions du modèle\n",
        "    baseline_preds = (baseline_preds > 0.5).astype(int)  # Convertir les probabilités en prédictions binaires\n",
        "    baseline_score = metric(y_test.numpy(), baseline_preds)  # Calculer la précision de base\n",
        "\n",
        "    importances = []\n",
        "    for i in range(X_test.shape[1]):  # Itérer sur chaque caractéristique\n",
        "        X_test_permuted = X_test.clone()\n",
        "        X_test_permuted[:, i] = X_test_permuted[:, i][torch.randperm(X_test_permuted.size(0))]  # Mélanger la caractéristique\n",
        "\n",
        "        permuted_preds = model(X_test_permuted).squeeze().detach().numpy()  # Prédictions après permutation\n",
        "        permuted_preds = (permuted_preds > 0.5).astype(int)  # Convertir les probabilités en prédictions binaires\n",
        "        permuted_score = metric(y_test.numpy(), permuted_preds)  # Calculer la précision après permutation\n",
        "\n",
        "        importance = baseline_score - permuted_score  # L'importance est la baisse de score\n",
        "        importances.append(importance)\n",
        "\n",
        "    return np.array(importances)\n",
        "\n",
        "# Calcul de l'importance des caractéristiques\n",
        "importances = [permutation_importance(model, X_test_tensor, y_test_tensor) for _ in tqdm(range(100))]  # Répéter 100 fois\n",
        "importances = np.stack(importances).mean(axis=0)  # Moyenne des importances sur 100 itérations\n",
        "\n",
        "# Afficher l'importance des caractéristiques\n",
        "for i, importance in enumerate(importances):\n",
        "    print(f\"Feature {list_numerical[i]}: {importance:.4f}\")\n"
      ]
    }
  ],
  "metadata": {
    "kernelspec": {
      "display_name": "Python 3",
      "language": "python",
      "name": "python3"
    },
    "language_info": {
      "codemirror_mode": {
        "name": "ipython",
        "version": 3
      },
      "file_extension": ".py",
      "mimetype": "text/x-python",
      "name": "python",
      "nbconvert_exporter": "python",
      "pygments_lexer": "ipython3",
      "version": "3.10.12"
    },
    "colab": {
      "provenance": []
    }
  },
  "nbformat": 4,
  "nbformat_minor": 0
}