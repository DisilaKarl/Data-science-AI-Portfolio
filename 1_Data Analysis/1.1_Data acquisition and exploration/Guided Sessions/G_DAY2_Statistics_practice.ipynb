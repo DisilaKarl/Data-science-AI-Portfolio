{
  "cells": [
    {
      "cell_type": "markdown",
      "metadata": {
        "id": "RFWdA6tMsgr1"
      },
      "source": [
        "## Coding Exercise\n",
        "🚀 Welcome to the Statistics Coding exercice!  📊\n",
        "\n",
        "\n",
        "\n",
        "Today's session is an immersive journey into the world of statistics, designed to reinforce the concepts we covered in today's class. This notebook serves as a hands-on practice opportunity, preparing you for the upcoming homework assignment.\n",
        "\n",
        "## **Instructions:**\n",
        "\n",
        "1. **Time Limit:** You have **35 minutes** to complete this notebook.\n",
        "2. **Objective:** Solve the exercises and learn how to documment and search for the info. Develop the valuable skill of efficient information search, a crucial aspect of real-world programming.\n",
        "3. **Presentation:** After completing the notebook, be ready to present your work. This will help solidify your understanding and allow for collaborative learning.\n",
        "4. **Ask for Help:** Don’t hesitate to seek clarification from your instructor. Feel free to share your screen, discuss your challenges, and collaborate on ideas.\n",
        "\n",
        "\n",
        "\n",
        "## **Why This Matters:**\n",
        "\n",
        "Understanding statistics is a key skill in data science, enabling you to draw meaningful insights from data. This challenge is a crucial step in reinforcing your knowledge and preparing you for the more in-depth exploration in your upcoming homework.\n",
        "\n",
        "Let the statistical adventure begin! Happy coding! 📈✨"
      ]
    },
    {
      "cell_type": "markdown",
      "metadata": {
        "id": "ilmj_3FGsgr5"
      },
      "source": [
        "### 1. Descriptive statistics:"
      ]
    },
    {
      "cell_type": "code",
      "execution_count": 6,
      "metadata": {
        "ExecuteTime": {
          "end_time": "2021-07-18T23:04:35.402291Z",
          "start_time": "2021-07-18T23:04:22.335997Z"
        },
        "id": "kdCUSBtEsgr6"
      },
      "outputs": [],
      "source": [
        "# import the necessary libraries\n",
        "import pandas as pd\n",
        "import numpy as np\n",
        "import matplotlib.pyplot as plt\n",
        "import seaborn as sns\n",
        "import os\n",
        "%matplotlib inline\n"
      ]
    },
    {
      "cell_type": "code",
      "execution_count": 9,
      "metadata": {
        "ExecuteTime": {
          "end_time": "2021-07-18T23:05:09.387372Z",
          "start_time": "2021-07-18T23:05:09.377391Z"
        },
        "id": "HBRnIfHNsgr7"
      },
      "outputs": [],
      "source": [
        "# Read in the data.\n",
        "df = pd.read_csv(\"/content/student-mat - student-mat.csv\")"
      ]
    },
    {
      "cell_type": "markdown",
      "metadata": {
        "id": "HVI_UFlysgr8"
      },
      "source": [
        "print the shape of df"
      ]
    },
    {
      "cell_type": "code",
      "execution_count": 12,
      "metadata": {
        "id": "z7Pj8s8ksgr8",
        "outputId": "b373da97-d2fd-4fc6-f429-ee9341b1a5f5",
        "colab": {
          "base_uri": "https://localhost:8080/"
        }
      },
      "outputs": [
        {
          "output_type": "stream",
          "name": "stdout",
          "text": [
            "(395, 33)\n"
          ]
        }
      ],
      "source": [
        "#print the shape\n",
        "print(df.shape)"
      ]
    },
    {
      "cell_type": "markdown",
      "metadata": {
        "id": "MTi24EiCsgr9"
      },
      "source": [
        "display the first 5 lines of the data"
      ]
    },
    {
      "cell_type": "code",
      "execution_count": 13,
      "metadata": {
        "id": "ztoTRJfUsgr-",
        "outputId": "9b248898-b77f-42ab-ec7b-19ec97a00d55",
        "colab": {
          "base_uri": "https://localhost:8080/",
          "height": 256
        }
      },
      "outputs": [
        {
          "output_type": "execute_result",
          "data": {
            "text/plain": [
              "  school sex  age address famsize Pstatus  Medu  Fedu     Mjob      Fjob  ...  \\\n",
              "0     GP   F   18       U     GT3       A     4     4  at_home   teacher  ...   \n",
              "1     GP   F   17       U     GT3       T     1     1  at_home     other  ...   \n",
              "2     GP   F   15       U     LE3       T     1     1  at_home     other  ...   \n",
              "3     GP   F   15       U     GT3       T     4     2   health  services  ...   \n",
              "4     GP   F   16       U     GT3       T     3     3    other     other  ...   \n",
              "\n",
              "  famrel freetime  goout  Dalc  Walc health absences  G1  G2  G3  \n",
              "0      4        3      4     1     1      3        6   5   6   6  \n",
              "1      5        3      3     1     1      3        4   5   5   6  \n",
              "2      4        3      2     2     3      3       10   7   8  10  \n",
              "3      3        2      2     1     1      5        2  15  14  15  \n",
              "4      4        3      2     1     2      5        4   6  10  10  \n",
              "\n",
              "[5 rows x 33 columns]"
            ],
            "text/html": [
              "\n",
              "  <div id=\"df-37b7c14c-04fa-4d65-adc9-d200c510f703\" class=\"colab-df-container\">\n",
              "    <div>\n",
              "<style scoped>\n",
              "    .dataframe tbody tr th:only-of-type {\n",
              "        vertical-align: middle;\n",
              "    }\n",
              "\n",
              "    .dataframe tbody tr th {\n",
              "        vertical-align: top;\n",
              "    }\n",
              "\n",
              "    .dataframe thead th {\n",
              "        text-align: right;\n",
              "    }\n",
              "</style>\n",
              "<table border=\"1\" class=\"dataframe\">\n",
              "  <thead>\n",
              "    <tr style=\"text-align: right;\">\n",
              "      <th></th>\n",
              "      <th>school</th>\n",
              "      <th>sex</th>\n",
              "      <th>age</th>\n",
              "      <th>address</th>\n",
              "      <th>famsize</th>\n",
              "      <th>Pstatus</th>\n",
              "      <th>Medu</th>\n",
              "      <th>Fedu</th>\n",
              "      <th>Mjob</th>\n",
              "      <th>Fjob</th>\n",
              "      <th>...</th>\n",
              "      <th>famrel</th>\n",
              "      <th>freetime</th>\n",
              "      <th>goout</th>\n",
              "      <th>Dalc</th>\n",
              "      <th>Walc</th>\n",
              "      <th>health</th>\n",
              "      <th>absences</th>\n",
              "      <th>G1</th>\n",
              "      <th>G2</th>\n",
              "      <th>G3</th>\n",
              "    </tr>\n",
              "  </thead>\n",
              "  <tbody>\n",
              "    <tr>\n",
              "      <th>0</th>\n",
              "      <td>GP</td>\n",
              "      <td>F</td>\n",
              "      <td>18</td>\n",
              "      <td>U</td>\n",
              "      <td>GT3</td>\n",
              "      <td>A</td>\n",
              "      <td>4</td>\n",
              "      <td>4</td>\n",
              "      <td>at_home</td>\n",
              "      <td>teacher</td>\n",
              "      <td>...</td>\n",
              "      <td>4</td>\n",
              "      <td>3</td>\n",
              "      <td>4</td>\n",
              "      <td>1</td>\n",
              "      <td>1</td>\n",
              "      <td>3</td>\n",
              "      <td>6</td>\n",
              "      <td>5</td>\n",
              "      <td>6</td>\n",
              "      <td>6</td>\n",
              "    </tr>\n",
              "    <tr>\n",
              "      <th>1</th>\n",
              "      <td>GP</td>\n",
              "      <td>F</td>\n",
              "      <td>17</td>\n",
              "      <td>U</td>\n",
              "      <td>GT3</td>\n",
              "      <td>T</td>\n",
              "      <td>1</td>\n",
              "      <td>1</td>\n",
              "      <td>at_home</td>\n",
              "      <td>other</td>\n",
              "      <td>...</td>\n",
              "      <td>5</td>\n",
              "      <td>3</td>\n",
              "      <td>3</td>\n",
              "      <td>1</td>\n",
              "      <td>1</td>\n",
              "      <td>3</td>\n",
              "      <td>4</td>\n",
              "      <td>5</td>\n",
              "      <td>5</td>\n",
              "      <td>6</td>\n",
              "    </tr>\n",
              "    <tr>\n",
              "      <th>2</th>\n",
              "      <td>GP</td>\n",
              "      <td>F</td>\n",
              "      <td>15</td>\n",
              "      <td>U</td>\n",
              "      <td>LE3</td>\n",
              "      <td>T</td>\n",
              "      <td>1</td>\n",
              "      <td>1</td>\n",
              "      <td>at_home</td>\n",
              "      <td>other</td>\n",
              "      <td>...</td>\n",
              "      <td>4</td>\n",
              "      <td>3</td>\n",
              "      <td>2</td>\n",
              "      <td>2</td>\n",
              "      <td>3</td>\n",
              "      <td>3</td>\n",
              "      <td>10</td>\n",
              "      <td>7</td>\n",
              "      <td>8</td>\n",
              "      <td>10</td>\n",
              "    </tr>\n",
              "    <tr>\n",
              "      <th>3</th>\n",
              "      <td>GP</td>\n",
              "      <td>F</td>\n",
              "      <td>15</td>\n",
              "      <td>U</td>\n",
              "      <td>GT3</td>\n",
              "      <td>T</td>\n",
              "      <td>4</td>\n",
              "      <td>2</td>\n",
              "      <td>health</td>\n",
              "      <td>services</td>\n",
              "      <td>...</td>\n",
              "      <td>3</td>\n",
              "      <td>2</td>\n",
              "      <td>2</td>\n",
              "      <td>1</td>\n",
              "      <td>1</td>\n",
              "      <td>5</td>\n",
              "      <td>2</td>\n",
              "      <td>15</td>\n",
              "      <td>14</td>\n",
              "      <td>15</td>\n",
              "    </tr>\n",
              "    <tr>\n",
              "      <th>4</th>\n",
              "      <td>GP</td>\n",
              "      <td>F</td>\n",
              "      <td>16</td>\n",
              "      <td>U</td>\n",
              "      <td>GT3</td>\n",
              "      <td>T</td>\n",
              "      <td>3</td>\n",
              "      <td>3</td>\n",
              "      <td>other</td>\n",
              "      <td>other</td>\n",
              "      <td>...</td>\n",
              "      <td>4</td>\n",
              "      <td>3</td>\n",
              "      <td>2</td>\n",
              "      <td>1</td>\n",
              "      <td>2</td>\n",
              "      <td>5</td>\n",
              "      <td>4</td>\n",
              "      <td>6</td>\n",
              "      <td>10</td>\n",
              "      <td>10</td>\n",
              "    </tr>\n",
              "  </tbody>\n",
              "</table>\n",
              "<p>5 rows × 33 columns</p>\n",
              "</div>\n",
              "    <div class=\"colab-df-buttons\">\n",
              "\n",
              "  <div class=\"colab-df-container\">\n",
              "    <button class=\"colab-df-convert\" onclick=\"convertToInteractive('df-37b7c14c-04fa-4d65-adc9-d200c510f703')\"\n",
              "            title=\"Convert this dataframe to an interactive table.\"\n",
              "            style=\"display:none;\">\n",
              "\n",
              "  <svg xmlns=\"http://www.w3.org/2000/svg\" height=\"24px\" viewBox=\"0 -960 960 960\">\n",
              "    <path d=\"M120-120v-720h720v720H120Zm60-500h600v-160H180v160Zm220 220h160v-160H400v160Zm0 220h160v-160H400v160ZM180-400h160v-160H180v160Zm440 0h160v-160H620v160ZM180-180h160v-160H180v160Zm440 0h160v-160H620v160Z\"/>\n",
              "  </svg>\n",
              "    </button>\n",
              "\n",
              "  <style>\n",
              "    .colab-df-container {\n",
              "      display:flex;\n",
              "      gap: 12px;\n",
              "    }\n",
              "\n",
              "    .colab-df-convert {\n",
              "      background-color: #E8F0FE;\n",
              "      border: none;\n",
              "      border-radius: 50%;\n",
              "      cursor: pointer;\n",
              "      display: none;\n",
              "      fill: #1967D2;\n",
              "      height: 32px;\n",
              "      padding: 0 0 0 0;\n",
              "      width: 32px;\n",
              "    }\n",
              "\n",
              "    .colab-df-convert:hover {\n",
              "      background-color: #E2EBFA;\n",
              "      box-shadow: 0px 1px 2px rgba(60, 64, 67, 0.3), 0px 1px 3px 1px rgba(60, 64, 67, 0.15);\n",
              "      fill: #174EA6;\n",
              "    }\n",
              "\n",
              "    .colab-df-buttons div {\n",
              "      margin-bottom: 4px;\n",
              "    }\n",
              "\n",
              "    [theme=dark] .colab-df-convert {\n",
              "      background-color: #3B4455;\n",
              "      fill: #D2E3FC;\n",
              "    }\n",
              "\n",
              "    [theme=dark] .colab-df-convert:hover {\n",
              "      background-color: #434B5C;\n",
              "      box-shadow: 0px 1px 3px 1px rgba(0, 0, 0, 0.15);\n",
              "      filter: drop-shadow(0px 1px 2px rgba(0, 0, 0, 0.3));\n",
              "      fill: #FFFFFF;\n",
              "    }\n",
              "  </style>\n",
              "\n",
              "    <script>\n",
              "      const buttonEl =\n",
              "        document.querySelector('#df-37b7c14c-04fa-4d65-adc9-d200c510f703 button.colab-df-convert');\n",
              "      buttonEl.style.display =\n",
              "        google.colab.kernel.accessAllowed ? 'block' : 'none';\n",
              "\n",
              "      async function convertToInteractive(key) {\n",
              "        const element = document.querySelector('#df-37b7c14c-04fa-4d65-adc9-d200c510f703');\n",
              "        const dataTable =\n",
              "          await google.colab.kernel.invokeFunction('convertToInteractive',\n",
              "                                                    [key], {});\n",
              "        if (!dataTable) return;\n",
              "\n",
              "        const docLinkHtml = 'Like what you see? Visit the ' +\n",
              "          '<a target=\"_blank\" href=https://colab.research.google.com/notebooks/data_table.ipynb>data table notebook</a>'\n",
              "          + ' to learn more about interactive tables.';\n",
              "        element.innerHTML = '';\n",
              "        dataTable['output_type'] = 'display_data';\n",
              "        await google.colab.output.renderOutput(dataTable, element);\n",
              "        const docLink = document.createElement('div');\n",
              "        docLink.innerHTML = docLinkHtml;\n",
              "        element.appendChild(docLink);\n",
              "      }\n",
              "    </script>\n",
              "  </div>\n",
              "\n",
              "\n",
              "<div id=\"df-131d4bf6-f51e-4786-a90a-5e093ffc35ce\">\n",
              "  <button class=\"colab-df-quickchart\" onclick=\"quickchart('df-131d4bf6-f51e-4786-a90a-5e093ffc35ce')\"\n",
              "            title=\"Suggest charts\"\n",
              "            style=\"display:none;\">\n",
              "\n",
              "<svg xmlns=\"http://www.w3.org/2000/svg\" height=\"24px\"viewBox=\"0 0 24 24\"\n",
              "     width=\"24px\">\n",
              "    <g>\n",
              "        <path d=\"M19 3H5c-1.1 0-2 .9-2 2v14c0 1.1.9 2 2 2h14c1.1 0 2-.9 2-2V5c0-1.1-.9-2-2-2zM9 17H7v-7h2v7zm4 0h-2V7h2v10zm4 0h-2v-4h2v4z\"/>\n",
              "    </g>\n",
              "</svg>\n",
              "  </button>\n",
              "\n",
              "<style>\n",
              "  .colab-df-quickchart {\n",
              "      --bg-color: #E8F0FE;\n",
              "      --fill-color: #1967D2;\n",
              "      --hover-bg-color: #E2EBFA;\n",
              "      --hover-fill-color: #174EA6;\n",
              "      --disabled-fill-color: #AAA;\n",
              "      --disabled-bg-color: #DDD;\n",
              "  }\n",
              "\n",
              "  [theme=dark] .colab-df-quickchart {\n",
              "      --bg-color: #3B4455;\n",
              "      --fill-color: #D2E3FC;\n",
              "      --hover-bg-color: #434B5C;\n",
              "      --hover-fill-color: #FFFFFF;\n",
              "      --disabled-bg-color: #3B4455;\n",
              "      --disabled-fill-color: #666;\n",
              "  }\n",
              "\n",
              "  .colab-df-quickchart {\n",
              "    background-color: var(--bg-color);\n",
              "    border: none;\n",
              "    border-radius: 50%;\n",
              "    cursor: pointer;\n",
              "    display: none;\n",
              "    fill: var(--fill-color);\n",
              "    height: 32px;\n",
              "    padding: 0;\n",
              "    width: 32px;\n",
              "  }\n",
              "\n",
              "  .colab-df-quickchart:hover {\n",
              "    background-color: var(--hover-bg-color);\n",
              "    box-shadow: 0 1px 2px rgba(60, 64, 67, 0.3), 0 1px 3px 1px rgba(60, 64, 67, 0.15);\n",
              "    fill: var(--button-hover-fill-color);\n",
              "  }\n",
              "\n",
              "  .colab-df-quickchart-complete:disabled,\n",
              "  .colab-df-quickchart-complete:disabled:hover {\n",
              "    background-color: var(--disabled-bg-color);\n",
              "    fill: var(--disabled-fill-color);\n",
              "    box-shadow: none;\n",
              "  }\n",
              "\n",
              "  .colab-df-spinner {\n",
              "    border: 2px solid var(--fill-color);\n",
              "    border-color: transparent;\n",
              "    border-bottom-color: var(--fill-color);\n",
              "    animation:\n",
              "      spin 1s steps(1) infinite;\n",
              "  }\n",
              "\n",
              "  @keyframes spin {\n",
              "    0% {\n",
              "      border-color: transparent;\n",
              "      border-bottom-color: var(--fill-color);\n",
              "      border-left-color: var(--fill-color);\n",
              "    }\n",
              "    20% {\n",
              "      border-color: transparent;\n",
              "      border-left-color: var(--fill-color);\n",
              "      border-top-color: var(--fill-color);\n",
              "    }\n",
              "    30% {\n",
              "      border-color: transparent;\n",
              "      border-left-color: var(--fill-color);\n",
              "      border-top-color: var(--fill-color);\n",
              "      border-right-color: var(--fill-color);\n",
              "    }\n",
              "    40% {\n",
              "      border-color: transparent;\n",
              "      border-right-color: var(--fill-color);\n",
              "      border-top-color: var(--fill-color);\n",
              "    }\n",
              "    60% {\n",
              "      border-color: transparent;\n",
              "      border-right-color: var(--fill-color);\n",
              "    }\n",
              "    80% {\n",
              "      border-color: transparent;\n",
              "      border-right-color: var(--fill-color);\n",
              "      border-bottom-color: var(--fill-color);\n",
              "    }\n",
              "    90% {\n",
              "      border-color: transparent;\n",
              "      border-bottom-color: var(--fill-color);\n",
              "    }\n",
              "  }\n",
              "</style>\n",
              "\n",
              "  <script>\n",
              "    async function quickchart(key) {\n",
              "      const quickchartButtonEl =\n",
              "        document.querySelector('#' + key + ' button');\n",
              "      quickchartButtonEl.disabled = true;  // To prevent multiple clicks.\n",
              "      quickchartButtonEl.classList.add('colab-df-spinner');\n",
              "      try {\n",
              "        const charts = await google.colab.kernel.invokeFunction(\n",
              "            'suggestCharts', [key], {});\n",
              "      } catch (error) {\n",
              "        console.error('Error during call to suggestCharts:', error);\n",
              "      }\n",
              "      quickchartButtonEl.classList.remove('colab-df-spinner');\n",
              "      quickchartButtonEl.classList.add('colab-df-quickchart-complete');\n",
              "    }\n",
              "    (() => {\n",
              "      let quickchartButtonEl =\n",
              "        document.querySelector('#df-131d4bf6-f51e-4786-a90a-5e093ffc35ce button');\n",
              "      quickchartButtonEl.style.display =\n",
              "        google.colab.kernel.accessAllowed ? 'block' : 'none';\n",
              "    })();\n",
              "  </script>\n",
              "</div>\n",
              "\n",
              "    </div>\n",
              "  </div>\n"
            ],
            "application/vnd.google.colaboratory.intrinsic+json": {
              "type": "dataframe",
              "variable_name": "df"
            }
          },
          "metadata": {},
          "execution_count": 13
        }
      ],
      "source": [
        " #what's the function that displays just the 5 first lines of a dataset\n",
        " df.head()"
      ]
    },
    {
      "cell_type": "markdown",
      "metadata": {
        "id": "MKqpJ-rBv5vr"
      },
      "source": [
        "# Embark on the Statistical Odyssey 📊🚀\n",
        "\n",
        "## Descriptive Statistics:\n",
        "\n",
        "### Mean (Average):\n",
        "The **mean** is the central value that represents the average of a dataset. It's calculated by adding up all values and dividing by the number of data points. The mean provides a measure of central tendency.\n",
        "\n",
        "$$\n",
        "\\text{Mean} = \\frac{\\sum_{i=1}^{n} x_i}{n}\n",
        "$$\n",
        "\n",
        "### Median:\n",
        "The **median** is the middle value of a dataset when arranged in ascending order. It offers insights into the center of the distribution and is less influenced by extreme values.\n",
        "\n",
        "### Mode:\n",
        "The **mode** is the value that occurs most frequently in a dataset. It highlights the most common observation and is particularly useful in categorical data.\n",
        "\n",
        "### Range:\n",
        "The **range** is the difference between the maximum and minimum values in a dataset. It provides a simple measure of the spread or dispersion of the data.\n",
        "\n",
        "## Measures of Spread:\n",
        "\n",
        "### Variance:\n",
        "**Variance** quantifies the spread of values in a dataset. It's the average of the squared differences between each data point and the mean. Higher variance indicates greater variability.\n",
        "\n",
        "$$\n",
        "\\text{Variance} = \\frac{\\sum_{i=1}^{n} (x_i - \\text{Mean})^2}{n}\n",
        "$$\n",
        "\n",
        "### Standard Deviation:\n",
        "The **standard deviation** is the square root of the variance. It represents the typical distance between data points and the mean, providing a more interpretable measure of spread.\n",
        "\n",
        "$$\n",
        "\\text{Standard Deviation} = \\sqrt{\\text{Variance}}\n",
        "$$\n",
        "\n",
        "## Correlation:\n",
        "\n",
        "### Correlation Coefficient (r):\n",
        "The **correlation coefficient** (r) measures the strength and direction of a linear relationship between two variables. It ranges from -1 to 1, where 1 indicates a perfect positive correlation, -1 indicates a perfect negative correlation, and 0 indicates no linear correlation.\n",
        "\n",
        "\n",
        "\n",
        "## Quantiles:\n",
        "\n",
        "### Median (50th Percentile):\n",
        "The **median** is the middle value that divides a dataset into two equal halves. It represents the 50th percentile, meaning 50% of the data lies below and 50% lies above it.\n",
        "\n",
        "### Quartiles (Q1, Q2, Q3):\n",
        "**Quartiles** divide a dataset into four equal parts. Q1 is the 25th percentile, Q2 is the 50th percentile (median), and Q3 is the 75th percentile. They provide insights into the distribution's spread and central tendencies.\n",
        "\n",
        "Dive into the world of statistics; each notion uncovers a unique facet of your data! 🎭✨\n"
      ]
    },
    {
      "cell_type": "markdown",
      "metadata": {
        "id": "Bd46_azVsgr_"
      },
      "source": [
        "# 1.1. Sample statistics:"
      ]
    },
    {
      "cell_type": "markdown",
      "metadata": {
        "id": "eIczSr_7sgsA"
      },
      "source": [
        "calculate the mean and the variance of the column `'height'`\n"
      ]
    },
    {
      "cell_type": "code",
      "execution_count": 15,
      "metadata": {
        "id": "Ji_mZzftsgsA",
        "outputId": "6107708d-a980-48f5-b016-ccd7a78d7f05",
        "colab": {
          "base_uri": "https://localhost:8080/"
        }
      },
      "outputs": [
        {
          "output_type": "stream",
          "name": "stdout",
          "text": [
            "Moyenne de la colonne 'height' : 3.8\n"
          ]
        }
      ],
      "source": [
        "import pandas as pd\n",
        "\n",
        "data = {\n",
        "    \"name\": [\"0\", \"1\", \"2\", \"3\", \"4\"],\n",
        "    \"height\": [3, 3, 3, 5, 5]\n",
        "}\n",
        "df = pd.DataFrame(data)\n",
        "\n",
        "# Calculer la moyenne de la colonne 'height'\n",
        "mean_height = df[\"height\"].mean()\n",
        "print(\"Moyenne de la colonne 'height' :\", mean_height)"
      ]
    },
    {
      "cell_type": "code",
      "execution_count": 16,
      "metadata": {
        "ExecuteTime": {
          "end_time": "2021-07-18T23:09:56.851989Z",
          "start_time": "2021-07-18T23:09:56.833998Z"
        },
        "id": "USPBqJ8CsgsA",
        "outputId": "b9069d69-8ee9-420f-da6e-ae24a0ed9b73",
        "colab": {
          "base_uri": "https://localhost:8080/"
        }
      },
      "outputs": [
        {
          "output_type": "stream",
          "name": "stdout",
          "text": [
            "Variance de la colonne 'height' : 1.2\n"
          ]
        }
      ],
      "source": [
        "#Compute the variance\n",
        "variance_height = df[\"height\"].var()\n",
        "print(\"Variance de la colonne 'height' :\", variance_height)"
      ]
    },
    {
      "cell_type": "code",
      "execution_count": 17,
      "metadata": {
        "id": "RwLEzMVBt4N7",
        "outputId": "4fe66fb5-5024-46f0-e07f-3cd580fd585f",
        "colab": {
          "base_uri": "https://localhost:8080/"
        }
      },
      "outputs": [
        {
          "output_type": "stream",
          "name": "stdout",
          "text": [
            "Mode de la colonne 'height' : 0    3\n",
            "Name: height, dtype: int64\n"
          ]
        }
      ],
      "source": [
        "# compute the mode\n",
        "mode_height = df[\"height\"].mode()\n",
        "print(\"Mode de la colonne 'height' :\", mode_height)"
      ]
    },
    {
      "cell_type": "markdown",
      "metadata": {
        "id": "_I547cpWt4N7"
      },
      "source": [
        "- What represent the mode for dataset?\n"
      ]
    },
    {
      "cell_type": "markdown",
      "metadata": {
        "id": "gH11bRK5t4N7"
      },
      "source": [
        "Answer: It represent the most frequent values"
      ]
    },
    {
      "cell_type": "markdown",
      "metadata": {
        "id": "BcDgYMUcsgsB"
      },
      "source": [
        "same as the above but with std\n",
        "\n",
        "> ddof: Means Delta Degrees of Freedom. The divisor used in calculations is N - ddof, where N represents the number of elements. By default ddof is zero.\n",
        "\n"
      ]
    },
    {
      "cell_type": "code",
      "execution_count": 19,
      "metadata": {
        "ExecuteTime": {
          "end_time": "2021-07-18T23:10:00.721794Z",
          "start_time": "2021-07-18T23:10:00.713797Z"
        },
        "id": "X8anfXpgsgsB",
        "outputId": "69d5d6ae-c68d-497f-b0a2-92b0cabfda4b",
        "colab": {
          "base_uri": "https://localhost:8080/"
        }
      },
      "outputs": [
        {
          "output_type": "stream",
          "name": "stdout",
          "text": [
            "Écart-type de la colonne 'height' (ddof=0) : 0.9797958971132712\n",
            "Écart-type de la colonne 'height' (ddof=1, échantillon) : 1.0954451150103321\n"
          ]
        }
      ],
      "source": [
        "#the standard deviation.\n",
        "# Calculer l'écart-type de la colonne 'height' avec ddof=0 (par défaut)\n",
        "std_height = df[\"height\"].std(ddof=0)\n",
        "\n",
        "# Afficher l'écart-type\n",
        "print(\"Écart-type de la colonne 'height' (ddof=0) :\", std_height)\n",
        "\n",
        "# Calculer l'écart-type avec ddof=1 (pour échantillon)\n",
        "std_height_sample = df[\"height\"].std(ddof=1)\n",
        "\n",
        "# Afficher l'écart-type pour échantillon\n",
        "print(\"Écart-type de la colonne 'height' (ddof=1, échantillon) :\", std_height_sample)"
      ]
    },
    {
      "cell_type": "markdown",
      "metadata": {
        "id": "SfTdVcOqsgsB"
      },
      "source": [
        "calculate the : mean , median , min and max of the ``height`` column"
      ]
    },
    {
      "cell_type": "code",
      "execution_count": 20,
      "metadata": {
        "id": "RcSmJdjcsgsB",
        "outputId": "42593c26-c3ba-454d-fc0a-259eb74d7922",
        "colab": {
          "base_uri": "https://localhost:8080/"
        }
      },
      "outputs": [
        {
          "output_type": "stream",
          "name": "stdout",
          "text": [
            "Moyenne de la colonne 'height' : 3.8\n",
            "Médiane de la colonne 'height' : 3.0\n",
            "Minimum de la colonne 'height' : 3\n",
            "Maximum de la colonne 'height' : 5\n"
          ]
        }
      ],
      "source": [
        "#write your code here\n",
        "# Calculer la moyenne de la colonne 'height'\n",
        "mean_height = df[\"height\"].mean()\n",
        "\n",
        "# Calculer la médiane de la colonne 'height'\n",
        "median_height = df[\"height\"].median()\n",
        "\n",
        "# Calculer le minimum de la colonne 'height'\n",
        "min_height = df[\"height\"].min()\n",
        "\n",
        "# Calculer le maximum de la colonne 'height'\n",
        "max_height = df[\"height\"].max()\n",
        "\n",
        "# Afficher les résultats\n",
        "print(\"Moyenne de la colonne 'height' :\", mean_height)\n",
        "print(\"Médiane de la colonne 'height' :\", median_height)\n",
        "print(\"Minimum de la colonne 'height' :\", min_height)\n",
        "print(\"Maximum de la colonne 'height' :\", max_height)"
      ]
    },
    {
      "cell_type": "markdown",
      "metadata": {
        "id": "iVN9pXlFsgsC"
      },
      "source": [
        "get the quantile at $alpha = 0.1$ (hint : read the documentation dataframe quantile)"
      ]
    },
    {
      "cell_type": "code",
      "execution_count": 21,
      "metadata": {
        "ExecuteTime": {
          "end_time": "2021-07-18T23:17:22.416139Z",
          "start_time": "2021-07-18T23:17:22.410139Z"
        },
        "id": "dQBhzxrYsgsC",
        "outputId": "fe58ee96-f7c3-4613-b108-4f1b56670f76",
        "colab": {
          "base_uri": "https://localhost:8080/"
        }
      },
      "outputs": [
        {
          "output_type": "stream",
          "name": "stdout",
          "text": [
            "Quantile à alpha=0.1 de la colonne 'height' : 3.0\n"
          ]
        }
      ],
      "source": [
        "# Quantile\n",
        "# Calculer le quantile à alpha = 0.1\n",
        "quantile_alpha = df[\"height\"].quantile(0.1)\n",
        "\n",
        "# Afficher le résultat\n",
        "print(\"Quantile à alpha=0.1 de la colonne 'height' :\", quantile_alpha)"
      ]
    },
    {
      "cell_type": "markdown",
      "metadata": {
        "id": "JctdUJk_sgsC"
      },
      "source": [
        "same as the above but with $alpha = 0.9$"
      ]
    },
    {
      "cell_type": "code",
      "execution_count": 22,
      "metadata": {
        "ExecuteTime": {
          "end_time": "2021-07-18T23:17:50.567333Z",
          "start_time": "2021-07-18T23:17:50.551706Z"
        },
        "id": "cqrqcDkPsgsC",
        "outputId": "37539996-7e28-4175-e2a5-17eb586922be",
        "colab": {
          "base_uri": "https://localhost:8080/"
        }
      },
      "outputs": [
        {
          "output_type": "stream",
          "name": "stdout",
          "text": [
            "Quantile à alpha=0.9 de la colonne 'height' : 5.0\n"
          ]
        }
      ],
      "source": [
        "# Quantile at alpha = 0.9\n",
        "# Calculer le quantile à alpha = 0.9\n",
        "quantile_alpha = df[\"height\"].quantile(0.9)\n",
        "\n",
        "# Afficher le résultat\n",
        "print(\"Quantile à alpha=0.9 de la colonne 'height' :\", quantile_alpha)"
      ]
    },
    {
      "cell_type": "markdown",
      "metadata": {
        "id": "n9bsv5hksgsD"
      },
      "source": [
        "# 1.2. Boxplot:"
      ]
    },
    {
      "cell_type": "markdown",
      "metadata": {
        "id": "AURG2kJcyvJL"
      },
      "source": [
        "\n",
        "## Understanding Boxplots:\n",
        "\n",
        "A **boxplot**, or box-and-whisker plot, provides a visual summary of the distribution of a dataset. It highlights key statistics, such as the median, interquartile range (IQR), and potential outliers.\n",
        "\n",
        "### Components of a Boxplot:\n",
        "\n",
        "1. **Box (Quartiles Q1, Q2, Q3):**\n",
        "   - The box represents the IQR, the range between Q1 and Q3.\n",
        "   - The line inside the box is the median (Q2).\n",
        "\n",
        "2. **Whiskers:**\n",
        "   - Whiskers extend to the minimum and maximum values within a specified range (often 1.5 times the IQR).\n",
        "   - Outliers beyond the whiskers are plotted individually.\n",
        "\n",
        "3. **Outliers:**\n",
        "   - Outliers fall outside the whiskers and may indicate extreme values.\n",
        "\n",
        "## Insights for Height:\n",
        "\n",
        "The boxplot for the \"height\" column reveals valuable insights:\n",
        "\n",
        "- **Median Height (Q2):** The line inside the box represents the central height, around which half of the heights lie.\n",
        "\n",
        "- **Interquartile Range (IQR):** The height of the box (Q3 - Q1) shows where the middle 50% of heights are concentrated.\n",
        "\n",
        "- **Outliers:** Individual heights beyond the whiskers are potential outliers, drawing attention to unusually tall or short individuals.\n",
        "\n",
        "## Unlocking Patterns:\n",
        "\n",
        "Interpreting the height boxplot unveils patterns in the central tendency and spread of height data. It's a quick and insightful way to understand the distribution of heights in your dataset.\n",
        "\n",
        "Explore the nuances of height with boxplots; the visual story they tell is both illuminating and efficient! 📦🔍\n"
      ]
    },
    {
      "cell_type": "markdown",
      "metadata": {
        "id": "Zta54ruvsgsD"
      },
      "source": [
        "use what you've learned to calculate the inter quantile range using its forumla"
      ]
    },
    {
      "cell_type": "code",
      "execution_count": 23,
      "metadata": {
        "ExecuteTime": {
          "end_time": "2021-07-18T23:19:29.501855Z",
          "start_time": "2021-07-18T23:19:29.498855Z"
        },
        "id": "DhwP5TkIsgsD",
        "outputId": "fcc4491a-37cb-4f68-95a3-7f3c82d9374c",
        "colab": {
          "base_uri": "https://localhost:8080/"
        }
      },
      "outputs": [
        {
          "output_type": "execute_result",
          "data": {
            "text/plain": [
              "2.0"
            ]
          },
          "metadata": {},
          "execution_count": 23
        }
      ],
      "source": [
        "# The Inter Quartile Range\n",
        "df['height'].quantile(0.75) - df['height'].quantile(0.25)"
      ]
    },
    {
      "cell_type": "markdown",
      "metadata": {
        "id": "L49Na3DDsgsD"
      },
      "source": [
        "plot the box plot of ``height`` and ``weight`` using seaborn"
      ]
    },
    {
      "cell_type": "code",
      "execution_count": 27,
      "metadata": {
        "ExecuteTime": {
          "end_time": "2021-07-18T23:20:45.616191Z",
          "start_time": "2021-07-18T23:20:45.603202Z"
        },
        "id": "h7SEbSrhsgsD",
        "outputId": "a29f92b4-271c-4cba-8b45-e65cd7ebd3c4",
        "colab": {
          "base_uri": "https://localhost:8080/",
          "height": 411
        }
      },
      "outputs": [
        {
          "output_type": "display_data",
          "data": {
            "text/plain": [
              "<Figure size 640x480 with 1 Axes>"
            ],
            "image/png": "[encoded data removed]"
          },
          "metadata": {}
        }
      ],
      "source": [
        "# Show a Boxplot for the height.\n",
        "# Afficher un Boxplot pour la colonne 'height'\n",
        "sns.boxplot(df['height'])\n",
        "\n",
        "# Afficher le graphique\n",
        "plt.show()\n"
      ]
    },
    {
      "cell_type": "code",
      "execution_count": 29,
      "metadata": {
        "id": "xeXYcRZUsgsD",
        "outputId": "a18d3088-f905-4097-eba0-5dac25630e37",
        "colab": {
          "base_uri": "https://localhost:8080/",
          "height": 449
        }
      },
      "outputs": [
        {
          "output_type": "display_data",
          "data": {
            "text/plain": [
              "<Figure size 640x480 with 1 Axes>"
            ],
            "image/png": "[encoded data removed]"
          },
          "metadata": {}
        }
      ],
      "source": [
        "# Créer un DataFrame avec une colonne 'weight' (Exemple)\n",
        "data = {\n",
        "    \"name\": [\"0\", \"1\", \"2\", \"3\", \"4\"],\n",
        "    \"weight\": [60, 70, 65, 80, 75]  # Exemple de données de poids\n",
        "}\n",
        "df = pd.DataFrame(data)\n",
        "\n",
        "# Afficher un Boxplot pour la colonne 'weight'\n",
        "sns.boxplot(x=df['weight'])\n",
        "\n",
        "# Afficher le graphique\n",
        "plt.show()"
      ]
    },
    {
      "cell_type": "markdown",
      "metadata": {
        "id": "S62b4YNlsgsE"
      },
      "source": [
        "# 1.3. Covariance and Correlation:"
      ]
    },
    {
      "cell_type": "markdown",
      "metadata": {
        "id": "RQTyGv4IsgsE"
      },
      "source": [
        "calculate the   covariance between  ``height`` and ``weight`` using ``cov`` function"
      ]
    },
    {
      "cell_type": "code",
      "execution_count": 30,
      "metadata": {
        "ExecuteTime": {
          "end_time": "2021-07-18T23:23:32.138719Z",
          "start_time": "2021-07-18T23:23:32.121735Z"
        },
        "id": "js6u2jntsgsE",
        "outputId": "946b4d9a-beb9-4c47-d461-32d092ccb58b",
        "colab": {
          "base_uri": "https://localhost:8080/"
        }
      },
      "outputs": [
        {
          "output_type": "stream",
          "name": "stdout",
          "text": [
            "Covariance entre 'height' et 'weight' : 7.5\n"
          ]
        }
      ],
      "source": [
        "# Covariance.\n",
        "# Créer un DataFrame avec des données de 'height' et 'weight'\n",
        "data = {\n",
        "    \"name\": [\"0\", \"1\", \"2\", \"3\", \"4\"],\n",
        "    \"height\": [3, 3, 3, 5, 5],\n",
        "    \"weight\": [60, 70, 65, 80, 75]\n",
        "}\n",
        "df = pd.DataFrame(data)\n",
        "\n",
        "# Calculer la covariance entre 'height' et 'weight'\n",
        "cov = df['height'].cov(df['weight'])\n",
        "\n",
        "# Afficher la covariance\n",
        "print(\"Covariance entre 'height' et 'weight' :\", cov)"
      ]
    },
    {
      "cell_type": "markdown",
      "metadata": {
        "id": "GASlqeqIsgsE"
      },
      "source": [
        "calculate the   correlation between  ``height`` and ``weight``"
      ]
    },
    {
      "cell_type": "code",
      "execution_count": 31,
      "metadata": {
        "ExecuteTime": {
          "end_time": "2021-07-18T23:23:48.387256Z",
          "start_time": "2021-07-18T23:23:48.369249Z"
        },
        "id": "1zFTXQCEsgsE",
        "outputId": "b6d7d858-2390-4046-b8f2-84133fe18118",
        "colab": {
          "base_uri": "https://localhost:8080/"
        }
      },
      "outputs": [
        {
          "output_type": "stream",
          "name": "stdout",
          "text": [
            "Corrélation entre 'height' et 'weight' : 0.8660254037844387\n"
          ]
        }
      ],
      "source": [
        "# Correlation.\n",
        "# Créer un DataFrame avec des données de 'height' et 'weight'\n",
        "data = {\n",
        "    \"name\": [\"0\", \"1\", \"2\", \"3\", \"4\"],\n",
        "    \"height\": [3, 3, 3, 5, 5],\n",
        "    \"weight\": [60, 70, 65, 80, 75]\n",
        "}\n",
        "df = pd.DataFrame(data)\n",
        "\n",
        "# Calculer la corrélation entre 'height' et 'weight'\n",
        "correlation = df['height'].corr(df['weight'])\n",
        "\n",
        "# Afficher la corrélation\n",
        "print(\"Corrélation entre 'height' et 'weight' :\", correlation)"
      ]
    },
    {
      "cell_type": "markdown",
      "metadata": {
        "id": "Gdg3x84GsgsE"
      },
      "source": [
        "calculate the correlation between ``height`` and ``weight`` using the covariance between the two"
      ]
    },
    {
      "cell_type": "code",
      "execution_count": 32,
      "metadata": {
        "ExecuteTime": {
          "end_time": "2021-07-18T23:25:32.295937Z",
          "start_time": "2021-07-18T23:25:32.282945Z"
        },
        "id": "o9mEujoTsgsF",
        "outputId": "2ad0f89d-0352-46fc-9284-0b4bd825baff",
        "colab": {
          "base_uri": "https://localhost:8080/"
        }
      },
      "outputs": [
        {
          "output_type": "stream",
          "name": "stdout",
          "text": [
            "Corrélation entre 'height' et 'weight' : 0.8660254037844387\n"
          ]
        }
      ],
      "source": [
        "# Calculate the correlation using the covariance. (run this cell)\n",
        "# Créer un DataFrame avec des données de 'height' et 'weight'\n",
        "data = {\n",
        "    \"name\": [\"0\", \"1\", \"2\", \"3\", \"4\"],\n",
        "    \"height\": [3, 3, 3, 5, 5],\n",
        "    \"weight\": [60, 70, 65, 80, 75]\n",
        "}\n",
        "df = pd.DataFrame(data)\n",
        "\n",
        "# Calculer la covariance entre 'height' et 'weight'\n",
        "covariance = df['height'].cov(df['weight'])\n",
        "\n",
        "# Calculer l'écart-type de 'height' et 'weight'\n",
        "std_height = df['height'].std()\n",
        "std_weight = df['weight'].std()\n",
        "\n",
        "# Calculer la corrélation entre 'height' et 'weight' en utilisant la covariance\n",
        "correlation = covariance / (std_height * std_weight)\n",
        "\n",
        "# Afficher la corrélation\n",
        "print(\"Corrélation entre 'height' et 'weight' :\", correlation)"
      ]
    },
    {
      "cell_type": "markdown",
      "metadata": {
        "id": "mdOH_AyLTY3t"
      },
      "source": [
        "# Skewness and Kurtosis\n",
        "\n",
        "We will start off by importing the [Boston Housing Datatset](https://www.cs.toronto.edu/~delve/data/boston/bostonDetail.html) and measure skewness and kurtosis for a column in this dataset."
      ]
    },
    {
      "cell_type": "markdown",
      "metadata": {
        "id": "iL21aFSPzP38"
      },
      "source": [
        "\n",
        "## Understanding Skewness:\n",
        "\n",
        "**Skewness** is a statistical measure that describes the asymmetry of a distribution. It helps identify whether the data is concentrated more on one side than the other.\n",
        "\n",
        "### Interpretation of Skewness:\n",
        "\n",
        "- **Positive Skewness (Right-skewed):** The right tail is longer, indicating that the majority of values are concentrated on the left side of the distribution. The mean is typically greater than the median.\n",
        "\n",
        "- **Negative Skewness (Left-skewed):** The left tail is longer, suggesting that most values are concentrated on the right side. The mean is usually less than the median.\n",
        "\n",
        "## Understanding Kurtosis:\n",
        "\n",
        "**Kurtosis** measures the tail heaviness of a distribution, indicating whether the data has heavier or lighter tails compared to a normal distribution.\n",
        "\n",
        "### Interpretation of Kurtosis:\n",
        "\n",
        "- **Mesokurtic (Normal):** A distribution with kurtosis similar to that of a normal distribution (kurtosis = 3).\n",
        "\n",
        "- **Leptokurtic (Heavy-tailed):** Positive kurtosis indicates heavier tails, suggesting more outliers.\n",
        "\n",
        "- **Platykurtic (Light-tailed):** Negative kurtosis indicates lighter tails, implying fewer outliers.\n",
        "\n",
        "## Insights from Skewness and Kurtosis:\n",
        "\n",
        "- **Skewness Information:**\n",
        "  - Skewness helps identify the direction and extent of asymmetry in the dataset.\n",
        "\n",
        "- **Kurtosis Information:**\n",
        "  - Kurtosis provides insights into the distribution's tail behavior, indicating the presence of extreme values.\n",
        "\n",
        "## Application to Your Data:\n",
        "\n",
        "Apply skewness and kurtosis to your dataset's \"height\" or \"weight\" columns:\n",
        "\n",
        "- **Height Skewness:**\n",
        "  - Positive skewness may suggest a concentration of shorter individuals (right-skewed).\n",
        "  - Negative skewness may indicate a concentration of taller individuals (left-skewed).\n",
        "\n",
        "- **Height Kurtosis:**\n",
        "  - Leptokurtic kurtosis may signify a higher likelihood of extreme heights, potentially indicating a more variable distribution.\n",
        "\n",
        "Unlock the statistical secrets of your data with skewness and kurtosis; they provide a nuanced understanding of distribution characteristics! 📏🔍\n"
      ]
    },
    {
      "cell_type": "code",
      "execution_count": 33,
      "metadata": {
        "id": "PKqsDGxGQPgg"
      },
      "outputs": [],
      "source": [
        "import pandas as pd\n",
        "from scipy.stats import skew\n",
        "from scipy.stats import kurtosis\n",
        "import matplotlib as plt"
      ]
    },
    {
      "cell_type": "code",
      "execution_count": 34,
      "metadata": {
        "colab": {
          "base_uri": "https://localhost:8080/",
          "height": 206
        },
        "id": "Nov_ttfxQqRS",
        "outputId": "aaa47706-0cc4-467e-f08e-9cdec142bc63"
      },
      "outputs": [
        {
          "output_type": "execute_result",
          "data": {
            "text/plain": [
              "      CRIM    ZN  INDUS  CHAS    NOX     RM   AGE     DIS  RAD    TAX  \\\n",
              "0  0.00632  18.0   2.31     0  0.538  6.575  65.2  4.0900    1  296.0   \n",
              "1  0.02731   0.0   7.07     0  0.469  6.421  78.9  4.9671    2  242.0   \n",
              "2  0.02729   0.0   7.07     0  0.469  7.185  61.1  4.9671    2  242.0   \n",
              "3  0.03237   0.0   2.18     0  0.458  6.998  45.8  6.0622    3  222.0   \n",
              "4  0.06905   0.0   2.18     0  0.458  7.147  54.2  6.0622    3  222.0   \n",
              "\n",
              "   PTRATIO       B  LSTAT  MEDV  \n",
              "0     15.3  396.90   4.98  24.0  \n",
              "1     17.8  396.90   9.14  21.6  \n",
              "2     17.8  392.83   4.03  34.7  \n",
              "3     18.7  394.63   2.94  33.4  \n",
              "4     18.7  396.90   5.33  36.2  "
            ],
            "text/html": [
              "\n",
              "  <div id=\"df-314ed685-02de-4b35-a4f0-0c8d44879c0e\" class=\"colab-df-container\">\n",
              "    <div>\n",
              "<style scoped>\n",
              "    .dataframe tbody tr th:only-of-type {\n",
              "        vertical-align: middle;\n",
              "    }\n",
              "\n",
              "    .dataframe tbody tr th {\n",
              "        vertical-align: top;\n",
              "    }\n",
              "\n",
              "    .dataframe thead th {\n",
              "        text-align: right;\n",
              "    }\n",
              "</style>\n",
              "<table border=\"1\" class=\"dataframe\">\n",
              "  <thead>\n",
              "    <tr style=\"text-align: right;\">\n",
              "      <th></th>\n",
              "      <th>CRIM</th>\n",
              "      <th>ZN</th>\n",
              "      <th>INDUS</th>\n",
              "      <th>CHAS</th>\n",
              "      <th>NOX</th>\n",
              "      <th>RM</th>\n",
              "      <th>AGE</th>\n",
              "      <th>DIS</th>\n",
              "      <th>RAD</th>\n",
              "      <th>TAX</th>\n",
              "      <th>PTRATIO</th>\n",
              "      <th>B</th>\n",
              "      <th>LSTAT</th>\n",
              "      <th>MEDV</th>\n",
              "    </tr>\n",
              "  </thead>\n",
              "  <tbody>\n",
              "    <tr>\n",
              "      <th>0</th>\n",
              "      <td>0.00632</td>\n",
              "      <td>18.0</td>\n",
              "      <td>2.31</td>\n",
              "      <td>0</td>\n",
              "      <td>0.538</td>\n",
              "      <td>6.575</td>\n",
              "      <td>65.2</td>\n",
              "      <td>4.0900</td>\n",
              "      <td>1</td>\n",
              "      <td>296.0</td>\n",
              "      <td>15.3</td>\n",
              "      <td>396.90</td>\n",
              "      <td>4.98</td>\n",
              "      <td>24.0</td>\n",
              "    </tr>\n",
              "    <tr>\n",
              "      <th>1</th>\n",
              "      <td>0.02731</td>\n",
              "      <td>0.0</td>\n",
              "      <td>7.07</td>\n",
              "      <td>0</td>\n",
              "      <td>0.469</td>\n",
              "      <td>6.421</td>\n",
              "      <td>78.9</td>\n",
              "      <td>4.9671</td>\n",
              "      <td>2</td>\n",
              "      <td>242.0</td>\n",
              "      <td>17.8</td>\n",
              "      <td>396.90</td>\n",
              "      <td>9.14</td>\n",
              "      <td>21.6</td>\n",
              "    </tr>\n",
              "    <tr>\n",
              "      <th>2</th>\n",
              "      <td>0.02729</td>\n",
              "      <td>0.0</td>\n",
              "      <td>7.07</td>\n",
              "      <td>0</td>\n",
              "      <td>0.469</td>\n",
              "      <td>7.185</td>\n",
              "      <td>61.1</td>\n",
              "      <td>4.9671</td>\n",
              "      <td>2</td>\n",
              "      <td>242.0</td>\n",
              "      <td>17.8</td>\n",
              "      <td>392.83</td>\n",
              "      <td>4.03</td>\n",
              "      <td>34.7</td>\n",
              "    </tr>\n",
              "    <tr>\n",
              "      <th>3</th>\n",
              "      <td>0.03237</td>\n",
              "      <td>0.0</td>\n",
              "      <td>2.18</td>\n",
              "      <td>0</td>\n",
              "      <td>0.458</td>\n",
              "      <td>6.998</td>\n",
              "      <td>45.8</td>\n",
              "      <td>6.0622</td>\n",
              "      <td>3</td>\n",
              "      <td>222.0</td>\n",
              "      <td>18.7</td>\n",
              "      <td>394.63</td>\n",
              "      <td>2.94</td>\n",
              "      <td>33.4</td>\n",
              "    </tr>\n",
              "    <tr>\n",
              "      <th>4</th>\n",
              "      <td>0.06905</td>\n",
              "      <td>0.0</td>\n",
              "      <td>2.18</td>\n",
              "      <td>0</td>\n",
              "      <td>0.458</td>\n",
              "      <td>7.147</td>\n",
              "      <td>54.2</td>\n",
              "      <td>6.0622</td>\n",
              "      <td>3</td>\n",
              "      <td>222.0</td>\n",
              "      <td>18.7</td>\n",
              "      <td>396.90</td>\n",
              "      <td>5.33</td>\n",
              "      <td>36.2</td>\n",
              "    </tr>\n",
              "  </tbody>\n",
              "</table>\n",
              "</div>\n",
              "    <div class=\"colab-df-buttons\">\n",
              "\n",
              "  <div class=\"colab-df-container\">\n",
              "    <button class=\"colab-df-convert\" onclick=\"convertToInteractive('df-314ed685-02de-4b35-a4f0-0c8d44879c0e')\"\n",
              "            title=\"Convert this dataframe to an interactive table.\"\n",
              "            style=\"display:none;\">\n",
              "\n",
              "  <svg xmlns=\"http://www.w3.org/2000/svg\" height=\"24px\" viewBox=\"0 -960 960 960\">\n",
              "    <path d=\"M120-120v-720h720v720H120Zm60-500h600v-160H180v160Zm220 220h160v-160H400v160Zm0 220h160v-160H400v160ZM180-400h160v-160H180v160Zm440 0h160v-160H620v160ZM180-180h160v-160H180v160Zm440 0h160v-160H620v160Z\"/>\n",
              "  </svg>\n",
              "    </button>\n",
              "\n",
              "  <style>\n",
              "    .colab-df-container {\n",
              "      display:flex;\n",
              "      gap: 12px;\n",
              "    }\n",
              "\n",
              "    .colab-df-convert {\n",
              "      background-color: #E8F0FE;\n",
              "      border: none;\n",
              "      border-radius: 50%;\n",
              "      cursor: pointer;\n",
              "      display: none;\n",
              "      fill: #1967D2;\n",
              "      height: 32px;\n",
              "      padding: 0 0 0 0;\n",
              "      width: 32px;\n",
              "    }\n",
              "\n",
              "    .colab-df-convert:hover {\n",
              "      background-color: #E2EBFA;\n",
              "      box-shadow: 0px 1px 2px rgba(60, 64, 67, 0.3), 0px 1px 3px 1px rgba(60, 64, 67, 0.15);\n",
              "      fill: #174EA6;\n",
              "    }\n",
              "\n",
              "    .colab-df-buttons div {\n",
              "      margin-bottom: 4px;\n",
              "    }\n",
              "\n",
              "    [theme=dark] .colab-df-convert {\n",
              "      background-color: #3B4455;\n",
              "      fill: #D2E3FC;\n",
              "    }\n",
              "\n",
              "    [theme=dark] .colab-df-convert:hover {\n",
              "      background-color: #434B5C;\n",
              "      box-shadow: 0px 1px 3px 1px rgba(0, 0, 0, 0.15);\n",
              "      filter: drop-shadow(0px 1px 2px rgba(0, 0, 0, 0.3));\n",
              "      fill: #FFFFFF;\n",
              "    }\n",
              "  </style>\n",
              "\n",
              "    <script>\n",
              "      const buttonEl =\n",
              "        document.querySelector('#df-314ed685-02de-4b35-a4f0-0c8d44879c0e button.colab-df-convert');\n",
              "      buttonEl.style.display =\n",
              "        google.colab.kernel.accessAllowed ? 'block' : 'none';\n",
              "\n",
              "      async function convertToInteractive(key) {\n",
              "        const element = document.querySelector('#df-314ed685-02de-4b35-a4f0-0c8d44879c0e');\n",
              "        const dataTable =\n",
              "          await google.colab.kernel.invokeFunction('convertToInteractive',\n",
              "                                                    [key], {});\n",
              "        if (!dataTable) return;\n",
              "\n",
              "        const docLinkHtml = 'Like what you see? Visit the ' +\n",
              "          '<a target=\"_blank\" href=https://colab.research.google.com/notebooks/data_table.ipynb>data table notebook</a>'\n",
              "          + ' to learn more about interactive tables.';\n",
              "        element.innerHTML = '';\n",
              "        dataTable['output_type'] = 'display_data';\n",
              "        await google.colab.output.renderOutput(dataTable, element);\n",
              "        const docLink = document.createElement('div');\n",
              "        docLink.innerHTML = docLinkHtml;\n",
              "        element.appendChild(docLink);\n",
              "      }\n",
              "    </script>\n",
              "  </div>\n",
              "\n",
              "\n",
              "<div id=\"df-47fe2a00-339a-492d-a532-e3cb330c38aa\">\n",
              "  <button class=\"colab-df-quickchart\" onclick=\"quickchart('df-47fe2a00-339a-492d-a532-e3cb330c38aa')\"\n",
              "            title=\"Suggest charts\"\n",
              "            style=\"display:none;\">\n",
              "\n",
              "<svg xmlns=\"http://www.w3.org/2000/svg\" height=\"24px\"viewBox=\"0 0 24 24\"\n",
              "     width=\"24px\">\n",
              "    <g>\n",
              "        <path d=\"M19 3H5c-1.1 0-2 .9-2 2v14c0 1.1.9 2 2 2h14c1.1 0 2-.9 2-2V5c0-1.1-.9-2-2-2zM9 17H7v-7h2v7zm4 0h-2V7h2v10zm4 0h-2v-4h2v4z\"/>\n",
              "    </g>\n",
              "</svg>\n",
              "  </button>\n",
              "\n",
              "<style>\n",
              "  .colab-df-quickchart {\n",
              "      --bg-color: #E8F0FE;\n",
              "      --fill-color: #1967D2;\n",
              "      --hover-bg-color: #E2EBFA;\n",
              "      --hover-fill-color: #174EA6;\n",
              "      --disabled-fill-color: #AAA;\n",
              "      --disabled-bg-color: #DDD;\n",
              "  }\n",
              "\n",
              "  [theme=dark] .colab-df-quickchart {\n",
              "      --bg-color: #3B4455;\n",
              "      --fill-color: #D2E3FC;\n",
              "      --hover-bg-color: #434B5C;\n",
              "      --hover-fill-color: #FFFFFF;\n",
              "      --disabled-bg-color: #3B4455;\n",
              "      --disabled-fill-color: #666;\n",
              "  }\n",
              "\n",
              "  .colab-df-quickchart {\n",
              "    background-color: var(--bg-color);\n",
              "    border: none;\n",
              "    border-radius: 50%;\n",
              "    cursor: pointer;\n",
              "    display: none;\n",
              "    fill: var(--fill-color);\n",
              "    height: 32px;\n",
              "    padding: 0;\n",
              "    width: 32px;\n",
              "  }\n",
              "\n",
              "  .colab-df-quickchart:hover {\n",
              "    background-color: var(--hover-bg-color);\n",
              "    box-shadow: 0 1px 2px rgba(60, 64, 67, 0.3), 0 1px 3px 1px rgba(60, 64, 67, 0.15);\n",
              "    fill: var(--button-hover-fill-color);\n",
              "  }\n",
              "\n",
              "  .colab-df-quickchart-complete:disabled,\n",
              "  .colab-df-quickchart-complete:disabled:hover {\n",
              "    background-color: var(--disabled-bg-color);\n",
              "    fill: var(--disabled-fill-color);\n",
              "    box-shadow: none;\n",
              "  }\n",
              "\n",
              "  .colab-df-spinner {\n",
              "    border: 2px solid var(--fill-color);\n",
              "    border-color: transparent;\n",
              "    border-bottom-color: var(--fill-color);\n",
              "    animation:\n",
              "      spin 1s steps(1) infinite;\n",
              "  }\n",
              "\n",
              "  @keyframes spin {\n",
              "    0% {\n",
              "      border-color: transparent;\n",
              "      border-bottom-color: var(--fill-color);\n",
              "      border-left-color: var(--fill-color);\n",
              "    }\n",
              "    20% {\n",
              "      border-color: transparent;\n",
              "      border-left-color: var(--fill-color);\n",
              "      border-top-color: var(--fill-color);\n",
              "    }\n",
              "    30% {\n",
              "      border-color: transparent;\n",
              "      border-left-color: var(--fill-color);\n",
              "      border-top-color: var(--fill-color);\n",
              "      border-right-color: var(--fill-color);\n",
              "    }\n",
              "    40% {\n",
              "      border-color: transparent;\n",
              "      border-right-color: var(--fill-color);\n",
              "      border-top-color: var(--fill-color);\n",
              "    }\n",
              "    60% {\n",
              "      border-color: transparent;\n",
              "      border-right-color: var(--fill-color);\n",
              "    }\n",
              "    80% {\n",
              "      border-color: transparent;\n",
              "      border-right-color: var(--fill-color);\n",
              "      border-bottom-color: var(--fill-color);\n",
              "    }\n",
              "    90% {\n",
              "      border-color: transparent;\n",
              "      border-bottom-color: var(--fill-color);\n",
              "    }\n",
              "  }\n",
              "</style>\n",
              "\n",
              "  <script>\n",
              "    async function quickchart(key) {\n",
              "      const quickchartButtonEl =\n",
              "        document.querySelector('#' + key + ' button');\n",
              "      quickchartButtonEl.disabled = true;  // To prevent multiple clicks.\n",
              "      quickchartButtonEl.classList.add('colab-df-spinner');\n",
              "      try {\n",
              "        const charts = await google.colab.kernel.invokeFunction(\n",
              "            'suggestCharts', [key], {});\n",
              "      } catch (error) {\n",
              "        console.error('Error during call to suggestCharts:', error);\n",
              "      }\n",
              "      quickchartButtonEl.classList.remove('colab-df-spinner');\n",
              "      quickchartButtonEl.classList.add('colab-df-quickchart-complete');\n",
              "    }\n",
              "    (() => {\n",
              "      let quickchartButtonEl =\n",
              "        document.querySelector('#df-47fe2a00-339a-492d-a532-e3cb330c38aa button');\n",
              "      quickchartButtonEl.style.display =\n",
              "        google.colab.kernel.accessAllowed ? 'block' : 'none';\n",
              "    })();\n",
              "  </script>\n",
              "</div>\n",
              "\n",
              "    </div>\n",
              "  </div>\n"
            ],
            "application/vnd.google.colaboratory.intrinsic+json": {
              "type": "dataframe",
              "variable_name": "data",
              "summary": "{\n  \"name\": \"data\",\n  \"rows\": 506,\n  \"fields\": [\n    {\n      \"column\": \"CRIM\",\n      \"properties\": {\n        \"dtype\": \"number\",\n        \"std\": 8.601545105332487,\n        \"min\": 0.00632,\n        \"max\": 88.9762,\n        \"num_unique_values\": 504,\n        \"samples\": [\n          0.09178,\n          0.05644,\n          0.10574\n        ],\n        \"semantic_type\": \"\",\n        \"description\": \"\"\n      }\n    },\n    {\n      \"column\": \"ZN\",\n      \"properties\": {\n        \"dtype\": \"number\",\n        \"std\": 23.322452994515036,\n        \"min\": 0.0,\n        \"max\": 100.0,\n        \"num_unique_values\": 26,\n        \"samples\": [\n          25.0,\n          30.0,\n          18.0\n        ],\n        \"semantic_type\": \"\",\n        \"description\": \"\"\n      }\n    },\n    {\n      \"column\": \"INDUS\",\n      \"properties\": {\n        \"dtype\": \"number\",\n        \"std\": 6.8603529408975845,\n        \"min\": 0.46,\n        \"max\": 27.74,\n        \"num_unique_values\": 76,\n        \"samples\": [\n          8.14,\n          1.47,\n          1.22\n        ],\n        \"semantic_type\": \"\",\n        \"description\": \"\"\n      }\n    },\n    {\n      \"column\": \"CHAS\",\n      \"properties\": {\n        \"dtype\": \"number\",\n        \"std\": 0,\n        \"min\": 0,\n        \"max\": 1,\n        \"num_unique_values\": 2,\n        \"samples\": [\n          1,\n          0\n        ],\n        \"semantic_type\": \"\",\n        \"description\": \"\"\n      }\n    },\n    {\n      \"column\": \"NOX\",\n      \"properties\": {\n        \"dtype\": \"number\",\n        \"std\": 0.11587767566755611,\n        \"min\": 0.385,\n        \"max\": 0.871,\n        \"num_unique_values\": 81,\n        \"samples\": [\n          0.401,\n          0.538\n        ],\n        \"semantic_type\": \"\",\n        \"description\": \"\"\n      }\n    },\n    {\n      \"column\": \"RM\",\n      \"properties\": {\n        \"dtype\": \"number\",\n        \"std\": 0.7026171434153237,\n        \"min\": 3.561,\n        \"max\": 8.78,\n        \"num_unique_values\": 446,\n        \"samples\": [\n          6.849,\n          4.88\n        ],\n        \"semantic_type\": \"\",\n        \"description\": \"\"\n      }\n    },\n    {\n      \"column\": \"AGE\",\n      \"properties\": {\n        \"dtype\": \"number\",\n        \"std\": 28.148861406903638,\n        \"min\": 2.9,\n        \"max\": 100.0,\n        \"num_unique_values\": 356,\n        \"samples\": [\n          51.8,\n          33.8\n        ],\n        \"semantic_type\": \"\",\n        \"description\": \"\"\n      }\n    },\n    {\n      \"column\": \"DIS\",\n      \"properties\": {\n        \"dtype\": \"number\",\n        \"std\": 2.1057101266276104,\n        \"min\": 1.1296,\n        \"max\": 12.1265,\n        \"num_unique_values\": 412,\n        \"samples\": [\n          2.2955,\n          4.2515\n        ],\n        \"semantic_type\": \"\",\n        \"description\": \"\"\n      }\n    },\n    {\n      \"column\": \"RAD\",\n      \"properties\": {\n        \"dtype\": \"number\",\n        \"std\": 8,\n        \"min\": 1,\n        \"max\": 24,\n        \"num_unique_values\": 9,\n        \"samples\": [\n          7,\n          2\n        ],\n        \"semantic_type\": \"\",\n        \"description\": \"\"\n      }\n    },\n    {\n      \"column\": \"TAX\",\n      \"properties\": {\n        \"dtype\": \"number\",\n        \"std\": 168.53711605495926,\n        \"min\": 187.0,\n        \"max\": 711.0,\n        \"num_unique_values\": 66,\n        \"samples\": [\n          370.0,\n          666.0\n        ],\n        \"semantic_type\": \"\",\n        \"description\": \"\"\n      }\n    },\n    {\n      \"column\": \"PTRATIO\",\n      \"properties\": {\n        \"dtype\": \"number\",\n        \"std\": 2.164945523714446,\n        \"min\": 12.6,\n        \"max\": 22.0,\n        \"num_unique_values\": 46,\n        \"samples\": [\n          19.6,\n          15.6\n        ],\n        \"semantic_type\": \"\",\n        \"description\": \"\"\n      }\n    },\n    {\n      \"column\": \"B\",\n      \"properties\": {\n        \"dtype\": \"number\",\n        \"std\": 91.29486438415779,\n        \"min\": 0.32,\n        \"max\": 396.9,\n        \"num_unique_values\": 357,\n        \"samples\": [\n          396.24,\n          395.11\n        ],\n        \"semantic_type\": \"\",\n        \"description\": \"\"\n      }\n    },\n    {\n      \"column\": \"LSTAT\",\n      \"properties\": {\n        \"dtype\": \"number\",\n        \"std\": 7.141061511348571,\n        \"min\": 1.73,\n        \"max\": 37.97,\n        \"num_unique_values\": 455,\n        \"samples\": [\n          6.15,\n          4.32\n        ],\n        \"semantic_type\": \"\",\n        \"description\": \"\"\n      }\n    },\n    {\n      \"column\": \"MEDV\",\n      \"properties\": {\n        \"dtype\": \"number\",\n        \"std\": 9.19710408737982,\n        \"min\": 5.0,\n        \"max\": 50.0,\n        \"num_unique_values\": 229,\n        \"samples\": [\n          14.1,\n          22.5\n        ],\n        \"semantic_type\": \"\",\n        \"description\": \"\"\n      }\n    }\n  ]\n}"
            }
          },
          "metadata": {},
          "execution_count": 34
        }
      ],
      "source": [
        "column_names = ['CRIM', 'ZN', 'INDUS', 'CHAS', 'NOX', 'RM', 'AGE', 'DIS', 'RAD', 'TAX', 'PTRATIO', 'B', 'LSTAT', 'MEDV']\n",
        "data = pd.read_csv('https://gist.githubusercontent.com/Rishit-dagli/61922d4f6ef284877b6600163cabc681/raw/eeb1b4191b998cdd63a39f82f8031913b7590ff1/housing.csv',\n",
        "                   header=None,\n",
        "                   delimiter=r\"\\s+\",\n",
        "                   names=column_names)\n",
        "data.head()"
      ]
    },
    {
      "cell_type": "markdown",
      "metadata": {
        "id": "6p_Xme0rSwUG"
      },
      "source": [
        "Let calculate skewness and kurtosis for one column in this dataset"
      ]
    },
    {
      "cell_type": "markdown",
      "metadata": {
        "id": "8OvU8n813Abc"
      },
      "source": [
        "### Watch this 3 min Video for a Visual Explanation\n",
        "\n",
        "[![Skewness and Kurtosis Video](https://img.youtube.com/vi/XSSRrVMOqlQ/0.jpg)](https://www.youtube.com/watch?v=XSSRrVMOqlQ)\n",
        "\n"
      ]
    },
    {
      "cell_type": "code",
      "execution_count": 35,
      "metadata": {
        "id": "xUYoqFUASr9Y",
        "outputId": "6d306915-32c4-4b27-ce83-93a225b4efda",
        "colab": {
          "base_uri": "https://localhost:8080/"
        }
      },
      "outputs": [
        {
          "output_type": "stream",
          "name": "stdout",
          "text": [
            "Skewness des colonnes :\n",
            "CRIM       1.085937\n",
            "ZN         2.236068\n",
            "INDUS      0.606768\n",
            "CHAS       0.000000\n",
            "NOX        2.089156\n",
            "RM        -0.546426\n",
            "AGE        0.416965\n",
            "DIS       -0.254988\n",
            "RAD       -0.512241\n",
            "TAX        1.651637\n",
            "PTRATIO   -1.675210\n",
            "B         -1.112793\n",
            "LSTAT      1.368624\n",
            "MEDV      -0.581471\n",
            "dtype: float64\n"
          ]
        }
      ],
      "source": [
        "# calculate the sckewness\n",
        "data = {\n",
        "    \"CRIM\": [0.00632, 0.02731, 0.02729, 0.03237, 0.06905],\n",
        "    \"ZN\": [18.0, 0.0, 0.0, 0.0, 0.0],\n",
        "    \"INDUS\": [2.31, 7.07, 7.07, 2.18, 2.18],\n",
        "    \"CHAS\": [0, 0, 0, 0, 0],\n",
        "    \"NOX\": [0.538, 0.469, 0.469, 0.458, 0.458],\n",
        "    \"RM\": [6.575, 6.421, 7.185, 6.998, 7.147],\n",
        "    \"AGE\": [65.2, 78.9, 61.1, 45.8, 54.2],\n",
        "    \"DIS\": [4.0900, 4.9671, 4.9671, 6.0622, 6.0622],\n",
        "    \"RAD\": [1, 2, 2, 3, 3],\n",
        "    \"TAX\": [296.0, 242.0, 242.0, 222.0, 222.0],\n",
        "    \"PTRATIO\": [15.3, 17.8, 17.8, 18.7, 18.7],\n",
        "    \"B\": [396.90, 396.90, 392.83, 394.63, 396.90],\n",
        "    \"LSTAT\": [4.98, 9.14, 4.03, 2.94, 5.33],\n",
        "    \"MEDV\": [24.0, 21.6, 34.7, 33.4, 36.2]\n",
        "}\n",
        "\n",
        "df = pd.DataFrame(data)\n",
        "\n",
        "# Calculer la skewness pour chaque colonne numérique\n",
        "skewness = df.skew()\n",
        "\n",
        "# Afficher les résultats\n",
        "print(\"Skewness des colonnes :\")\n",
        "print(skewness)"
      ]
    },
    {
      "cell_type": "markdown",
      "source": [
        "- Analyze the value obtained after calculating the skewness. What conclusions can we draw about the data distribution from it?"
      ],
      "metadata": {
        "id": "z1QMqnNQvim7"
      }
    },
    {
      "cell_type": "markdown",
      "source": [
        "- Put your answer here:\n"
      ],
      "metadata": {
        "id": "kZa_FrPVv-p_"
      }
    },
    {
      "cell_type": "code",
      "execution_count": 38,
      "metadata": {
        "colab": {
          "base_uri": "https://localhost:8080/",
          "height": 493
        },
        "id": "bGVYOYFkztq9",
        "outputId": "38212e59-67d8-4779-ac29-8c9446fcdb7e"
      },
      "outputs": [
        {
          "output_type": "display_data",
          "data": {
            "text/plain": [
              "<Figure size 640x480 with 1 Axes>"
            ],
            "image/png": "[encoded data removed]"
          },
          "metadata": {}
        }
      ],
      "source": [
        "import seaborn as sns\n",
        "import matplotlib.pyplot as plt\n",
        "# Set up the matplotlib figure\n",
        "plt.figure()\n",
        "\n",
        "# Plot the skewness of 'MEDV'\n",
        "sns.histplot(df['MEDV'], kde=True)\n",
        "plt.title(f'Skewness: {df[\"MEDV\"].skew():.2f}\\nDistribution of MEDV')\n",
        "\n",
        "# Show the plot\n",
        "plt.show()"
      ]
    },
    {
      "cell_type": "markdown",
      "metadata": {
        "id": "qfSBnkuT1Aqy"
      },
      "source": [
        "*   A skewness value of 1.104810822864635 indicates that the distribution of the data is positively skewed. Let's interpret this skewness value:\n",
        "\n",
        "*   Positive Skewness (Right-skewed): In a right-skewed distribution, the tail on the right-hand side is longer or fatter than the left-hand side. The majority of the values are concentrated on the left side of the distribution, and there are relatively few higher values on the right side.\n",
        "In practical terms, for the variable you are analyzing, this means that there might be a concentration of values towards the lower end of the scale, with a few higher values pulling the mean to the right."
      ]
    },
    {
      "cell_type": "code",
      "execution_count": 41,
      "metadata": {
        "id": "ZpER4zjzS_LI",
        "outputId": "9b17dd04-4814-4918-c77d-0315c893d011",
        "colab": {
          "base_uri": "https://localhost:8080/"
        }
      },
      "outputs": [
        {
          "output_type": "stream",
          "name": "stdout",
          "text": [
            "Kurtosis de la colonne 'height' : -3.333333333333333\n"
          ]
        }
      ],
      "source": [
        "# calculate the kurtosis\n",
        "# Exemple de données\n",
        "data = {\n",
        "    \"height\": [3, 3, 3, 5, 5]\n",
        "}\n",
        "\n",
        "# Créer un DataFrame avec les données\n",
        "df = pd.DataFrame(data)\n",
        "\n",
        "# Calculer la kurtosis de la colonne 'height'\n",
        "kurt_height = df[\"height\"].kurt()\n",
        "\n",
        "# Afficher le résultat\n",
        "print(\"Kurtosis de la colonne 'height' :\", kurt_height)"
      ]
    },
    {
      "cell_type": "markdown",
      "source": [
        "- What can indicate the obtained value?\n",
        "- Put your answer here:\n"
      ],
      "metadata": {
        "id": "DHUbHO32wN6d"
      }
    },
    {
      "cell_type": "code",
      "execution_count": 44,
      "metadata": {
        "colab": {
          "base_uri": "https://localhost:8080/",
          "height": 493
        },
        "id": "FuoKT9L20KGa",
        "outputId": "1baab1ce-2dfb-48a5-a5e3-d2f19d31f199"
      },
      "outputs": [
        {
          "output_type": "display_data",
          "data": {
            "text/plain": [
              "<Figure size 640x480 with 1 Axes>"
            ],
            "image/png": "[encoded data removed]"
          },
          "metadata": {}
        }
      ],
      "source": [
        "import pandas as pd\n",
        "column_names = ['CRIM', 'ZN', 'INDUS', 'CHAS', 'NOX', 'RM', 'AGE', 'DIS', 'RAD', 'TAX', 'PTRATIO', 'B', 'LSTAT', 'MEDV']\n",
        "df = pd.read_csv('https://gist.githubusercontent.com/Rishit-dagli/61922d4f6ef284877b6600163cabc681/raw/eeb1b4191b998cdd63a39f82f8031913b7590ff1/housing.csv',\n",
        "                   header=None,\n",
        "                   delimiter=r\"\\s+\",\n",
        "                   names=column_names)\n",
        "# Now, you can use df['MEDV'] for plotting as it contains the column\n",
        "\n",
        "#Example of changes in cell 43:\n",
        "import seaborn as sns\n",
        "import matplotlib.pyplot as plt\n",
        "\n",
        "# Re-assign df to the housing dataset DataFrame (if needed)\n",
        "# column_names = ['CRIM', 'ZN', 'INDUS', 'CHAS', 'NOX', 'RM', 'AGE', 'DIS', 'RAD', 'TAX', 'PTRATIO', 'B', 'LSTAT', 'MEDV']\n",
        "# df = pd.read_csv('https://gist.githubusercontent.com/Rishit-dagli/61922d4f6ef284877b6600163cabc681/raw/eeb1b4191b998cdd63a39f82f8031913b7590ff1/housing.csv',\n",
        "#                    header=None,\n",
        "#                    delimiter=r\"\\s+\",\n",
        "#                    names=column_names)\n",
        "\n",
        "\n",
        "# Set up the matplotlib figure\n",
        "plt.figure()\n",
        "\n",
        "# Plot the distribution and KDE for 'MEDV'\n",
        "sns.histplot(df['MEDV'], kde=True) # Now df has 'MEDV' column\n",
        "\n",
        "# Calculer et afficher la kurtosis dans le titre\n",
        "plt.title(f'Kurtosis: {df[\"MEDV\"].kurt():.2f}\\nDistribution of MEDV')\n",
        "\n",
        "# Afficher le graphique\n",
        "plt.show()"
      ]
    },
    {
      "cell_type": "markdown",
      "metadata": {
        "id": "MXrEw9ij1OzT"
      },
      "source": [
        "##Skewness (1.10):\n",
        "### Positive Skewness (Right-skewed):\n",
        "\n",
        "Most values are on the left side, and a few go further to the right.\n",
        "Think of it like a group of people where most are average height, but a few are exceptionally tall.\n",
        "\n",
        "##Kurtosis (1.47):\n",
        "##Leptokurtic (Heavy-tailed):\n",
        "\n",
        "The data has more extreme values (very high or very low) compared to usual.\n",
        "Imagine a test score distribution where most students have average scores, but a few have extremely high or low scores, making it a bit more extreme.\n",
        "\n",
        "## In simpler terms:\n",
        "\n",
        "*   Skewness: Shows if data is leaning to one side.\n",
        "*   Kurtosis: Indicates if there are more extreme values than usual.\n",
        "\n",
        "\n",
        "\n"
      ]
    },
    {
      "cell_type": "code",
      "execution_count": null,
      "metadata": {
        "colab": {
          "base_uri": "https://localhost:8080/"
        },
        "id": "6sPWHTwe0OwD",
        "outputId": "cadc9fae-316c-43ed-ff78-9e7a3f7d86ee"
      },
      "outputs": [
        {
          "name": "stdout",
          "output_type": "stream",
          "text": [
            "END!\n"
          ]
        }
      ],
      "source": [
        "print('END!')"
      ]
    }
  ],
  "metadata": {
    "colab": {
      "provenance": [],
      "history_visible": true
    },
    "kernelspec": {
      "display_name": "Python 3",
      "language": "python",
      "name": "python3"
    },
    "language_info": {
      "codemirror_mode": {
        "name": "ipython",
        "version": 3
      },
      "file_extension": ".py",
      "mimetype": "text/x-python",
      "name": "python",
      "nbconvert_exporter": "python",
      "pygments_lexer": "ipython3",
      "version": "3.11.4"
    },
    "toc": {
      "base_numbering": 1,
      "nav_menu": {},
      "number_sections": true,
      "sideBar": true,
      "skip_h1_title": false,
      "title_cell": "Table of Contents",
      "title_sidebar": "Contents",
      "toc_cell": false,
      "toc_position": {},
      "toc_section_display": true,
      "toc_window_display": false
    },
    "varInspector": {
      "cols": {
        "lenName": 16,
        "lenType": 16,
        "lenVar": 40
      },
      "kernels_config": {
        "python": {
          "delete_cmd_postfix": "",
          "delete_cmd_prefix": "del ",
          "library": "var_list.py",
          "varRefreshCmd": "print(var_dic_list())"
        },
        "r": {
          "delete_cmd_postfix": ") ",
          "delete_cmd_prefix": "rm(",
          "library": "var_list.r",
          "varRefreshCmd": "cat(var_dic_list()) "
        }
      },
      "types_to_exclude": [
        "module",
        "function",
        "builtin_function_or_method",
        "instance",
        "_Feature"
      ],
      "window_display": false
    }
  },
  "nbformat": 4,
  "nbformat_minor": 0
}