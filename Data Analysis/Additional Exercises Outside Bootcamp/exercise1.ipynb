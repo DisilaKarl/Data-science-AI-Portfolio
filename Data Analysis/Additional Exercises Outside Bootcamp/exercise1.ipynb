{
  "nbformat": 4,
  "nbformat_minor": 0,
  "metadata": {
    "colab": {
      "provenance": []
    },
    "kernelspec": {
      "name": "python3",
      "display_name": "Python 3"
    },
    "language_info": {
      "name": "python"
    }
  },
  "cells": [
    {
      "cell_type": "markdown",
      "source": [
        "![image.png](data:image/png;base64,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)\n"
      ],
      "metadata": {
        "id": "ycNpnQ6Q-vl9"
      }
    },
    {
      "cell_type": "code",
      "execution_count": 1,
      "metadata": {
        "id": "c2FPzwlY-PYJ"
      },
      "outputs": [],
      "source": [
        "import pandas as pd"
      ]
    },
    {
      "cell_type": "code",
      "source": [
        "df = pd.read_csv('iris.csv')"
      ],
      "metadata": {
        "id": "ggtu1uJj_ILy"
      },
      "execution_count": 3,
      "outputs": []
    },
    {
      "cell_type": "code",
      "source": [
        "#5 first rows\n",
        "\n",
        "print (df.head())"
      ],
      "metadata": {
        "colab": {
          "base_uri": "https://localhost:8080/"
        },
        "id": "jVH2m1X9_y-r",
        "outputId": "751a0b8f-5b7c-4feb-bee9-d34a4f9a6d4e"
      },
      "execution_count": 4,
      "outputs": [
        {
          "output_type": "stream",
          "name": "stdout",
          "text": [
            "   sepal.length  sepal.width  petal.length  petal.width variety\n",
            "0           5.1          3.5           1.4          0.2  Setosa\n",
            "1           4.9          3.0           1.4          0.2  Setosa\n",
            "2           4.7          3.2           1.3          0.2  Setosa\n",
            "3           4.6          3.1           1.5          0.2  Setosa\n",
            "4           5.0          3.6           1.4          0.2  Setosa\n"
          ]
        }
      ]
    },
    {
      "cell_type": "code",
      "source": [
        "#Size of df\n",
        "\n",
        "print(df.shape)"
      ],
      "metadata": {
        "colab": {
          "base_uri": "https://localhost:8080/"
        },
        "id": "Sml605QK_37A",
        "outputId": "136a4791-1550-4faa-cc59-4b30d667fd44"
      },
      "execution_count": 5,
      "outputs": [
        {
          "output_type": "stream",
          "name": "stdout",
          "text": [
            "(150, 5)\n"
          ]
        }
      ]
    },
    {
      "cell_type": "code",
      "source": [
        "# Info of data\n",
        "\n",
        "print(df.info())"
      ],
      "metadata": {
        "colab": {
          "base_uri": "https://localhost:8080/"
        },
        "id": "Ag_ihRYeALs2",
        "outputId": "441179e0-bf7e-424f-edfd-71340419fac4"
      },
      "execution_count": 6,
      "outputs": [
        {
          "output_type": "stream",
          "name": "stdout",
          "text": [
            "<class 'pandas.core.frame.DataFrame'>\n",
            "RangeIndex: 150 entries, 0 to 149\n",
            "Data columns (total 5 columns):\n",
            " #   Column        Non-Null Count  Dtype  \n",
            "---  ------        --------------  -----  \n",
            " 0   sepal.length  150 non-null    float64\n",
            " 1   sepal.width   150 non-null    float64\n",
            " 2   petal.length  150 non-null    float64\n",
            " 3   petal.width   150 non-null    float64\n",
            " 4   variety       150 non-null    object \n",
            "dtypes: float64(4), object(1)\n",
            "memory usage: 6.0+ KB\n",
            "None\n"
          ]
        }
      ]
    },
    {
      "cell_type": "code",
      "source": [
        "#Structure of dataframe\n",
        "\n",
        "print(df.describe())"
      ],
      "metadata": {
        "colab": {
          "base_uri": "https://localhost:8080/"
        },
        "id": "Id8UHxcqAqx3",
        "outputId": "c7005da1-6605-49a1-98fa-6a35ef8f7b7c"
      },
      "execution_count": 7,
      "outputs": [
        {
          "output_type": "stream",
          "name": "stdout",
          "text": [
            "       sepal.length  sepal.width  petal.length  petal.width\n",
            "count    150.000000   150.000000    150.000000   150.000000\n",
            "mean       5.843333     3.057333      3.758000     1.199333\n",
            "std        0.828066     0.435866      1.765298     0.762238\n",
            "min        4.300000     2.000000      1.000000     0.100000\n",
            "25%        5.100000     2.800000      1.600000     0.300000\n",
            "50%        5.800000     3.000000      4.350000     1.300000\n",
            "75%        6.400000     3.300000      5.100000     1.800000\n",
            "max        7.900000     4.400000      6.900000     2.500000\n"
          ]
        }
      ]
    }
  ]
}