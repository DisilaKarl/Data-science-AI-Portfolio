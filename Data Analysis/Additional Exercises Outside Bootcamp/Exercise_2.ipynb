{
  "nbformat": 4,
  "nbformat_minor": 0,
  "metadata": {
    "colab": {
      "provenance": []
    },
    "kernelspec": {
      "name": "python3",
      "display_name": "Python 3"
    },
    "language_info": {
      "name": "python"
    }
  },
  "cells": [
    {
      "cell_type": "markdown",
      "source": [
        "![image.png](data:image/png;base64,iVBORw0KGgoAAAANSUhEUgAAA6YAAACJCAIAAACw8rLCAAAgAElEQVR4Ae19XYxlV3VmvfUTj36KUD+MWpEc5cHSMPVQLWGPcBCygDCyDIIhAhWiYTDjCpHxdAhOxwhapseJPWAPcsmWLWMDMYZYHZxx1C6nIcKyGTA4IcSoiJEJOMgw2Gimkerljtbae+39rbXPOXVv1a2fW+crWb577fX3rW/vs8+qW+feXprwhwyQATJABsgAGSADZIAMHGkGlo50dSyODJABMkAGyAAZIANkgAxM2PJyE5ABMkAGyAAZIANkgAwccQbY8h7xBWZ5ZIAMkAEyQAbIABkgA2x5uQfIABkgA2SADJABMkAGjjgDbHkPywI/c8fa8eXVE6f+6kd7huhnj3z6xPLq8Svv/vqepWBgMkAGyAAZIANkgAwcQgZmaXkvbT5x/2ff/tbrpW1aPnXFO86ee/yFrelqeu6eP1av1RNvvfvJX1WfHz30iRN73OfVZId7dOGW1ePLq8f/4OHn9wzn8/d/XFIs33Vhz1L0Bn75wg1Xyrb5wKM/77WhggyQATJABsgAGSADe8PA9C3vjx48dUobJu3MpHNaPb68dvOTr0wDLPdz6vXOL7xYXHITtpd9Xsl1yAdHuuV9+fxHTx1fPnXt/T+Y8nekQ75YhEcGyAAZIANkgAwsFgMztLz3Xf8nf/bVZ39yaTLZeunxW+Sv8PLf9ed/NkXFuZ+77qY3LK8ev+6h58xltpZ385FrJempm580/8lk0jkJ+kUZHuGW9/8++bkrlleXb7n4i0VZDOIkA2SADJABMkAGjhYD07e8vu7vPPD61PJO9wZt7uduefTBD0jPesPX8nvDs7W8zz/8Fk16Gv8w3znpwS6EdIRb3oXgnyDJABkgA2SADJCBI8zArlvemd7lveXiKxfuumJ59fgHHk0PN7Qt79YLG+c+/LHXyXOfqyeu/sjbb72weUn4z5apz9b/v/7O73ZOptXaeumZB8/ckuIcX/7g697/2Qefekn/qv7sX7xVgi/f9nT5I/vWk5+7fHn1+MlPffHHk8nL337w1rPX5EeWV09cffq9d2zUZ5a3Xnr6/j9/49XhGY8z922mtC9/6wvlcecPvu5df35PTtqxhS4999hN779B8l55w9tv3XjgZn3XHH6F+MUzj970/o9ccVLmL3/Tx66//5lUwETeZ3/mnpsSS6eueMef3/PMyx0JxOzvP/vh0xLh5PVvvOnhr3ymeZb30uZjd5y1cvT57McS3xLvyU/J0wg3X6glX37t2c8+WVD86L7V1ePLZ+77/uZjtyaqT13x3s8+8pwuWAK09cLjd5y95k0flD8InLx+5f13P/ZD0E4G6Np66amHr3+X8qPgv9VdYmfdnCQDZIAMkAEyQAbIgGNgZy3v1rN33pQebMAHc11gL9i7vBcnk3+487rV48s33akPN4SWd+v7D1+rHV5+akJb2xOrjzw/mfzogTM4eXx59fV3frdzUjrCrjjHlz/4vkdenEy2vvHp67UDu/1r+YN0Wxdu0RZW2822jYb+eOup2+yJDmi+pe2TlvflC+V5j6rtedz5x+ff01QqqKzl/cWFu5ZrEO2Gl1eXP/UNeXt86+mz1+SZzMnbHnjWEy5Sa5YD2sfXXr54OsQRg1Mrd+RfBtKqXX6lNqwVzMfvyZ+w++E9fyD2l1/pfwG4+q4LiditH9yz6lXS+J65L7sP0bX1zXtD+a+/87ttiZwhA2SADJABMkAGyMA0DOyk5a0N5XUPPFveKR3MBi3v5JWv3S7f0vDHF14p793mPu+Vr/2xdEhX3Py4PDE8mVz64VffK33h9We/qdE7n2HomPzZl/9QO61rbv/KP726NZlcevGp26Q5Wz1+9b1PTSaT5x6SR4rL8xVbF09r95na963vnP/0/Rf/8SVxnEwuPf0XN1bHydNnrxY8N54XgAbPWsAc9uN3fUd9t166eE5/Meh6I/yp27TtXv74bfI28KXNxz73xtQBZyrSLwarb1n/Xo71d+uK+eyXfjqZ5JL/2+3f2ZJ3cp96+APvvk/q8j8/+8uz2hBf/6Evb15Ss/flBje3vOlr0Y6fPHP73+sT2q/+88MfTag0y2SSV2157X1f+N6rW1svZQyr1z6Qvkgttbyrx0+ePvvETy5NLm0+dDZ9m0d62Dot9PGrP3P+xbScmw98WNf3tqcF6SBd+ReP6x74rpb49P3n3nyHevkaKZEBMkAGyAAZIANkYBoGZm95y1uDJ8/c8/3pGt7SPN1yUTBtffd2eaP3Ew/+2B5XyH3eN27ufONzefUt9/9QHDu6267JXz3+IX1LMnspDa+cv037v9SevqiPFOfnK7Yu3KWNmuDRn0ubj9333nflJwrUq3yxV0J4/Y2PyR/3L/3wy/9ZEn3s7u+LX/uWs/dNwdP/rVn86OPlCy9yf5moyJ/J82/lalHyHPOvLtygRJ24+k9vuv/iP/4CHxWoWXJAeAPY3sBOLe93b3+bxD9xy8W6ivaIdnpaOke4ecMMsosRm6u45t4f5KzGfHLX5yI6SkjvZA/TldvlZXlS4p4nvv/L7hJrsRyRATJABsgAGSADZGCAgRlb3vKn6pMfufnCDA9X5uYptbyTyYt/KW8HvuHuf/APNlw8rV2ddYqlWzr1vkf0ayGmbHk7zS7cBS3vxN4B/cSDP7anGvJ7sVvP3p2/QtjDSG1i14MN9gUU1lAW2Da45r5n4gpYy2uETMpvBanltRI8BvlWuHMa6xfPPPyBt5ZnBj745juear8MwfXQCsAQploy29a/Jgv3AcGwapNJhm0uQZxMJjmm65ibNT3xh1/7WXmDv9Eez3S9/K37z62UX4Gu/JNz35hhv0W+KZMBMkAGyAAZIAPjZmCWlnfrB/edSo91rp2epd+t/Vzp8Lae+sTVq8evXn/wXv1AVX6Xt6sJw+WxRjB1VFnTTv70/Hu0kbLOTAztXV77nJm9UfqGOx8WJMurHzqf3m9Njy6sXvHRv/6BPlLg28T0+Onaf3yH/nscV95wzU0Pl49VeUvE3Y6t5a1voNpTBL7ldZXGMJd+8r+fuPOPPpKeJTh9wd6KNbPcsL7rS/YerL2nnv8pilxp17u8+Wvg5tPy5sU1WPY6FV2XfvLtv3koN/cn72pKtFh8JQNkgAyQATJABsjAIAPTt7zlw0Zrpx8vn9mvsX/26Dn98oFzf/XTOllGTfM0efELnzi+fOoN1+mTsrkrsucN7BncydarP3jioQ+89dPyACs82PDOz//L1tarv0xP21rLC5P5Qdjj19z+Ff1+gEsvXsif07J3ZOFDbKekZTxZPsqWH654/V88I0/rvvjU7fkDWPrOaH7e4PbHuv7OvvWNdfkyiuVT1975VH4W+cVnv3Lrn6ykR1cLFzKwt5ZPnrlbvt/g0uZXP5Pf0UxUpF8JlldPrD7w9/lB2J98+6t3v/mt+izy8w+/4913P6aPKW+9+vgfan//nr+M349sPWVar62XnnroHfo9GPavr+Unp+VZXv1aia1Xv3d3KtbYaFYtvK0bxPgury6xvDN9w1f/OT2R/Oo/Xbzzjz7yPoU6TNfz93/izbde0N86tl49f7u+252fMHZEUiADZIAMkAEyQAbIwBQMTN3y2lunzZ/a/TuCy6udb0w2zVN9IFUC2huBrzz5ufA5fU132/n81Qr5jcmE4cSnvqEFdkx2ft3B8ZOnPyuf97Kf/PEpeYs3fZZOFa9cuCV9hMseS8h/edeWtyHh8jfd+PYzj9obvT+8r/2CAv1mCUtZX7e+84B+HK1mOXHNmnTMRsXzD5zRt2+rgVSdHsy1Lj/xIP8/efZL+UHkmmLy8uMfKg8GpCquWVN604MNfd9rsfZf/zr/83jNqoUeN4ix5Z386hs3d3wjRHlDfYgu69dr+SeuP1//1T6okkMyQAbIABkgA2SADGzLwNQtrz0JUNus3Avmlnf4Xd6v3ypPRFx+a/rmhYzq+Yc+IW8ML69efvNG+RTXL557rHwv7/Erb7jmw/fhN7n+4pmHr79WH6648oaPPJrf1+yZfLR8qW0bRxGUluuUeyrg0j88cuZP9dtw9StvH/uSfJvYyc/pv/h26dufPd0wUPvUydYLF+8v38t76oq33nLTF+qX6YbFANg3yVf/Pq//ttzqI+nbECaTrRf+7uFSgnxF8ZlHn85vr+vX2fZ+2W3Ns/XCxp+9V5/BOHn9f5LWXN/DzrWIGX4Lsn5vbvn2YtGmz5/ZrxbyCT39It7yjQ1BnEwm6T1y+OfxXv7Hr5Tv5V3+4OvedfYcfO/vEF0vf7t8rTJ+PXOtjSMyQAbIABkgA2SADEzNwNQt79QRF8gwf1PY1A+J5rdmr/6MfmHDZLL16nfX0z/uYI8IL1DxhEoGyAAZIANkgAyQgdEwMOKWtzwvi9/SNbjw+a/t9Ytmf/JE+uZde/h10JtKMkAGyAAZIANkgAyQgYNhYLwtr318qjxauv0C2JfF1gdM9SGHU9fe/wN4Rnj7OLQgA2SADJABMkAGyAAZ2E8GxtvyfvO/y8fUTlx95//Kn42bhvb0r1TckB5BTg+/3vPEZtf3N0wTjTZkgAyQATJABsgAGSAD+8HAeFve/WCXOcgAGSADZIAMkAEyQAYOAQNseQ/BIhACGSADZIAMkAEyQAbIwF4ywJZ3L9llbDJABsgAGSADZIAMkIFDwABb3kOwCIRABsgAGSADZIAMkAEysJcMsOXdS3YZmwyQATJABsgAGSADZOAQMMCW9xAsAiGQATJABsgAGSADZIAM7CUDbHn3kt29jL25vrK0tLZRUkTZFH3zps+vU5oFr/0U54xwY23J8TefUhTkyvrmfKKNMopSuLS0tGQ0NhOHmJY5b9KuSnXj4pXfZZTm9gFNf/KgUSy2pEFHkQyQATKwLwwsXst78cZjcj/En98+9719IOvf/uqdr1laOvbvPv3tPUxWbu9Yn46hu51MJu3NrJ0RmN2zHQVMbdjhuz9TMyNUh4ZHmRAuD0nL24Icd1vQrHIzsT+7bYdZ9hytbNu1jfT/bTHuOZptEVQDxTLuvV3J4IgMkIGDYWDxWt70JofrZPap5f3ydcf2vOWFXSCF9t0iNtYaVeftrcMOMuCw0x0NDny8G4RDXGph2xrsVfmxKpWbxe3JHp17zHY4vXNOdoFLkrrf7pqJmavZBZqDzNUFu5JRRwMYu0IMmC+ySvjoOy0XuS5iJwNkYJ4M7FfLq4ev9Km7PpbkbJtDmHmSuDexZjzEd3l726X73lDgou4G4bZcbmvgoMxR6KhKp3zf15Oww7nHcifTO+dkF7gkKVteWa5dkGirPYcQFuqwv+58sx72yoiPDJCB+TGwLy2vnrz1fVl3R5u5FDnbulref/vi74vitWee3pKYm/dedWxp6bIbL/4/zfDL73z+w7/3W68Ri9f81u99+PPf+WVO/MK9Vy0tHbvx/Dc/+frLji0de+MDL4jiN//yN6eT+bHLrnjPerJOj1Rcda9aTCZbP//W+nuuuEwes3jNb/3e6b99UfNOJr2pcsb8onUM/QLQd4gnAhKdQGVze+uxk/SgMgTZHZYKYnsX92uLhFrbMLfsY2ICKf+vwSB3z2zn8na0AN2RPMtAtlWap3LBoTTMjfHROZUMJEZllDMNOF1QVhhlqnnowtFpTLpJYNjNm7HEBgVO43xdWawdOQGQgTmLCWm0bpuf2XNlfUMeV68/hT8EF8KDSs270YhViZbrQBnWFrdudzBXmJogJgAE291x5zKnaH2Z3DymcctbEmU04OV9utdeIFTYHegUY5fFIK9FqXBc2Iwz1V4Dt4u0ttGFDD3cZkWFq7wqHI4EQP6fKHM+VckRGSADi8rAfrS8cOKm+9euTpJ6WuWb4bEbLyr7W98797sy9bvnvrf1y/PvlocQfv+L/yqqrafPvLbeOXVkqny2HTuWHxDWEzC1y+CR2tyUOZ+Rr1680cdMMIZS+T2i0XoOXLUUg6h394aE3ch0Kid4u3TPAK+UwxYpK3wA93yEAjd/uwMBUHU12Rv7qF4ydrrKVp0zd0Io0CLBa0dQH6ExmL5k7+okEbD/MFYAmYdhCogiBoVtta5RGud+Y4godFlEnE6NTo3udQbNXn3uIck87HXQVpIaOHUIE0POYlqcN9dXcineRYLGypzszb3UXYLNWqtk+L0vSjiebKxVzvtCybw4Wei05YufxivSxlq20+nKicsaWQAOnF0nuh4LiKGFOLkK6l3Q5v4yVbbTy65Z0nAmIGAcD5Jf2YZl4ZAMkIEFZuAItbyTSW5Dj131zuukHZXeV5bm1fPvlvZ15X889+utyWTr1986K61xfgBYz7+lpWNXnfvWz7e2fv3r30y2vvmxy6r91s+/dccb36Lv7MqZbV3ov37+TSJc9l/O//Q38qbwVz74O6cvbpNqxm1SbxHFUabKTU9mYQIPcphOvnUCzUrceK/ukMFWgpUblgi9mHIcM64ocrRmor1z1byIvHFsJqqfjERtKLIGw3UaYATn74QYHJQ+A4aDcbcRRAHbZlm6nYsHqjsjioGjxU10ulhwUfZtxdBumEt+HfTEHZ3svbmX3BWA1bqUrUKiYN0oD2SwqG1A07jKByINROgMVSbrAEMg/mrhekmdRh8ZIwcKPU2gGYar4x6LiMPJKMi47J4GScmDLs017JSd2pJBAtaUPeBLVg7IABk4sgzsR8ub7gPSIaYfdxLNzKwcXf6GBSHSu7ua5rK1jVeTpuM7HsQiwdDzzwS1zzPvPp/dS3jMnMbN5+YGU5VA0w0khbsnRR4Tm2YDB3muIOvtJcVqoyY04K4TUU4FWyxL2tUrOk91yws+BCuBQOuGJIi7faTg3VE1hItta3aetmQXHAQYBjggehim8K6x3HIBdTn3Gds8bilJ0/5YeA/CoKVXi+a9LXYXLvMf9oTOJDsICkM0eAX0wm3RRFOQt4Fnv3VYpVaVvUKu4UiSUn5KaRahvEIoPwecJ+8uS3WJCpQNAESrcEzZj67TQiaRGSc3Qg4uoKITgCoq599cskGrlUKUNLRYYiw//eUVxjkgA2TgKDGwLy1vPp/0lLFTZ8ckpuOqJwycdMeuujd/O6odcOmYs//n5yGyBxx+eWZHLe9gqhlLlli+TEUGSF1AUMLQmYjQRk0m0QdlHdf7gwvhBA2VrI3m6pb6lT74tkf69YAIhk2BnRMtyoAmGsxSsvMFAYadoCpbsWjxNOJ0XPaBr9xLRmGPsabTaCX4MMIhbZPZVTikHdLlChwdgqJMDDn3wm2doinIrbGrLG2bwrDXWT+c4G4Xyaz7foFv/AVlPRFADUMPKCpQhpq9U5HUGlMWjQ2iRYzpZCfUX20kRuEzBSzL7Vyc0JxkQauBShzD614jeKekQAbIwJFkYL9a3vmRJ2cbnPwY+F+/+PvyBO9VZ87I69Kxd5/XD6npJ9TkwYZn/89v0FzH+eCD0zE/B3Hsqv8pD0Js/fq5z193nf7bApj5e+d+W2C8du1v9MGGnz555oobNyaTwVRN7uGJcIiLccdUiYGH/IAdmhVfu/sCC2gXwjnRCRJQHMstDDMMww8tqHdUaQBRh7WfalDGP/pGgyA70QlxVUCJgD0ckLqMJIa1eUHvRS/FmvoorV51BIjKEEopc2UwqByMO+hZWyHLJOZ1Xw449yZtFTEKyjg2DPV1WOtXYDvbHLXPLMIOMoo7CYH+tb5m1Be6GoIFDFXvZCekw2BtQ/do7/I6FyfEy645GqN1xetGU5o5HwpkgAwsLAOL2vKWNxFlkN6wzQ81yBO89km21954UZ5O+OXGmv+oWfHJ9yi8qXZ92i21cHI8lmY7tdcIQw/uoVR+k2i0nt5QLbtOY71PgRN82sPdwrazKyHKh3yce2iBnc6x0NXGJgNgpiRLPVgV5T6VJZfCE2WSM1GhM5KZu9cOLl24pjt02m1KdsFR8CAL1Q6ZS2S8Gyti2QTEzYrKQWP4xJqLKAGgoxQ0pQGJ0BzugbUMoL2bldi3dgKoILCSYMJzqvRYKK8CuiNLnlSloFzX+USwmKkWk9pAsTjHmQeEWOEzYc7DhYvZUFavypTWUFjyH18r074hTyQA1xIy2W6Prs8CISom4BV1UqfmWy9JtXRHRgpg3LttK8Y+nvO08OE6yqH6wCuC/D8NB+SgjmMyQAYWloHFa3k7HpfVlvfbn5S2Nje59km2pX9/1z/L2my9+LeffNt/SF9Slpqx/FxDfl/WpLyOWz//+u1vS98/duyy19tXmoUvKfvN9x8p33v2O2/7pH1JWX8qv0n0QC/nudep5I/0YpAO49xRgn888/vsrOcIETrdy90SgqXvjiqJW5RiWxybDgIiwe3QzQqyEr/U3d2V5iq67KtnvD2qRlMCTl0PSA2QtinZUeCEXH2gGoGlqqwKfQVMybIgkxZHBLCoKPNkrzEoMEDufAwBhM5dhWo6liPso7ACDS5XtK/aBQ/1JXgeVY3dbBRUQdg6XSJVOlbWN0UP5n3wqk+mq0Qr1WkmmK6ZPVacx8wlkAyqUY4IAJqdALqyvp1oAJ22jbb0xQsTd16JDlqwqDAir6JxpebyEI9LPctl17lZK38zk59cPTS3NhTIABlYRAYWr+VdRJZHhDneZfNNjDePEe0BlkoGyAAZIANk4PAxwJb38K3JQiNq3h7Rt33Y8S70ohI8GSADZIAMkIGFZ4At78Iv4aErwP09Mfwx89CBJSAyQAbIABkgA2RgDAyw5R3DKrNGMkAGyAAZIANkgAyMmgG2vKNefhZPBsgAGSADZIAMkIExMMCWdwyrzBrJABkgA2SADJABMjBqBtjyjnr5WTwZIANkgAyQATJABsbAAFveMawyayQDZIAMkAEyQAbIwKgZYMs76uVn8WSADJABMkAGyAAZGAMDbHnHsMqskQyQATJABsgAGSADo2aALe+ol5/FkwEyQAbIABkgA2RgDAyw5d2TVW7+Pfn5ZGn+JTOdWFpaWlrbmOi/AOH+EfsdJ90j+NPhOdDk00Gk1eIw0P4L2PuMnfvZEa5H1sH8a4xcCbcSFMjACBlgy7vDRR++k+7R4RpuFz4LW94dLiXdjjIDwxfqPlTur9J9SHi4U4QzbD/BciX2k23mIgOHkQG2vDtcleE76XwO122iCIT5vKsbOdgmcTSfr3ygyedbymGINrxR54pwH1NNj/vAQXE/T79Ye2vJldhbfhmdDBx+BkbW8ur9Tx4E2HWrOHwnnc/huk0UgbDrOjq36DaJO33mNnmgyedWxaEJNLxR5wpzH1NNj/vAQXE/T79Ye2vJldhbfhmdDBx+BsbU8urNT/rd9LO758maOylEX9toDleZsB9ILNNrG5OqLS1snVK3NF+TBrWGlLniP5mkh3tzUpgPrqAp23XKSC4FVGVxNJObx8BAmJKAXggK7XAeY4mvk0VY2zDXhMGk9OizpYPX5ASroX7VDbO72h1+sV9Z36xussL4I2nSz8r6Zs6pehljjiBDxCkTOg9XdsXgQuGeCaihgi7n/lTmKBa5YPydEx1j8e7SGFgMAeRsgXKND7UgeMyXd1BdGcOddpYtWY2EgbCg6pdGYoeJ+gqeint0dlH99o+Xg8MEMUo1kSUni+B3NNQzjTJTpV4usijcwg0sstSAnBfsSJwuU9W4uhuKFErXgoOiL5aPTIkMkIHFYGBELS+cY+mY29Vp5k7udOjafQAPeNkFHaaWOpiKaFG67lptJLD2J7oP5SXbmt2zMbG3QgnHm+srVpSFz3comK4OUklRaFmlkmoUkQxV2NHy+j4Ew3aCLTfUjERRyU5JOD3IAfzml8tTsZSabtqoKglCBaH4HScM+Qf34xQc+XBDUt0GaaS2UK3MYsIgiaquoDl3LkYitV46amz7yUHcWIPrSzOUlXHS5voK7oJi5IKVAn0VZToPnNYJrnzUDO1Pj8WqDOQ11FZQ3XliYU5WAVZOQpSrdyZl3H0aqSychepeZAcpHKpWnrexWXvF0h33nj0061kJi8hXMkAGFosBtrw7XC93uOIhqfFwQsblPiVamEA7U/XfxcI5LxCqsTu2o0o90XbgnuhVQ5Ei+pZK7w2Fe1MxKxxBVO+e75dWBthpNCeLUCK2ap/eJBch/qri+DWP/OrwOyHc46POr2jIH+7KmNPFcUJI2FaB2y+FlLRpg0YAmDLaZl117kjl/BWmLZ5qZKZ3ImCJRTq1EyQ0TERHwDSFlZj0Xbw5EkSB2HUI+qGCwaz64qgtxM1E/yhbqO55Fyruoah0u3Z7pVti54vrJPhiLMQq421WIrpbyfYK4cTU4YIJMDNPvpIBMnA0GBhRy5sO1PQGb33zbqfLiMcrjlM8ODVVWbPmUT5uwU4dveyl5pYAp3R0Fs/2B+8YaoETSAQkHoxktbmbBwZSzk0roSCjORtOU02bHOxi+a7nMTyWz+DYfH0NEdXBUPk+SnwsXsQf3VAOGcJNPmqDvJOEIUMH7AQ/k2Ip+jgyvdXsnJuOpTJb+AI60yL5SCJlk67iwdupnRByIf2iElv4yZU2ERL24XpLuIrLRU/TENppC4jsbbn6uIc4CZzf5VEdZfMp+9bliSw52QkaB4LPqPSbBOJI3BgL1KoqlNkAa1CLOiG+5We+K1Go5IAMkIEFY2BMLS/e7+rRuMMFw9MZxylcPKvrPdGnAztVeNlLzS1B0mIdYA5DnzBLorfeosMA3GHYYahTGqwvXgUpZoUH9SngHYGQEYZt8qh0shPQVxTyU5CAMjg5VKHl1TDd+KMbyiFDuMlHLco7TBgyNHsIqq9DzdXJEdZS7W00qxbrsxjlNShjbKd2gkQAaxjmbq8sPbjBsCDwcXC6jMWtcysVC9eX9mQB49KRF5BF2eGMUzgWnyiXOGkgargOkCUxcLIT1B2Cz6j0kSFOk9XX0KZJddj/VV8uSJv1r5ANht6mSmICDFUFR2SADCwsAyNreee3Tu4Ibg5QnMBxzL+8P3AAAB7kSURBVB91XvZSvBHpzQMPeTB36GJSf9dptLPdarJ7f0LRCEr3GGUwd+K0ZYCdgnCyE2KJLh0og1M0A3VQOdEJYdGizi8FJIgVBUcnOiEkDM2LhI1ZgAAYxqBZNejc45NdW207AwBCpmjr1E6QGDCBjjA9YAUgMBBOpzGGbrU2A0mnc/CbwsJ0zLpwkEZdolzi1AH4w1D1TnaCqHECx41ro/S+kd5ojjXguJZgo2FttgKjmMnihNcpzYIXRTJABg4rA2x5d7gy/jCUw7S846pCFdMNAnpTaP7gEFYcXvY5wq0m3TwgrL9/KIj6VpGEylITtWXAweiNhB/tcB4hoNa7jh8ccj1J4qe+WeZC9Sb3fY3WDkvguRA804B1mcPNuSOfca+EVvyRXycnW1wJfJsQAWjldRehapaEnmpdGXU38KmuJE3DUa+zhEaQYRO0dJqD7cu8v23Phlia13QxVQdXJSo64jhvGePB1xU+vmZGSJbr+5piYcIVokhrGZI1SVNwrxBLXV3HSu8RVOH05UFqUqKwo+s+VXWhJBh3KGu5AkMNbMpxE3RxkX1k3WwGIoSp1fqRM5t1JVKdBtwHpkQGyMCCMMCWd4cL5U5uiaFHqP4lLH+fj53HokznZfpDWbkvxTO9R7aYFqacuhIUk7gT3SGqt6sARWJjiEzGdJGw5np/7OAzURPyVL6W0pe6WV3TJncVRs5jEGfcBzY4xSX2apHyj8cf3Trl5Jm/Rs0qdyBjRbDBAmGdCSCm6jVhmaxTfgNAUbW3iiva52wb1Kcq3hEm7LXMo1sXz7bvlDJRZUdl24q+aGIbBdhX1jf8BQQ6d1HgfFW4WSkAcpaaZRAKwXVsCjYiykK5SG5/4DXdUNlsHohTWXLp8YzK3xtmKLTU+pV/PvM0SsjuFzJwk2MV86BGiMg3VtSz+TRkDOf8rNhAcplO613EgpEDMkAGFogBtrwLtFiEeuQYiDf5I1fgvhQUe5l9STqeJIObdFA5Ho5YKRkgA4vAAFveRVglYjyqDLBhmMfKsuWdB4u9MQY36aCyNyQVZIAMkIEDYIAt7wGQzpRkIDPAhmEeW4Et7zxY7I0xuEkHlb0hqSADZIAMHAADbHkPgHSmJANkgAyQATJABsgAGdhPBtjy7ifbzEUGyAAZIANkgAyQATJwAAyw5T0A0pmSDJABMkAGyAAZIANkYD8ZYMu7n2wzFxkgA2SADJABMkAGyMABMMCW9wBIZ0oyQAbIABkgA2SADJCB/WSALe9+ss1cZIAMkAEyQAbIABkgAwfAAFveAyCdKckAGSADZIAMkIEjwAC/qG+BFpEt7wEvlv6jl3v1z1ge7PeVHmz2A17Xg0o/xem7p1tulroFyF5t/Vlw7L/tYl8aU+yxvaH0wBJvW86eIdPAff+W9bawFt2g0roHV0wNPkxTSd3nIPNpifpN1Xfo3yUfxjCrtgAZdqwVoUOtZ9h7MbVseXewbmX76j/ojv+b/QYuW23P7vu4j3dQ5y5dDjb7LsEvpns9wgbw7+mWG8gbVEf7YA3FBnGxL42pdlmoeC7igSXeBv0e4tLQo215J3Kh6E11D66YaVdN7HQFehwAWp9pj+c222oXasA0GKWH3zI96LyYSra8u1u3abfWlFkOd7gpizCzORdjYfnay8DGWn63odfi8CjK3eHwQNo/JIt9aez7DdwW5sASC4D+5It02RmVC/IqF4q2vML+7G8oDVbZv6DeTezKm7jtbx94LfeZljJ85L2TENRQlgIs8Fvmh5wXUzeylld3+Tz/vDDt1ppydxzucFMWYWZzLsbC8vUoMFBvDkehmllrWOxLQ0/ROfcfUzF4YIkF3YEmn4qeI2gkF8rhbnndpVxPNf9rUCljv5bIoRpIWoAJcryki2LAeTFVY2p59cyqjyHgAu948bq2Vtotli2nMVHzQ2qdV1nc4Kf+Oomu3bPiBjFLNRFddyQ7zlPyrjgaEJ3RyOGOioo33zOswqhYWd+EBBBGZnuVAgzc/HucoIB4hZyJ/dWsFoCgQmQXeltMJYnEXtvQTKlyTBGXx8mNp9ZQa8JAkk7s7QfKTWHMrcYAE1PqJsqlpQIcoJwD84Kn4wfXBBIVVtr+IaeFgJjHV4eajvIgiw4hJoBUuiq2UKlqM5vVqN0wqqsJWmS4LCEQGtcQS4AxVhLlHpQSbPCKAb8+EA2K6rOyvrG+4s6bqovosa5EZyUBvepsrBEIbBPjPvOIIXFvbLCB0xNny7SbdIdtbxXRBRlDp5JDKhfF2oa5KnKZwlUCQjCkOwdnLNn5+mwCxe2lBKUWAKlmsZVirUzZGK5C2AOlcxTjkivRBEyopsbz0eq8W7mUv8TsP0Jr6oKmIsxQ8kSHqcsOheI84p1PbRIFowJXbteUiiryVIrCQ3JqyQs+GlHLi3tMj995LGizteqVAzvO7SfFUZR+a7Xh/IyX4DqrxwFuSGfuBL0EDARqNtdXunjxoDfWcj4/na6r4o5hg8r7qVSPIxVLlEGlKyPdMWYoSgDCcevw7hwwLkCKUk+fNoXBFS+n9eCMhW7eOxgz/nwYxeasVTAQ0dgB6gJojh47uvXsJzQRUFafgw2CT1R3e0TsyI+IOwhOKRwaR4+/L/pshrl7TbxtilOqcAmd4DHGcqo8gNJwZfq8ZdqRxuzm+krGpHBtOqB1PiG66EpZztAH6YjvsxWp1ph2lS12TKzJfGqTkNGeDajRzF5CaX6ZLUC8id8JClINvHmWnGtH6SWxZyxJ9biQLFhLwID50Wymkj3J+Uos+DRFPZq1lHpkdlQ2pa0vK0i4AzrHGUZGaRg7r0NR+iXytZkOucwkmKoTQpr0Xv2GAhjDiVxw+OrnU5tL4FF6qRezi9BrtYAKtry7W7SujaGbFjd4SOH2nBP85s+dQL00uibCKehTATrJ0xcJzLx/kXos2mmcgbGvUsLiDI6jzhlG5e6KatieD+BCmgwgpM472QnROCgjR6iWsdtvMCFDr3SMYpiZAO6O+liNw6Q4Ggudlf85yB3lFcO0yfo2fY60tLbhAmr4ITIhXsToAjkh4gblEJFQShhKgD6UERbKOIaQ7TTMwDC5NBM1EhQWmBQn424IfY01vCkwnvrABKKAeDDc3iKcUf7E0kgDVXgVIPO7t4RBYvy6OgcfNu/gtA22L6jHQsD5lDiDY0Ebgji1E4ZtxdRqVhKaCZ3t+98QijYxRHEQUZCIfdcT+IchRggqL/rwTbE4MZ/aMIpP7naNR+mkqWtzXgsgjKjlTSeovq83tzd54xGgK47brWwB3UE1ebm+/M6KriK3P3Btqrs7PEpGf+0PRjJwfYE8yJKhYxqnoBgYmjdMoZOoneyEoNxVUc35jYsJ6GYFbPb6GuM42Ql+uRpwkQbwVVWzS/Jagp0Bg1AwzFpn7wQPUFTtT96ZhqhvP/kVlszbANGlgXQlcERoNabXQZBikg1KuAwEMqVhN5kRtAPjhFgiKDOEkBIucV9Skoxg75VRRlgoQ2KM2zFdp+oou2BAmRID+DE2nZnahO0BPvWdQ4A1mDgkzbFCBoMCQXXooHmlqgBZWYnoEw2TT8robJvSS8gGS1OxOweGMpa726wlT5ES8AZrV6cT/GkhhaJaKQGS0xDy+DWJ0hCKnsSQzNIAIB2CSRr2UWlwIIBN9bwKYEvbXC85b9bPpzaIsrPa3HL1VLWY02NqefFw3m43T7uasLWKSzsnM/W3WnelOAGbLg3XhipZZKDOA6WAOwxdCBAUZfOeYMlTL1nz8dh1FqcgJQzNGabQqUk3pIQYFja+ion8tOjd3UTdIBwMLSJMDWEy8/QKTjHFYP5GGVNC4KhyCMDO5sEehlnr7J3g7yVRZcHhVUx6qNe8uHGHgKiuLqDL7ATInYbDWuhv6+5ogUDUEC/aOrUTJAZagxKGkGmbIcZqTKMS5Z5sHdN1qo5yKgyo4+7FSaq0B9wViP4NepgYTNwowTEPxaR7A/YhUI+yL72Vl/x6xtxqWyqv9LhNkJ0wbkdRMIWWMeOuSi4VpygDKUEltg6RE/xpEW1DmAx+6pfgPpRYTLe/9cYIUyERp8Bcn5+gqGdMgO+dgjIiQ7WMKwJnCWZu3ucaknboNhTycOhG1vLOnXTYWiV2Mxd2jxOd0LS8Xlsy5EGTaMBgOFJx7DHrydRO4wyM27A4g2NB4mQnBGXUlTL8oM8MAKoDyK0LzuC4AexyQ8iYoulq/eoHz5gS1Th22dv7TkTbuLoJJ/hgEU/Mm+U+sxi5sYOJYOtEJzQYIEijy9tsZX1TYtQb0lDEoIvhndoJkh0nYByDdADtmIIAjTZGRBnH4NhOwwwMkwtOBCAgilVPRwBWAKIZYh5V4gSOG8860WPWjSAYe9FLYUFrQhmJ6dSlIxQc55A4hWOfEaUGaFL2OLfWOINjCROCOLUThm2jKcKfYjyEwicOiZyIQog4BYZIxaCLhK8tLyZu3AKSaAvqoHIimM0EtMLBCHX2CIzY8u5uEbs2RjuHM7oz6wXgNqpv9hSZuIarJV87GLSnCGfSGwk/7eA8IKp3tk976NUEh3tjVXSp6nLVq1huCp6DGVredAR30jNtUQWEPyrTStTIMwAG1ppbRDh+kG3lDn5pR13o9CWDU3t0qrS6nF2C5ujWtGiMbxy4LGoZAFaClLC0vtNQ7zBYeXWnu4KcbUJhgB1AR3wW1LxsOwCZFjjHcVYud2La0omdjQ10De7BJKDF3KXosKxhJH+RQsZa4gBKx1eE6f3Kx9d0uqZtrMLSBNHgppqNocxAfbPTFPW3DavHfQbOJrOZoUoQ4TD0lMLaTrMBvbMdaDJrKHM+qy1ccgLSs4SX3UDpqrIcKahV2JEiTPVm3HnJqYoKwadQqVLgN+42JzWSaWyVUEpDkWDx6ur3jwYje8rQVIupG8jV5svWGHWRupBg4C69mxPjWmxCCBOS3NQhrgMZzn00VbuaBFUD+9SBdILPK+HKheHsFk9gy7u7NXNbK4fqm8tnf/q8jO1wv7XyxSCW9YLT/WY3DvPTw8cm9bVoakURSXckSFpvZTWIjdAZcuVrLUGpoMPVKUEwQLnCRRE5cLITOox7w2I6wGvl9ADECjDC9IAhQao5hoxyoU5KLUpJXoSWo6DON668IcAv2nUwWMvMb3mCO7Cbv6uoW+k3To1YD2FHS0NMXmV9SUXgksF0+qaqAqKjvJAIKgCQGrFEyXuzpIR8bhFCNjUrTqGmbFupgGyKKcp57RxjEaarrQ9lhNUptzulm6icEXLl79wrdYPKL44oilXTIIKb49iVmL3KjhA2IWQv5Mq6t3fBO41g0h/UduEoloKhp4qdli7ZcV90HFI9GR0VBZ6rNxzBaARVe8I0G1gGgE7thBZ5VDvEblUj6kYeQtEkhtr8ikZAKttVGFZhOwiN3k8IBmBRlADL6eZTW4jSe3vwMEHyARTsdpSA92EesuU9zKtDbGRgnxnwR90eJveJ4u1nDxPvU2hf3w6TziXIDnPv0q1d0XZmlykOq3tbaDtzWLET11QMLPCFOfb62PJOtQNoRAbGwcD+neXSBpQ3Do5eTzAPIiVGeHNoYXahriiil2JQXphKZgY64tJn5mohHY7eaRWWYZEPnlBKI7LlbSjhBBkYLwPz6NSmZQ8O1qN3E9k9kcLJoja8ugVS62d/Kq6/30y7PxbYbsSlL/CqEboyIJu3vBlx5Dhhy3vklpQFkQEyQAbIABkgA2SADHgG2PJ6PiiRATJABsgAGSADZIAMHDkG2PIeuSVlQWSADJABMkAGyAAZIAOeAba8ng9KZIAMkAEyQAbIABkgA0eOAba8R25JWRAZIANkgAyQATJABsiAZ4Atr+eDEhkgA2SADJABMkAGyMCRY4At75FbUhZEBsgAGSADZIAMkAEy4Blgy+v5oEQGyAAZIANkgAyQATJw5Bhgy7uwS6rfdr7/3xi9+6/Y3wXjWvMh+3r+w4hpFxQfIlfZauUfY8B95xQHCRhBHQiO7Tff9hbTAp9fpGkzHiY7V/2Br/sumVl0/Lssn+4jZoAt784XX2+8+d8WOoA2TM9gtrw7X785ebp74ZxiMowwoBeYXVl4l3aKg+QKQR0Ajmm23jQ200GfX6Tp8h0uK1e9COXo7doEukPLvztXfm+zkoK6xjKDPX7tgrzHKRmeDBwKBtjy7nAZ9NCy27HcnMt4hwEXxe1AT0t33zkkjB1GTJPJ5JDCGli04Z01rB0IO5tqtjSzWc+GZHvrjbW2V2qWvZnYPm6Pxfwi9SQ41NOuehF6W17ZFPWvE3YpuhuE3zca2un3mgmff6+zMT4ZODwMjKzlTYfL0lI9r3a4FOM9Mw60cnff2eHSzdvtMGKy++xC/R42vLOGtXNb1NnSzGY9N5ADgZrd2EwMOA+r5hdpOM/h1LrqRehpeWVLtO1rmI37Jsp7TcF+59vrehifDEzLwJhaXj20+v/YNC1laheOMPB1R2NsPcRtbSP9xTYhgaZkCqWVoF7u3Gqc1cTsmx6/KpxKosBPOdWhPpdV5tEHqklvMzZFWiT1QnONYwkRHt4/dB69epJHOyeLz9qGpcjRaiDDYEjLazVxnFnsqg4RLJNwgaoOHB1TgWEIIHFX1jchvDEDU7oANt+/WLCKkKGUngYYFqz6cQR/t8Sik3JToEqeAk6Tms+wV9v4DjbAMmMLnrafJUlwEsddBXeCiDW4bAhKDEHplhoViLEGb1CpWY0HfKsTYrWI1TrVXUPU7d72Y86rP83K+sb6im/m0NM5gsKw1UrzCGzwCod1CVBnYWgWW8HTxWZArHitGhFsDLvYbWnvrxm6XQa8NAYy5XaVg2S7r+Tw+f0OFDRuxXoJqApnb8GrGq5bU+IrFOEQQgBMAOYeqShW1jezW3FB+zIp+UHh8iI2jsfEwIhaXtj8cEfY6WJbNHd9STBVwNXl5HClqq5EmEUpmcS+x9nQ5XPZ5/GOQTI+XHCbbLK64lzp6L+5vgKE5GBaLUxXBwlaFB66y+cEl9wLcVE0M1AX1mxjrZAKdbs/IjvsCgNuz04Z2K1F1vssZmuhSYBq4WKHxJ6OhoJQpdM71+76BwoZxgEchhhhBzdaB9FpES9SWjdaP2saCH75QP94USF2HWtiW464WD4SSjiuGF10H8wo7b5+sfyhZa2Q6/b0vomMnovNKQ1RscWa/EqipqdajWY8Sp4U1k+7/KUtzV6GZ8CzXOLDtqotZXkJlqhXoTCtlumsnEuuzCJAShnqvvDoimVMFuUaSjXm57fa0AZyAXvOBUuCq25z5RWVsCVccZvrKxmhm06ngGFPUt3OmgGjz7wVC0YOxsEAW95drLOeCLF9dsdEV7dVrl7JjFcrjhUVTsi4NoKN2gWKWX0eAegwNBMeViAogirHsZWTJtAsRMiiTyv2LpQ5OT5RaDxgAu0kkJPFzudyaks89CohjMPGGSZkaHYaDydaHOEG14FgKDHkjSVLJHF1DNcJ79mRVgnsKyR6R7nGQ/QGqUaN2nbVzBYzNF41XRk5Gyf4S6ORSoQ0iK541Qkmw6fWMNH4hbhtXqxQjDGCjHsWMux08YyRUMZxggQzMGx0g/sBsSbP+P8ei3YaZ3DcUZdTO6HlANUy7mUTgDd0FF2M5sOZGVql6zzdOeT/bt+Yg7y2SXEGx93WOZbLLXM4IeMeAmKCHK7jBQNOq+6J3k7jjI4dXzLTN7ENrA6knDrqDIyo5U3nRz1n3GW+m3WW66o2UXh9SlQnN5cgamdT+nPLHWIxqz/jMtxKBKJXHtSijx5AqeBDnHJ+m9KdRo5msTCtRIWM5mzBTaXzSYgmyTTHAztN6WSooODRkusilnkcmE0GZdBdbLWvCYJL9szVVLOSpWMqL54xATfImNjLXsr7EKKkoRVhQI3ogigPTO8DwEqAY8xcY8XyvOyluIlR6zKoALRYOnGAH6s0XilBxjQWyV5dWp0E65AuZ8609GG0yOFiDqeGv34tFtQG1TcY4wTKAN+Q1Kk6yrro6QGINGW1GMjyxuVO82gZ8KBKjJ3aCbtgcxhd1mIyGRsN4JwhdO5BdSka5+SLSirIFimIssVq52OQZikNj4LrKcnCJ+6hanPSqHBGwDYVXwBRQ3VOg2V3LQ1+Q6PmIS8m43h0DIyp5cXmwS7pOS24XuRwceezX6K7axSu3ZQZtbMpw9kQnDGuZAI1DDurF72dGB0G4B6T9FjDzdBbiH9aCAlaOFMAZYFcEhBg6KOKFJVOhgq8p1p1n49J5SAaQhdbA9YEdeQzBbOibO1nSOyBeKmlpOSsg5Sr/NJSFW7/4LSOp88Uy/Oyl+IqojZmhCsbLkK/o2y58FJQ+Bh4tkKdtQ/TkCQTYtJ3MQT3WCGoo8qnarRxAmWIalHqVB1l3TaeFsFexb+7Wgxk1nG50zxaBjyoEmOndkK790EdwwAeP+w3hGjp4ClbDSKIUc+GTPuinC3g5ItKCsgWIUXZIrXzA0HMCV7Vv/tcFCtfGvg1Q7UsPAAItOyYhqnBWjAMjn1e1HA8OgZG1vLu1foOXJPuGgW7BAUncKxanMBxrsJNOWEXh7yD20UXJsJxl22a6w8pGrk/uCcvg7kTURhKjnYCwslDjuHWWYoKPii62CFZoysB4006KTBu5wwaxOBe9lJ3OkRjY8xgc4HAOq2jmCnK1TzG9rKXhlatJ0OdDqGc6ISGl6it4BtTP1GTO5co9JmFvNEM1TiO4f1OF22MhDKOUySYgWGja6I2OFoXMOmpoJ3GGRx31OXUTmg5QDWOAWIzbOgoFi6CmrU9r9jUjje2sr2xWwXO4FjQRLkbocwiZBwXj3bQZ9abtA2hM9W+jpxpO40zOE5u7YwLZ8KUZmbO16PKAFveHa2s69HSr7nlmMNrS8dw2OnJV99GU7H8er+tsqRImN0h5IT29HNqTVTS6kmZJcTeQ4yLpPYAq/ACn1Fw52sMqg7r+Aktfx5nAg2sw9ebPJz+OUa547gKFBB8MsNlqGjdtPJXnskI4VWslPRz3cVLC227xMZMqDnc1rSQgEzyZ5zb19+8lyPBejaNg1wplBHWl1g0CC3+sInRFTJ0bzQwyMhrHgwUMYWcHnzGXyLFAlSu61EZ6sbogwdUroBAXGpt6haDhYyWHay6yCrYOubiS2CnTAK0bbuutqYtH1/TmCW/7hZnVajvqMsR6IR2UZ1aK6tJPZt1kdSsrm5VuE1twBBpqqMW0rdIgKFEd2sQF8j1uM0ClRjb7dt+ArY/F/pZwfQ9F4BPXD6+liopVDdWsAlTEt02xR7uZ0N53XogWI6PNgNseXe4vum6TH+6i9cg6PI3ktn1mM9avUbVF4+5aZSINtunKSdsc8jbGdigB+BJh/By6pAoHbsWCezFzn6sfEQP4ervAG5Svdc2JJAFUIAmlNtLTgPJvap7ERAMFu7DFCswSd/XZHaiqF+bI1gAoLgjE6iLTHbcCsV9MDHGU0PIXR3LZJ3yf6fEeaurVF4GPYV05i0pi3ca1Bj5+9UwXVGmSRcY2WoU7UaDivxyxQ6lU9Z4iKxWUTDKoksWNKtKvw1wvpsZLM8WHSyDGjdFvHpq5ervuOqI3Ls9peQaSzaagABMvZ7bVxuuCggKGUNhgYJYl1M7YfvTsD9pXfeYr2pCssCbbKWVlRV/vTUuGh13Ug3fS3NI1LFAEASidOzbPgJwvgsd6geuGX8GwmrjBpvqQkoOGCHVKISWH1DjfJlOqIuILHF85Blgy7uvS9wcdZh9UImGHJMBMkAGyMACMcA+a4EWi1CPLgNsefd1bQe72kHlvsJkMjJABsgAGZgvA9r28t3F+ZLKaGRgFgbY8s7C1q5tB7vaQeWuUzMAGSADZIAMkAEyQAZGywBb3tEuPQsnA2SADJABMkAGyMBYGGDLO5aVZp1kgAyQATJABsgAGRgtA2x5R7v0LJwMkAEyQAbIABkgA2NhgC3vWFaadZIBMkAGyAAZIANkYLQMsOUd7dKzcDJABsgAGSADZIAMjIUBtrxjWWnWSQbIABkgA2SADJCB0TLAlne0S8/CyQAZIANkgAyQATIwFgbY8o5lpVknGSADZIAMkAEyQAZGywBb3tEuPQsnA2SADJABMkAGyMBYGGDLO5aVZp1kgAyQATJABsgAGRgtA2x5R7v0LJwMkAEyQAbIABkgA2NhgC3vWFaadZIBMkAGyAAZIANkYLQMsOUd7dKzcDJABsgAGSADZIAMjIUBtrxjWWnWSQbIABkgA2SADJCB0TLAlne0S8/CyQAZIANkgAyQATIwFgbY8o5lpVknGSADZIAMkAEyQAZGywBb3tEuPQsnA2SADJABMkAGyMBYGGDLO5aVZp1kgAyQATJABsgAGRgtA2x5R7v0LJwMkAEyQAbIABkgA2NhgC3vWFaadZIBMkAGyAAZIANkYLQMsOUd7dKzcDJABsgAGSADZIAMjIUBtrxjWWnWSQbIABkgA2SADJCB0TLAlne0S8/CyQAZIANkgAyQATIwFgbY8o5lpVknGSADZIAMkAEyQAZGywBb3tEuPQsnA2SADJABMkAGyMBYGPj/49Jbd2hZGW8AAAAASUVORK5CYII=)\n"
      ],
      "metadata": {
        "id": "BkCHEMDtBvm3"
      }
    },
    {
      "cell_type": "code",
      "execution_count": 1,
      "metadata": {
        "id": "Vmy_sP3eBs0P"
      },
      "outputs": [],
      "source": [
        "import pandas as pd"
      ]
    },
    {
      "cell_type": "code",
      "source": [
        "#Read file\n",
        "\n",
        "df = pd.read_csv('titanic.csv')"
      ],
      "metadata": {
        "id": "EB0-aisMDnyI"
      },
      "execution_count": 2,
      "outputs": []
    },
    {
      "cell_type": "code",
      "source": [
        "# Print 5 first row\n",
        "\n",
        "print(df.head())"
      ],
      "metadata": {
        "colab": {
          "base_uri": "https://localhost:8080/"
        },
        "id": "CRaMxAi5D372",
        "outputId": "ac2c1cef-57d4-4786-f213-41865f2ebda2"
      },
      "execution_count": 3,
      "outputs": [
        {
          "output_type": "stream",
          "name": "stdout",
          "text": [
            "   PassengerId  Survived  Pclass  \\\n",
            "0            1         0       3   \n",
            "1            2         1       1   \n",
            "2            3         1       3   \n",
            "3            4         1       1   \n",
            "4            5         0       3   \n",
            "\n",
            "                                                Name     Sex   Age  SibSp  \\\n",
            "0                            Braund, Mr. Owen Harris    male  22.0      1   \n",
            "1  Cumings, Mrs. John Bradley (Florence Briggs Th...  female  38.0      1   \n",
            "2                             Heikkinen, Miss. Laina  female  26.0      0   \n",
            "3       Futrelle, Mrs. Jacques Heath (Lily May Peel)  female  35.0      1   \n",
            "4                           Allen, Mr. William Henry    male  35.0      0   \n",
            "\n",
            "   Parch            Ticket     Fare Cabin Embarked  \n",
            "0      0         A/5 21171   7.2500   NaN        S  \n",
            "1      0          PC 17599  71.2833   C85        C  \n",
            "2      0  STON/O2. 3101282   7.9250   NaN        S  \n",
            "3      0            113803  53.1000  C123        S  \n",
            "4      0            373450   8.0500   NaN        S  \n"
          ]
        }
      ]
    },
    {
      "cell_type": "code",
      "source": [
        "#Structure\n",
        "print(df.info())"
      ],
      "metadata": {
        "colab": {
          "base_uri": "https://localhost:8080/"
        },
        "id": "mFRa3ZAHEC0v",
        "outputId": "5335e87a-9446-4385-d810-86c082402ea9"
      },
      "execution_count": 4,
      "outputs": [
        {
          "output_type": "stream",
          "name": "stdout",
          "text": [
            "<class 'pandas.core.frame.DataFrame'>\n",
            "RangeIndex: 891 entries, 0 to 890\n",
            "Data columns (total 12 columns):\n",
            " #   Column       Non-Null Count  Dtype  \n",
            "---  ------       --------------  -----  \n",
            " 0   PassengerId  891 non-null    int64  \n",
            " 1   Survived     891 non-null    int64  \n",
            " 2   Pclass       891 non-null    int64  \n",
            " 3   Name         891 non-null    object \n",
            " 4   Sex          891 non-null    object \n",
            " 5   Age          714 non-null    float64\n",
            " 6   SibSp        891 non-null    int64  \n",
            " 7   Parch        891 non-null    int64  \n",
            " 8   Ticket       891 non-null    object \n",
            " 9   Fare         891 non-null    float64\n",
            " 10  Cabin        204 non-null    object \n",
            " 11  Embarked     889 non-null    object \n",
            "dtypes: float64(2), int64(5), object(5)\n",
            "memory usage: 83.7+ KB\n",
            "None\n"
          ]
        }
      ]
    },
    {
      "cell_type": "code",
      "source": [
        "#Read dataframe\n",
        "\n",
        "df = pd.DataFrame(df)"
      ],
      "metadata": {
        "id": "H1AuL9mZEK4j"
      },
      "execution_count": 5,
      "outputs": []
    },
    {
      "cell_type": "code",
      "source": [
        "# Missing values\n",
        "\n",
        "missing = df.isna()\n",
        "\n",
        "print(missing) #True = Missing; False = Not missing"
      ],
      "metadata": {
        "colab": {
          "base_uri": "https://localhost:8080/"
        },
        "id": "hqt7-cOpEfxI",
        "outputId": "c5c47beb-0dca-41a1-b6cd-39b3e2b5a975"
      },
      "execution_count": 10,
      "outputs": [
        {
          "output_type": "stream",
          "name": "stdout",
          "text": [
            "     PassengerId  Survived  Pclass   Name    Sex    Age  SibSp  Parch  Ticket  \\\n",
            "0          False     False   False  False  False  False  False  False   False   \n",
            "1          False     False   False  False  False  False  False  False   False   \n",
            "2          False     False   False  False  False  False  False  False   False   \n",
            "3          False     False   False  False  False  False  False  False   False   \n",
            "4          False     False   False  False  False  False  False  False   False   \n",
            "..           ...       ...     ...    ...    ...    ...    ...    ...     ...   \n",
            "886        False     False   False  False  False  False  False  False   False   \n",
            "887        False     False   False  False  False  False  False  False   False   \n",
            "888        False     False   False  False  False   True  False  False   False   \n",
            "889        False     False   False  False  False  False  False  False   False   \n",
            "890        False     False   False  False  False  False  False  False   False   \n",
            "\n",
            "      Fare  Cabin  Embarked  \n",
            "0    False   True     False  \n",
            "1    False  False     False  \n",
            "2    False   True     False  \n",
            "3    False  False     False  \n",
            "4    False   True     False  \n",
            "..     ...    ...       ...  \n",
            "886  False   True     False  \n",
            "887  False  False     False  \n",
            "888  False   True     False  \n",
            "889  False  False     False  \n",
            "890  False   True     False  \n",
            "\n",
            "[891 rows x 12 columns]\n"
          ]
        }
      ]
    },
    {
      "cell_type": "code",
      "source": [
        "missing_count = df.isna().sum()\n",
        "\n",
        "print(missing_count) #Print the number of missing values for each column"
      ],
      "metadata": {
        "colab": {
          "base_uri": "https://localhost:8080/"
        },
        "id": "yaEvIAyKuqsE",
        "outputId": "7efbf54b-f0bc-42ca-ce50-fb66b682ed6a"
      },
      "execution_count": 11,
      "outputs": [
        {
          "output_type": "stream",
          "name": "stdout",
          "text": [
            "PassengerId      0\n",
            "Survived         0\n",
            "Pclass           0\n",
            "Name             0\n",
            "Sex              0\n",
            "Age            177\n",
            "SibSp            0\n",
            "Parch            0\n",
            "Ticket           0\n",
            "Fare             0\n",
            "Cabin          687\n",
            "Embarked         2\n",
            "dtype: int64\n"
          ]
        }
      ]
    },
    {
      "cell_type": "code",
      "source": [
        "# Calculate the total number of missing values\n",
        "missing_counts = df.isnull().sum().sum()\n",
        "\n",
        "# Print the total number of missing values\n",
        "print(f\"Total missing values: {missing_counts}\")"
      ],
      "metadata": {
        "colab": {
          "base_uri": "https://localhost:8080/"
        },
        "id": "BaqG9jHxvvZM",
        "outputId": "3b67da73-772b-4452-9fc4-a92d0121ca98"
      },
      "execution_count": 14,
      "outputs": [
        {
          "output_type": "stream",
          "name": "stdout",
          "text": [
            "Total missing values: 866\n"
          ]
        }
      ]
    },
    {
      "cell_type": "code",
      "source": [
        "#Median of colonne 'Cabin'\n",
        "\n",
        "# Convert 'Cabin' column to numeric if possible, handling errors\n",
        "# If conversion fails due to mixed data types or non-numeric values, it will be skipped\n",
        "median_cabin = pd.to_numeric(df['Cabin'], errors='coerce').median()\n",
        "\n",
        "# Check if median is NaN (indicating non-numeric data)\n",
        "if pd.isna(median_cabin):\n",
        "    print(\"Median cannot be calculated for 'Cabin' column due to non-numeric values.\")\n",
        "else:\n",
        "    print(median_cabin)"
      ],
      "metadata": {
        "colab": {
          "base_uri": "https://localhost:8080/"
        },
        "id": "FJm7SgFlwmZ3",
        "outputId": "9ec3ee7f-7526-40e9-b794-4d484b4a4eca"
      },
      "execution_count": 16,
      "outputs": [
        {
          "output_type": "stream",
          "name": "stdout",
          "text": [
            "Median cannot be calculated for 'Cabin' column due to non-numeric values.\n"
          ]
        }
      ]
    },
    {
      "cell_type": "code",
      "source": [
        "print(df['Cabin'].unique())  # Affiche les valeurs uniques de la colonne\n"
      ],
      "metadata": {
        "colab": {
          "base_uri": "https://localhost:8080/"
        },
        "id": "G8D_fjcJx10K",
        "outputId": "abac6a29-cdbe-43cb-c7fa-69347051538f"
      },
      "execution_count": 17,
      "outputs": [
        {
          "output_type": "stream",
          "name": "stdout",
          "text": [
            "[nan 'C85' 'C123' 'E46' 'G6' 'C103' 'D56' 'A6' 'C23 C25 C27' 'B78' 'D33'\n",
            " 'B30' 'C52' 'B28' 'C83' 'F33' 'F G73' 'E31' 'A5' 'D10 D12' 'D26' 'C110'\n",
            " 'B58 B60' 'E101' 'F E69' 'D47' 'B86' 'F2' 'C2' 'E33' 'B19' 'A7' 'C49'\n",
            " 'F4' 'A32' 'B4' 'B80' 'A31' 'D36' 'D15' 'C93' 'C78' 'D35' 'C87' 'B77'\n",
            " 'E67' 'B94' 'C125' 'C99' 'C118' 'D7' 'A19' 'B49' 'D' 'C22 C26' 'C106'\n",
            " 'C65' 'E36' 'C54' 'B57 B59 B63 B66' 'C7' 'E34' 'C32' 'B18' 'C124' 'C91'\n",
            " 'E40' 'T' 'C128' 'D37' 'B35' 'E50' 'C82' 'B96 B98' 'E10' 'E44' 'A34'\n",
            " 'C104' 'C111' 'C92' 'E38' 'D21' 'E12' 'E63' 'A14' 'B37' 'C30' 'D20' 'B79'\n",
            " 'E25' 'D46' 'B73' 'C95' 'B38' 'B39' 'B22' 'C86' 'C70' 'A16' 'C101' 'C68'\n",
            " 'A10' 'E68' 'B41' 'A20' 'D19' 'D50' 'D9' 'A23' 'B50' 'A26' 'D48' 'E58'\n",
            " 'C126' 'B71' 'B51 B53 B55' 'D49' 'B5' 'B20' 'F G63' 'C62 C64' 'E24' 'C90'\n",
            " 'C45' 'E8' 'B101' 'D45' 'C46' 'D30' 'E121' 'D11' 'E77' 'F38' 'B3' 'D6'\n",
            " 'B82 B84' 'D17' 'A36' 'B102' 'B69' 'E49' 'C47' 'D28' 'E17' 'A24' 'C50'\n",
            " 'B42' 'C148']\n"
          ]
        }
      ]
    },
    {
      "cell_type": "code",
      "source": [
        "df['Cabin'].fillna(df['Cabin'].mode()[0], inplace=True)\n"
      ],
      "metadata": {
        "id": "8P5bQEdtx3Z9"
      },
      "execution_count": 18,
      "outputs": []
    },
    {
      "cell_type": "code",
      "source": [
        "df['Cabin'] = df['Cabin'].astype(str).str[0]  # Prend la première lettre de la cabine\n",
        "df['Cabin'].fillna(df['Cabin'].mode()[0], inplace=True)\n"
      ],
      "metadata": {
        "colab": {
          "base_uri": "https://localhost:8080/"
        },
        "id": "HlfZmezyyd3u",
        "outputId": "e76ee452-cab2-485b-d43f-e8d9eb61b117"
      },
      "execution_count": 19,
      "outputs": [
        {
          "output_type": "stream",
          "name": "stderr",
          "text": [
            "<ipython-input-19-74c719ff592d>:2: FutureWarning: A value is trying to be set on a copy of a DataFrame or Series through chained assignment using an inplace method.\n",
            "The behavior will change in pandas 3.0. This inplace method will never work because the intermediate object on which we are setting values always behaves as a copy.\n",
            "\n",
            "For example, when doing 'df[col].method(value, inplace=True)', try using 'df.method({col: value}, inplace=True)' or df[col] = df[col].method(value) instead, to perform the operation inplace on the original object.\n",
            "\n",
            "\n",
            "  df['Cabin'].fillna(df['Cabin'].mode()[0], inplace=True)\n"
          ]
        }
      ]
    },
    {
      "cell_type": "code",
      "source": [
        "print(df['Cabin'].isnull().sum())  # Devrait être 0 si toutes les valeurs sont imputées\n"
      ],
      "metadata": {
        "colab": {
          "base_uri": "https://localhost:8080/"
        },
        "id": "nxyxBtEKyhFO",
        "outputId": "32c5cec8-feaf-4400-ed67-df937ff057ba"
      },
      "execution_count": 20,
      "outputs": [
        {
          "output_type": "stream",
          "name": "stdout",
          "text": [
            "0\n"
          ]
        }
      ]
    }
  ]
}